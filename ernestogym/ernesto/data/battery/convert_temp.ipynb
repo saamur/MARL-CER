{
 "cells": [
  {
   "cell_type": "code",
   "id": "initial_id",
   "metadata": {
    "collapsed": true,
    "ExecuteTime": {
     "end_time": "2025-02-21T17:25:41.687286Z",
     "start_time": "2025-02-21T17:25:41.428377Z"
    }
   },
   "source": [
    "import os\n",
    "import pandas as pd"
   ],
   "outputs": [],
   "execution_count": 1
  },
  {
   "metadata": {
    "ExecuteTime": {
     "end_time": "2025-02-21T17:25:41.692551Z",
     "start_time": "2025-02-21T17:25:41.690656Z"
    }
   },
   "cell_type": "code",
   "source": "files = os.listdir('params/')",
   "id": "9ae3a9440b17b618",
   "outputs": [],
   "execution_count": 2
  },
  {
   "metadata": {
    "ExecuteTime": {
     "end_time": "2025-02-21T17:25:41.778903Z",
     "start_time": "2025-02-21T17:25:41.767761Z"
    }
   },
   "cell_type": "code",
   "source": [
    "for f in files:\n",
    "    df = pd.read_csv('params/' + f)\n",
    "    df['temp'] = df['temp'] + 273.15\n",
    "    df.to_csv('params_kelvin/' + f, index=False)"
   ],
   "id": "22e34c31f51172b5",
   "outputs": [],
   "execution_count": 3
  },
  {
   "metadata": {
    "ExecuteTime": {
     "end_time": "2025-02-21T17:25:41.818513Z",
     "start_time": "2025-02-21T17:25:41.812342Z"
    }
   },
   "cell_type": "code",
   "source": "df = pd.read_csv('params/c_cell.csv')",
   "id": "aa90945efd7e74cf",
   "outputs": [],
   "execution_count": 4
  },
  {
   "metadata": {
    "ExecuteTime": {
     "end_time": "2025-02-21T17:25:41.884744Z",
     "start_time": "2025-02-21T17:25:41.868051Z"
    }
   },
   "cell_type": "code",
   "source": "df.head()",
   "id": "1309ed6b2132ef46",
   "outputs": [
    {
     "data": {
      "text/plain": [
       "   temp   soc            c\n",
       "0     0  0.00   149.512479\n",
       "1     0  0.05   477.073388\n",
       "2     0  0.10  1489.964003\n",
       "3     0  0.15  2502.854617\n",
       "4     0  0.20  3516.885817"
      ],
      "text/html": [
       "<div>\n",
       "<style scoped>\n",
       "    .dataframe tbody tr th:only-of-type {\n",
       "        vertical-align: middle;\n",
       "    }\n",
       "\n",
       "    .dataframe tbody tr th {\n",
       "        vertical-align: top;\n",
       "    }\n",
       "\n",
       "    .dataframe thead th {\n",
       "        text-align: right;\n",
       "    }\n",
       "</style>\n",
       "<table border=\"1\" class=\"dataframe\">\n",
       "  <thead>\n",
       "    <tr style=\"text-align: right;\">\n",
       "      <th></th>\n",
       "      <th>temp</th>\n",
       "      <th>soc</th>\n",
       "      <th>c</th>\n",
       "    </tr>\n",
       "  </thead>\n",
       "  <tbody>\n",
       "    <tr>\n",
       "      <th>0</th>\n",
       "      <td>0</td>\n",
       "      <td>0.00</td>\n",
       "      <td>149.512479</td>\n",
       "    </tr>\n",
       "    <tr>\n",
       "      <th>1</th>\n",
       "      <td>0</td>\n",
       "      <td>0.05</td>\n",
       "      <td>477.073388</td>\n",
       "    </tr>\n",
       "    <tr>\n",
       "      <th>2</th>\n",
       "      <td>0</td>\n",
       "      <td>0.10</td>\n",
       "      <td>1489.964003</td>\n",
       "    </tr>\n",
       "    <tr>\n",
       "      <th>3</th>\n",
       "      <td>0</td>\n",
       "      <td>0.15</td>\n",
       "      <td>2502.854617</td>\n",
       "    </tr>\n",
       "    <tr>\n",
       "      <th>4</th>\n",
       "      <td>0</td>\n",
       "      <td>0.20</td>\n",
       "      <td>3516.885817</td>\n",
       "    </tr>\n",
       "  </tbody>\n",
       "</table>\n",
       "</div>"
      ]
     },
     "execution_count": 5,
     "metadata": {},
     "output_type": "execute_result"
    }
   ],
   "execution_count": 5
  },
  {
   "metadata": {
    "ExecuteTime": {
     "end_time": "2025-02-21T17:25:41.954843Z",
     "start_time": "2025-02-21T17:25:41.953099Z"
    }
   },
   "cell_type": "code",
   "source": "df['temp'] = df['temp'] + 273.15",
   "id": "4d57b16dc81b0484",
   "outputs": [],
   "execution_count": 6
  },
  {
   "metadata": {
    "ExecuteTime": {
     "end_time": "2025-02-21T17:25:42.016760Z",
     "start_time": "2025-02-21T17:25:42.003819Z"
    }
   },
   "cell_type": "code",
   "source": "df",
   "id": "8a5b48ea051f7e9",
   "outputs": [
    {
     "data": {
      "text/plain": [
       "       temp   soc             c\n",
       "0    273.15  0.00    149.512479\n",
       "1    273.15  0.05    477.073388\n",
       "2    273.15  0.10   1489.964003\n",
       "3    273.15  0.15   2502.854617\n",
       "4    273.15  0.20   3516.885817\n",
       "..      ...   ...           ...\n",
       "100  313.15  0.80  27444.185704\n",
       "101  313.15  0.85  22034.560547\n",
       "102  313.15  0.90  18592.934966\n",
       "103  313.15  0.95  15151.309385\n",
       "104  313.15  1.00  11709.683803\n",
       "\n",
       "[105 rows x 3 columns]"
      ],
      "text/html": [
       "<div>\n",
       "<style scoped>\n",
       "    .dataframe tbody tr th:only-of-type {\n",
       "        vertical-align: middle;\n",
       "    }\n",
       "\n",
       "    .dataframe tbody tr th {\n",
       "        vertical-align: top;\n",
       "    }\n",
       "\n",
       "    .dataframe thead th {\n",
       "        text-align: right;\n",
       "    }\n",
       "</style>\n",
       "<table border=\"1\" class=\"dataframe\">\n",
       "  <thead>\n",
       "    <tr style=\"text-align: right;\">\n",
       "      <th></th>\n",
       "      <th>temp</th>\n",
       "      <th>soc</th>\n",
       "      <th>c</th>\n",
       "    </tr>\n",
       "  </thead>\n",
       "  <tbody>\n",
       "    <tr>\n",
       "      <th>0</th>\n",
       "      <td>273.15</td>\n",
       "      <td>0.00</td>\n",
       "      <td>149.512479</td>\n",
       "    </tr>\n",
       "    <tr>\n",
       "      <th>1</th>\n",
       "      <td>273.15</td>\n",
       "      <td>0.05</td>\n",
       "      <td>477.073388</td>\n",
       "    </tr>\n",
       "    <tr>\n",
       "      <th>2</th>\n",
       "      <td>273.15</td>\n",
       "      <td>0.10</td>\n",
       "      <td>1489.964003</td>\n",
       "    </tr>\n",
       "    <tr>\n",
       "      <th>3</th>\n",
       "      <td>273.15</td>\n",
       "      <td>0.15</td>\n",
       "      <td>2502.854617</td>\n",
       "    </tr>\n",
       "    <tr>\n",
       "      <th>4</th>\n",
       "      <td>273.15</td>\n",
       "      <td>0.20</td>\n",
       "      <td>3516.885817</td>\n",
       "    </tr>\n",
       "    <tr>\n",
       "      <th>...</th>\n",
       "      <td>...</td>\n",
       "      <td>...</td>\n",
       "      <td>...</td>\n",
       "    </tr>\n",
       "    <tr>\n",
       "      <th>100</th>\n",
       "      <td>313.15</td>\n",
       "      <td>0.80</td>\n",
       "      <td>27444.185704</td>\n",
       "    </tr>\n",
       "    <tr>\n",
       "      <th>101</th>\n",
       "      <td>313.15</td>\n",
       "      <td>0.85</td>\n",
       "      <td>22034.560547</td>\n",
       "    </tr>\n",
       "    <tr>\n",
       "      <th>102</th>\n",
       "      <td>313.15</td>\n",
       "      <td>0.90</td>\n",
       "      <td>18592.934966</td>\n",
       "    </tr>\n",
       "    <tr>\n",
       "      <th>103</th>\n",
       "      <td>313.15</td>\n",
       "      <td>0.95</td>\n",
       "      <td>15151.309385</td>\n",
       "    </tr>\n",
       "    <tr>\n",
       "      <th>104</th>\n",
       "      <td>313.15</td>\n",
       "      <td>1.00</td>\n",
       "      <td>11709.683803</td>\n",
       "    </tr>\n",
       "  </tbody>\n",
       "</table>\n",
       "<p>105 rows × 3 columns</p>\n",
       "</div>"
      ]
     },
     "execution_count": 7,
     "metadata": {},
     "output_type": "execute_result"
    }
   ],
   "execution_count": 7
  },
  {
   "metadata": {
    "ExecuteTime": {
     "end_time": "2025-02-21T17:45:43.740952Z",
     "start_time": "2025-02-21T17:45:43.734469Z"
    }
   },
   "cell_type": "code",
   "source": [
    "from flax import struct\n",
    "\n",
    "@struct.dataclass\n",
    "class S:\n",
    "    x: int\n",
    "    y: int\n",
    "\n",
    "@struct.dataclass\n",
    "class Q(S):  # Q extends S with an additional field\n",
    "    z: int\n",
    "\n",
    "class A:\n",
    "    def method(self) -> S:\n",
    "        return S(x=1, y=2)\n",
    "\n",
    "class B(A):\n",
    "    def method(self) -> Q:\n",
    "        s = super().method()  # Get the base struct\n",
    "        return Q(**s.__dict__, z=3)  # Extend with the new field\n",
    "\n",
    "b = B()\n",
    "result = b.method()\n",
    "print(result)  # Q(x=1, y=2, z=3)"
   ],
   "id": "b5265fb11162cbca",
   "outputs": [
    {
     "name": "stdout",
     "output_type": "stream",
     "text": [
      "Q(x=1, y=2, z=3)\n"
     ]
    }
   ],
   "execution_count": 10
  }
 ],
 "metadata": {
  "kernelspec": {
   "display_name": "Python 3",
   "language": "python",
   "name": "python3"
  },
  "language_info": {
   "codemirror_mode": {
    "name": "ipython",
    "version": 2
   },
   "file_extension": ".py",
   "mimetype": "text/x-python",
   "name": "python",
   "nbconvert_exporter": "python",
   "pygments_lexer": "ipython2",
   "version": "2.7.6"
  }
 },
 "nbformat": 4,
 "nbformat_minor": 5
}
