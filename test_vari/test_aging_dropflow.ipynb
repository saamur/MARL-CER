{
 "cells": [
  {
   "metadata": {
    "ExecuteTime": {
     "end_time": "2025-02-08T10:32:01.179763Z",
     "start_time": "2025-02-08T10:32:00.817675Z"
    }
   },
   "cell_type": "code",
   "source": [
    "%load_ext autoreload\n",
    "%autoreload 2\n",
    "%matplotlib inline\n",
    "%cd ../"
   ],
   "id": "6a98c0a5ffd23357",
   "outputs": [
    {
     "name": "stdout",
     "output_type": "stream",
     "text": [
      "/media/samuele/Disco/PycharmProjectsUbuntu/MARL-CER\n"
     ]
    }
   ],
   "execution_count": 1
  },
  {
   "metadata": {
    "ExecuteTime": {
     "end_time": "2025-02-08T10:32:01.460711Z",
     "start_time": "2025-02-08T10:32:01.259144Z"
    }
   },
   "cell_type": "code",
   "source": [
    "import os\n",
    "\n",
    "# os.environ[\"JAX_PLATFORM_NAME\"] = \"cpu\"\n",
    "\n",
    "import jax\n",
    "import jax.numpy as jnp"
   ],
   "id": "5ce1ac2d63d7ba02",
   "outputs": [],
   "execution_count": 2
  },
  {
   "metadata": {
    "ExecuteTime": {
     "end_time": "2025-02-08T10:32:01.723478Z",
     "start_time": "2025-02-08T10:32:01.465245Z"
    }
   },
   "cell_type": "code",
   "source": "jax.devices()",
   "id": "9d196ae02fa3c910",
   "outputs": [
    {
     "data": {
      "text/plain": [
       "[CudaDevice(id=0)]"
      ]
     },
     "execution_count": 3,
     "metadata": {},
     "output_type": "execute_result"
    }
   ],
   "execution_count": 3
  },
  {
   "metadata": {
    "ExecuteTime": {
     "end_time": "2025-02-08T10:32:01.737292Z",
     "start_time": "2025-02-08T10:32:01.728506Z"
    }
   },
   "cell_type": "code",
   "source": "jax.devices('cpu')",
   "id": "acdfb3ca8a2022c2",
   "outputs": [
    {
     "data": {
      "text/plain": [
       "[CpuDevice(id=0)]"
      ]
     },
     "execution_count": 4,
     "metadata": {},
     "output_type": "execute_result"
    }
   ],
   "execution_count": 4
  },
  {
   "metadata": {
    "ExecuteTime": {
     "end_time": "2025-02-08T10:32:01.890605Z",
     "start_time": "2025-02-08T10:32:01.774152Z"
    }
   },
   "cell_type": "code",
   "source": [
    "o = jnp.ones(100)\n",
    "o.device"
   ],
   "id": "22a694224ae5ac75",
   "outputs": [
    {
     "data": {
      "text/plain": [
       "CudaDevice(id=0)"
      ]
     },
     "execution_count": 5,
     "metadata": {},
     "output_type": "execute_result"
    }
   ],
   "execution_count": 5
  },
  {
   "cell_type": "code",
   "id": "initial_id",
   "metadata": {
    "collapsed": true,
    "ExecuteTime": {
     "end_time": "2025-02-08T10:32:02.568936Z",
     "start_time": "2025-02-08T10:32:01.933342Z"
    }
   },
   "source": "from ernestogym.envs.single_agent.utils import parameter_generator",
   "outputs": [],
   "execution_count": 6
  },
  {
   "metadata": {
    "ExecuteTime": {
     "end_time": "2025-02-08T10:32:02.586610Z",
     "start_time": "2025-02-08T10:32:02.573638Z"
    }
   },
   "cell_type": "code",
   "source": [
    "import os\n",
    "print(os.getcwd())"
   ],
   "id": "87e09ef71ac1924d",
   "outputs": [
    {
     "name": "stdout",
     "output_type": "stream",
     "text": [
      "/media/samuele/Disco/PycharmProjectsUbuntu/MARL-CER\n"
     ]
    }
   ],
   "execution_count": 7
  },
  {
   "metadata": {
    "ExecuteTime": {
     "end_time": "2025-02-08T10:32:02.656885Z",
     "start_time": "2025-02-08T10:32:02.620326Z"
    }
   },
   "cell_type": "code",
   "source": [
    "pack_options = \"ernestogym/ernesto_jax/data/battery/pack.yaml\"\n",
    "ecm = \"ernestogym/ernesto_jax/data/battery/models/electrical/thevenin_pack.yaml\"\n",
    "# ecm = \"ernestogym/ernesto_jax/data/battery/models/electrical/thevenin_fading_pack.yaml\"\n",
    "r2c = \"ernestogym/ernesto_jax/data/battery/models/thermal/r2c_thermal_pack.yaml\"\n",
    "bolun = \"ernestogym/ernesto_jax/data/battery/models/aging/bolun_pack.yaml\"\n",
    "world = \"ernestogym/envs/single_agent/world_deg.yaml\"\n",
    "# world = \"ernestogym/envs/single_agent/world_fading.yaml\"\n",
    "\n",
    "params = parameter_generator(\n",
    "    input_var='current',\n",
    "    battery_options=pack_options,\n",
    "    electrical_model=ecm,\n",
    "    thermal_model=r2c,\n",
    "    aging_model=bolun,\n",
    "    world_options=world,\n",
    "    use_reward_normalization=True\n",
    "\n",
    ")\n",
    "\n",
    "params"
   ],
   "id": "17c74aee41a4e765",
   "outputs": [
    {
     "data": {
      "text/plain": [
       "{'battery': {'sign_convention': 'passive',\n",
       "  'params': {'nominal_voltage': 350.4,\n",
       "   'nominal_capacity': 60.0,\n",
       "   'nominal_dod': 0.8,\n",
       "   'nominal_lifetime': 3000,\n",
       "   'v_max': 398.4,\n",
       "   'v_min': 288.0,\n",
       "   'temp_ambient': 298.15,\n",
       "   'nominal_cost': 3000},\n",
       "  'bounds': {'voltage': {'low': 288.0, 'high': 398.4},\n",
       "   'current': {'low': -180.0, 'high': 60.0},\n",
       "   'power': {'low': -71712.0, 'high': 23904.0},\n",
       "   'temperature': {'low': 273.15, 'high': 323.15},\n",
       "   'temp_ambient': {'low': 273.15, 'high': 313.15},\n",
       "   'soc': {'low': 0.2, 'high': 0.8},\n",
       "   'soh': {'low': 0.8, 'high': 1.0}},\n",
       "  'init': {'voltage': 288.0,\n",
       "   'current': 0.0,\n",
       "   'power': 0.0,\n",
       "   'temperature': 293.15,\n",
       "   'temp_ambient': 293.15,\n",
       "   'soc': 0.5,\n",
       "   'soh': 1.0}},\n",
       " 'input_var': 'current',\n",
       " 'models_config': [{'type': 'electrical',\n",
       "   'class_name': 'TheveninModel',\n",
       "   'use_fading': False,\n",
       "   'components': {'r0': {'selected_type': 'scalar',\n",
       "     'scalar': 10.0,\n",
       "     'lookup': {'table': 'r0_pack.csv',\n",
       "      'inputs': [{'var': 'temperature', 'label': 'temp', 'unit': 'degC'},\n",
       "       {'var': 'soc', 'label': 'soc', 'unit': None}],\n",
       "      'output': {'var': 'resistance', 'label': 'r0', 'unit': 'ohm'}}},\n",
       "    'r1': {'selected_type': 'scalar',\n",
       "     'scalar': 10.0,\n",
       "     'lookup': {'table': 'r1_pack.csv',\n",
       "      'inputs': [{'var': 'temperature', 'label': 'temp', 'unit': 'degC'},\n",
       "       {'var': 'soc', 'label': 'soc', 'unit': None}],\n",
       "      'output': {'var': 'resistance', 'label': 'r1', 'unit': 'ohm'}}},\n",
       "    'c': {'selected_type': 'scalar',\n",
       "     'scalar': 10.0,\n",
       "     'lookup': {'table': 'c_pack.csv',\n",
       "      'inputs': [{'var': 'temperature', 'label': 'temp', 'unit': 'degC'},\n",
       "       {'var': 'soc', 'label': 'soc', 'unit': None}],\n",
       "      'output': {'var': 'capacity', 'label': 'c', 'unit': 'F'}}},\n",
       "    'v_ocv': {'selected_type': 'scalar',\n",
       "     'scalar': 10.0,\n",
       "     'lookup': {'table': 'voc_pack.csv',\n",
       "      'inputs': [{'var': 'temperature', 'label': 'temp', 'unit': 'degC'},\n",
       "       {'var': 'soc', 'label': 'soc', 'unit': None}],\n",
       "      'output': {'var': 'voltage', 'label': 'voc', 'unit': 'V'}}}}},\n",
       "  {'type': 'thermal',\n",
       "   'class_name': 'R2CThermal',\n",
       "   'components': {'c_term': {'selected_type': 'scalar', 'scalar': 138240},\n",
       "    'r_cond': {'selected_type': 'scalar', 'scalar': 0.0061},\n",
       "    'r_conv': {'selected_type': 'scalar', 'scalar': 0.1994},\n",
       "    'dv_dT': {'selected_type': 'lookup',\n",
       "     'scalar': 0.1,\n",
       "     'lookup': {'inputs': {'soc': [1,\n",
       "        0.9,\n",
       "        0.8,\n",
       "        0.7,\n",
       "        0.6,\n",
       "        0.5,\n",
       "        0.4,\n",
       "        0.3,\n",
       "        0.2,\n",
       "        0.1,\n",
       "        0.0]},\n",
       "      'output': [8e-05,\n",
       "       6e-05,\n",
       "       8e-05,\n",
       "       5e-05,\n",
       "       0.0001,\n",
       "       0.00018,\n",
       "       0.00016,\n",
       "       8e-05,\n",
       "       -5e-05,\n",
       "       -0.00016,\n",
       "       -0.0007]}}}},\n",
       "  {'type': 'aging',\n",
       "   'class_name': 'BolunModel',\n",
       "   'components': {'SEI': {'alpha_sei': 0, 'beta_sei': 0},\n",
       "    'stress_factors': {'calendar': ['time', 'soc', 'temperature'],\n",
       "     'cyclic': ['soc', 'temperature', 'dod_bolun']},\n",
       "    'cycle_counting_mode': 'streamflow'},\n",
       "   'stress_models': {'time': {'k_t': 2.835e-10},\n",
       "    'soc': {'k_soc': 0.6835, 'soc_ref': 0.5},\n",
       "    'temperature': {'k_temp': 0.059965, 'temp_ref': 298.15},\n",
       "    'dod_bolun': {'k_delta1': 0.00018716,\n",
       "     'k_delta2': 4.0585,\n",
       "     'k_delta3': 8.6848e-06},\n",
       "    'dod_quadratic': 0,\n",
       "    'dod_exponential': 0}}],\n",
       " 'demand': {'data':           version https://git-lfs.github.com/spec/v1\n",
       "  0  oid sha256:e8ce10e64da3a0ccbb6fcdb238da4b8c7c9...\n",
       "  1                                     size 173844000,\n",
       "  'timestep': 60,\n",
       "  'test_profiles': ['70', '71', '72'],\n",
       "  'data_usage': 'end'},\n",
       " 'generation': {'data':           version https://git-lfs.github.com/spec/v1\n",
       "  0  oid sha256:fba35c4d3aa420c0d1dafb01fbc72fbf564...\n",
       "  1                                      size 22676124,\n",
       "  'timestep': 60,\n",
       "  'data_usage': 'end'},\n",
       " 'market': {'data':           version https://git-lfs.github.com/spec/v1\n",
       "  0  oid sha256:8bc38581a800a0e0d4b6dc22edf7c642c61...\n",
       "  1                                        size 513408,\n",
       "  'timestep': 3600,\n",
       "  'data_usage': 'end'},\n",
       " 'dummy': {'generator': 10, 'market': {'ask': 10, 'bid': 8}},\n",
       " 'day_of_year': True,\n",
       " 'seconds_of_day': True,\n",
       " 'energy_level': False,\n",
       " 'step': 60,\n",
       " 'seed': 42,\n",
       " 'random_battery_init': False,\n",
       " 'random_data_init': False,\n",
       " 'aging_options': {'degradation': True, 'fading': False},\n",
       " 'reward': {'trading_coeff': 1,\n",
       "  'operational_cost_coeff': 1,\n",
       "  'degradation_coeff': 1,\n",
       "  'clip_action_coeff': 1},\n",
       " 'use_reward_normalization': True,\n",
       " 'termination': {'max_iterations': None, 'min_soh': 0.6}}"
      ]
     },
     "execution_count": 8,
     "metadata": {},
     "output_type": "execute_result"
    }
   ],
   "execution_count": 8
  },
  {
   "metadata": {
    "ExecuteTime": {
     "end_time": "2025-02-08T10:32:02.765832Z",
     "start_time": "2025-02-08T10:32:02.667163Z"
    }
   },
   "cell_type": "code",
   "source": "from ernestogym.ernesto_jax.energy_storage.bess_degrading_dropflow import BatteryEnergyStorageSystem",
   "id": "8619a9404480058e",
   "outputs": [],
   "execution_count": 9
  },
  {
   "metadata": {
    "ExecuteTime": {
     "end_time": "2025-02-08T10:32:02.932173Z",
     "start_time": "2025-02-08T10:32:02.771950Z"
    }
   },
   "cell_type": "code",
   "source": [
    "state = BatteryEnergyStorageSystem.get_init_state(models_config=params['models_config'],\n",
    "                                                  battery_options=params['battery'],\n",
    "                                                  input_var=params['input_var'])\n",
    "print(state)"
   ],
   "id": "9008aad008eb43d4",
   "outputs": [
    {
     "name": "stdout",
     "output_type": "stream",
     "text": [
      "BessState(nominal_capacity=Array(60., dtype=float32, weak_type=True), c_max=Array(60., dtype=float32, weak_type=True), temp_ambient=Array(298.15, dtype=float32, weak_type=True), elapsed_time=Array(0., dtype=float32, weak_type=True), electrical_state=ElectricalModelState(r0_nominal=Array(10., dtype=float32, weak_type=True), r0=Array(10., dtype=float32, weak_type=True), rc=RCState(resistance_nominal=Array(10., dtype=float32, weak_type=True), resistance=Array(10., dtype=float32, weak_type=True), capacity=Array(10., dtype=float32, weak_type=True), i_resistance=Array(0., dtype=float32, weak_type=True)), ocv_potential=Array(10., dtype=float32, weak_type=True), is_active=Array(False, dtype=bool), v=Array(0., dtype=float32, weak_type=True), i=Array(0., dtype=float32, weak_type=True), v_rc=Array(0., dtype=float32, weak_type=True)), thermal_state=ThermalModelState(c_term=Array(138240, dtype=int32, weak_type=True), r_cond=Array(0.0061, dtype=float32, weak_type=True), r_conv=Array(0.1994, dtype=float32, weak_type=True), dv_dT=Array(0.1, dtype=float32, weak_type=True), temp=Array(293.15, dtype=float32, weak_type=True), heat=Array(0., dtype=float32, weak_type=True)), soc_state=SOCModelState(soc=Array(0.5, dtype=float32, weak_type=True), soc_max=Array(0.8, dtype=float32, weak_type=True), soc_min=Array(0.2, dtype=float32, weak_type=True)), aging_state=BolunDropflowState(init_soh=Array(1., dtype=float32, weak_type=True), soh=Array(1., dtype=float32, weak_type=True), soc_mean=Array(1., dtype=float32, weak_type=True), temp_battery_mean=Array(0., dtype=float32, weak_type=True), temp_history=Array([0., 0., 0., ..., 0., 0., 0.], dtype=float32), n_steps=Array(0, dtype=int32, weak_type=True), dropflow_state=DropflowState(reversals_idx=Array([0, 0, 0, ..., 0, 0, 0], dtype=int32), reversals_xs=Array([0., 0., 0., ..., 0., 0., 0.], dtype=float32), reversals_length=Array(0, dtype=int32, weak_type=True), mean=Array(0., dtype=float32, weak_type=True), history_length=Array(0, dtype=int32, weak_type=True), idx_last=Array(0, dtype=int32, weak_type=True), x_last=Array(0., dtype=float32, weak_type=True), x=Array(0., dtype=float32, weak_type=True), d_last=Array(0., dtype=float32, weak_type=True), stopper_idx=Array(-1, dtype=int32, weak_type=True), stopper_x=Array(0., dtype=float32, weak_type=True)), f_cyc=Array(0., dtype=float32, weak_type=True), deg=Array(0., dtype=float32, weak_type=True), time_stress_model=TimeStressModel(k_t=Array(2.835e-10, dtype=float32, weak_type=True)), soc_stress_model=SocStressModel(k_soc=Array(0.6835, dtype=float32, weak_type=True), soc_ref=Array(0.5, dtype=float32, weak_type=True)), temp_stress_model=TempStressModel(k_temp=Array(0.059965, dtype=float32, weak_type=True)), dod_bolun_stress_model=DodBolunStressModel(k_delta1=Array(0.00018716, dtype=float32, weak_type=True), k_delta2=Array(4.0585, dtype=float32, weak_type=True), k_delta3=Array(8.6848e-06, dtype=float32, weak_type=True)), alpha_sei=Array(0, dtype=int32, weak_type=True), beta_sei=Array(0, dtype=int32, weak_type=True)), iter=Array(0, dtype=int32, weak_type=True), check_soh_every=Array(100, dtype=int32, weak_type=True))\n"
     ]
    }
   ],
   "execution_count": 10
  },
  {
   "metadata": {
    "ExecuteTime": {
     "end_time": "2025-02-08T10:32:02.954340Z",
     "start_time": "2025-02-08T10:32:02.941236Z"
    }
   },
   "cell_type": "code",
   "source": "# jax.tree.map(lambda a: jnp.array(a), state)",
   "id": "79716d4f3b3244e7",
   "outputs": [],
   "execution_count": 11
  },
  {
   "metadata": {
    "ExecuteTime": {
     "end_time": "2025-02-08T10:32:02.998417Z",
     "start_time": "2025-02-08T10:32:02.984359Z"
    }
   },
   "cell_type": "code",
   "source": [
    "struct_original_state = jax.tree.map(lambda val: val.dtype, state)\n",
    "struct_original_state"
   ],
   "id": "a4d6a11653caea37",
   "outputs": [
    {
     "data": {
      "text/plain": [
       "BessState(nominal_capacity=dtype('float32'), c_max=dtype('float32'), temp_ambient=dtype('float32'), elapsed_time=dtype('float32'), electrical_state=ElectricalModelState(r0_nominal=dtype('float32'), r0=dtype('float32'), rc=RCState(resistance_nominal=dtype('float32'), resistance=dtype('float32'), capacity=dtype('float32'), i_resistance=dtype('float32')), ocv_potential=dtype('float32'), is_active=dtype('bool'), v=dtype('float32'), i=dtype('float32'), v_rc=dtype('float32')), thermal_state=ThermalModelState(c_term=dtype('int32'), r_cond=dtype('float32'), r_conv=dtype('float32'), dv_dT=dtype('float32'), temp=dtype('float32'), heat=dtype('float32')), soc_state=SOCModelState(soc=dtype('float32'), soc_max=dtype('float32'), soc_min=dtype('float32')), aging_state=BolunDropflowState(init_soh=dtype('float32'), soh=dtype('float32'), soc_mean=dtype('float32'), temp_battery_mean=dtype('float32'), temp_history=dtype('float32'), n_steps=dtype('int32'), dropflow_state=DropflowState(reversals_idx=dtype('int32'), reversals_xs=dtype('float32'), reversals_length=dtype('int32'), mean=dtype('float32'), history_length=dtype('int32'), idx_last=dtype('int32'), x_last=dtype('float32'), x=dtype('float32'), d_last=dtype('float32'), stopper_idx=dtype('int32'), stopper_x=dtype('float32')), f_cyc=dtype('float32'), deg=dtype('float32'), time_stress_model=TimeStressModel(k_t=dtype('float32')), soc_stress_model=SocStressModel(k_soc=dtype('float32'), soc_ref=dtype('float32')), temp_stress_model=TempStressModel(k_temp=dtype('float32')), dod_bolun_stress_model=DodBolunStressModel(k_delta1=dtype('float32'), k_delta2=dtype('float32'), k_delta3=dtype('float32')), alpha_sei=dtype('int32'), beta_sei=dtype('int32')), iter=dtype('int32'), check_soh_every=dtype('int32'))"
      ]
     },
     "execution_count": 12,
     "metadata": {},
     "output_type": "execute_result"
    }
   ],
   "execution_count": 12
  },
  {
   "metadata": {
    "ExecuteTime": {
     "end_time": "2025-02-08T10:32:03.909895Z",
     "start_time": "2025-02-08T10:32:03.030993Z"
    }
   },
   "cell_type": "code",
   "source": [
    "from time import time\n",
    "\n",
    "t1 = time()\n",
    "state = BatteryEnergyStorageSystem.step(state, 0.5, 1.)\n",
    "print(time() - t1)"
   ],
   "id": "96d1588c5b92a8d1",
   "outputs": [
    {
     "name": "stdout",
     "output_type": "stream",
     "text": [
      "0.8645999431610107\n"
     ]
    }
   ],
   "execution_count": 13
  },
  {
   "metadata": {
    "ExecuteTime": {
     "end_time": "2025-02-08T10:32:03.940276Z",
     "start_time": "2025-02-08T10:32:03.924931Z"
    }
   },
   "cell_type": "code",
   "source": "jax.tree.map(lambda val: val.dtype, state) == struct_original_state",
   "id": "7aa938f22b4d0740",
   "outputs": [
    {
     "data": {
      "text/plain": [
       "True"
      ]
     },
     "execution_count": 14,
     "metadata": {},
     "output_type": "execute_result"
    }
   ],
   "execution_count": 14
  },
  {
   "metadata": {
    "ExecuteTime": {
     "end_time": "2025-02-08T10:32:03.993186Z",
     "start_time": "2025-02-08T10:32:03.978931Z"
    }
   },
   "cell_type": "code",
   "source": "jax.tree.map(lambda val: val.dtype, state)",
   "id": "492f18cf89887f66",
   "outputs": [
    {
     "data": {
      "text/plain": [
       "BessState(nominal_capacity=dtype('float32'), c_max=dtype('float32'), temp_ambient=dtype('float32'), elapsed_time=dtype('float32'), electrical_state=ElectricalModelState(r0_nominal=dtype('float32'), r0=dtype('float32'), rc=RCState(resistance_nominal=dtype('float32'), resistance=dtype('float32'), capacity=dtype('float32'), i_resistance=dtype('float32')), ocv_potential=dtype('float32'), is_active=dtype('bool'), v=dtype('float32'), i=dtype('float32'), v_rc=dtype('float32')), thermal_state=ThermalModelState(c_term=dtype('int32'), r_cond=dtype('float32'), r_conv=dtype('float32'), dv_dT=dtype('float32'), temp=dtype('float32'), heat=dtype('float32')), soc_state=SOCModelState(soc=dtype('float32'), soc_max=dtype('float32'), soc_min=dtype('float32')), aging_state=BolunDropflowState(init_soh=dtype('float32'), soh=dtype('float32'), soc_mean=dtype('float32'), temp_battery_mean=dtype('float32'), temp_history=dtype('float32'), n_steps=dtype('int32'), dropflow_state=DropflowState(reversals_idx=dtype('int32'), reversals_xs=dtype('float32'), reversals_length=dtype('int32'), mean=dtype('float32'), history_length=dtype('int32'), idx_last=dtype('int32'), x_last=dtype('float32'), x=dtype('float32'), d_last=dtype('float32'), stopper_idx=dtype('int32'), stopper_x=dtype('float32')), f_cyc=dtype('float32'), deg=dtype('float32'), time_stress_model=TimeStressModel(k_t=dtype('float32')), soc_stress_model=SocStressModel(k_soc=dtype('float32'), soc_ref=dtype('float32')), temp_stress_model=TempStressModel(k_temp=dtype('float32')), dod_bolun_stress_model=DodBolunStressModel(k_delta1=dtype('float32'), k_delta2=dtype('float32'), k_delta3=dtype('float32')), alpha_sei=dtype('int32'), beta_sei=dtype('int32')), iter=dtype('int32'), check_soh_every=dtype('int32'))"
      ]
     },
     "execution_count": 15,
     "metadata": {},
     "output_type": "execute_result"
    }
   ],
   "execution_count": 15
  },
  {
   "metadata": {
    "ExecuteTime": {
     "end_time": "2025-02-08T10:32:52.791663Z",
     "start_time": "2025-02-08T10:32:04.022974Z"
    }
   },
   "cell_type": "code",
   "source": [
    "t1 = time()\n",
    "for i in range(10000):\n",
    "    state = BatteryEnergyStorageSystem.step(state, 0.5, 1.)\n",
    "\n",
    "print(time() - t1)"
   ],
   "id": "42cfce6e775bf106",
   "outputs": [
    {
     "name": "stdout",
     "output_type": "stream",
     "text": [
      "48.75608468055725\n"
     ]
    }
   ],
   "execution_count": 16
  },
  {
   "metadata": {
    "ExecuteTime": {
     "end_time": "2025-02-08T10:32:52.846281Z",
     "start_time": "2025-02-08T10:32:52.834445Z"
    }
   },
   "cell_type": "code",
   "source": "# jax.make_jaxpr(BatteryEnergyStorageSystem.step)(state, 0.5, 1.)",
   "id": "b17fb4651f2847be",
   "outputs": [],
   "execution_count": 17
  },
  {
   "metadata": {
    "ExecuteTime": {
     "end_time": "2025-02-08T10:32:52.907231Z",
     "start_time": "2025-02-08T10:32:52.883623Z"
    }
   },
   "cell_type": "code",
   "source": "state",
   "id": "6bd5a7c95e448b83",
   "outputs": [
    {
     "data": {
      "text/plain": [
       "BessState(nominal_capacity=Array(60., dtype=float32, weak_type=True), c_max=Array(0., dtype=float32, weak_type=True), temp_ambient=Array(298.15, dtype=float32, weak_type=True), elapsed_time=Array(0., dtype=float32, weak_type=True), electrical_state=ElectricalModelState(r0_nominal=Array(10., dtype=float32, weak_type=True), r0=Array(10., dtype=float32, weak_type=True), rc=RCState(resistance_nominal=Array(10., dtype=float32, weak_type=True), resistance=Array(10., dtype=float32, weak_type=True), capacity=Array(10., dtype=float32, weak_type=True), i_resistance=Array(-0.49999964, dtype=float32, weak_type=True)), ocv_potential=Array(10., dtype=float32, weak_type=True), is_active=Array(False, dtype=bool), v=Array(19.999996, dtype=float32, weak_type=True), i=Array(-0.5, dtype=float32, weak_type=True), v_rc=Array(-4.9999967, dtype=float32, weak_type=True)), thermal_state=ThermalModelState(c_term=Array(138240, dtype=int32, weak_type=True), r_cond=Array(0.0061, dtype=float32, weak_type=True), r_conv=Array(0.1994, dtype=float32, weak_type=True), dv_dT=Array(0.1, dtype=float32, weak_type=True), temp=Array(298.1536, dtype=float32, weak_type=True), heat=Array(4.999996, dtype=float32, weak_type=True)), soc_state=SOCModelState(soc=Array(1., dtype=float32, weak_type=True), soc_max=Array(0.8, dtype=float32, weak_type=True), soc_min=Array(0.2, dtype=float32, weak_type=True)), aging_state=BolunDropflowState(init_soh=Array(1., dtype=float32, weak_type=True), soh=Array(0., dtype=float32, weak_type=True), soc_mean=Array(0.9998833, dtype=float32, weak_type=True), temp_battery_mean=Array(298.10593, dtype=float32, weak_type=True), temp_history=Array([293.2987, 293.443 , 293.583 , ...,   0.    ,   0.    ,   0.    ],      dtype=float32), n_steps=Array(10001, dtype=int32, weak_type=True), dropflow_state=DropflowState(reversals_idx=Array([0, 0, 0, ..., 0, 0, 0], dtype=int32), reversals_xs=Array([0.5000023, 0.       , 0.       , ..., 0.       , 0.       ,\n",
       "       0.       ], dtype=float32), reversals_length=Array(1, dtype=int32, weak_type=True), mean=Array(0.9998833, dtype=float32, weak_type=True), history_length=Array(10001, dtype=int32, weak_type=True), idx_last=Array(10000, dtype=int32, weak_type=True), x_last=Array(0.5000023, dtype=float32, weak_type=True), x=Array(1., dtype=float32, weak_type=True), d_last=Array(0.49999768, dtype=float32, weak_type=True), stopper_idx=Array(-1, dtype=int32, weak_type=True), stopper_x=Array(0., dtype=float32, weak_type=True)), f_cyc=Array(0., dtype=float32, weak_type=True), deg=Array(1., dtype=float32, weak_type=True), time_stress_model=TimeStressModel(k_t=Array(2.835e-10, dtype=float32, weak_type=True)), soc_stress_model=SocStressModel(k_soc=Array(0.6835, dtype=float32, weak_type=True), soc_ref=Array(0.5, dtype=float32, weak_type=True)), temp_stress_model=TempStressModel(k_temp=Array(0.059965, dtype=float32, weak_type=True)), dod_bolun_stress_model=DodBolunStressModel(k_delta1=Array(0.00018716, dtype=float32, weak_type=True), k_delta2=Array(4.0585, dtype=float32, weak_type=True), k_delta3=Array(8.6848e-06, dtype=float32, weak_type=True)), alpha_sei=Array(0, dtype=int32, weak_type=True), beta_sei=Array(0, dtype=int32, weak_type=True)), iter=Array(0, dtype=int32, weak_type=True), check_soh_every=Array(100, dtype=int32, weak_type=True))"
      ]
     },
     "execution_count": 18,
     "metadata": {},
     "output_type": "execute_result"
    }
   ],
   "execution_count": 18
  },
  {
   "metadata": {},
   "cell_type": "markdown",
   "source": "# Test parallel of states",
   "id": "9ea17273d6e91202"
  },
  {
   "metadata": {
    "ExecuteTime": {
     "end_time": "2025-02-08T10:32:52.946207Z",
     "start_time": "2025-02-08T10:32:52.933485Z"
    }
   },
   "cell_type": "code",
   "source": [
    "import jax\n",
    "import jax.numpy as jnp"
   ],
   "id": "1b144541fd0b6645",
   "outputs": [],
   "execution_count": 19
  },
  {
   "metadata": {
    "ExecuteTime": {
     "end_time": "2025-02-08T10:32:54.243487Z",
     "start_time": "2025-02-08T10:32:52.977454Z"
    }
   },
   "cell_type": "code",
   "source": [
    "state = BatteryEnergyStorageSystem.get_init_state(models_config=params['models_config'],\n",
    "                                                  battery_options=params['battery'],\n",
    "                                                  input_var=params['input_var'])\n",
    "\n",
    "state_list = []\n",
    "\n",
    "n_states = 50\n",
    "\n",
    "for i in range(n_states):\n",
    "    state = BatteryEnergyStorageSystem.step(state, 0.5, 1.)\n",
    "    state_list.append(state)\n",
    "\n",
    "states = jax.tree.map(lambda *vals: jnp.array(vals), *state_list)"
   ],
   "id": "883a1803e12f99",
   "outputs": [],
   "execution_count": 20
  },
  {
   "metadata": {
    "ExecuteTime": {
     "end_time": "2025-02-08T10:32:54.305771Z",
     "start_time": "2025-02-08T10:32:54.292895Z"
    }
   },
   "cell_type": "code",
   "source": "states.nominal_capacity.shape",
   "id": "c6f8af9eace3c7de",
   "outputs": [
    {
     "data": {
      "text/plain": [
       "(50,)"
      ]
     },
     "execution_count": 21,
     "metadata": {},
     "output_type": "execute_result"
    }
   ],
   "execution_count": 21
  },
  {
   "metadata": {
    "ExecuteTime": {
     "end_time": "2025-02-08T10:32:54.414952Z",
     "start_time": "2025-02-08T10:32:54.397400Z"
    }
   },
   "cell_type": "code",
   "source": [
    "# batched_step = jax.vmap(BatteryEnergyStorageSystem.step)\n",
    "batched_step = jax.jit(jax.vmap(BatteryEnergyStorageSystem.step))   #, backend='cpu')"
   ],
   "id": "e75e58d11d2ade7b",
   "outputs": [],
   "execution_count": 22
  },
  {
   "metadata": {
    "ExecuteTime": {
     "end_time": "2025-02-08T10:33:04.367561Z",
     "start_time": "2025-02-08T10:33:04.222549Z"
    }
   },
   "cell_type": "code",
   "source": [
    "t1 = time()\n",
    "states = batched_step(states, jnp.ones(n_states) * 0.5, jnp.ones(n_states))\n",
    "print(time() - t1)"
   ],
   "id": "69c0d4a810f117f",
   "outputs": [
    {
     "name": "stdout",
     "output_type": "stream",
     "text": [
      "0.13129138946533203\n"
     ]
    }
   ],
   "execution_count": 26
  },
  {
   "metadata": {
    "ExecuteTime": {
     "end_time": "2025-02-06T14:18:52.499700Z",
     "start_time": "2025-02-06T14:18:52.488647Z"
    }
   },
   "cell_type": "code",
   "source": [
    "# with jax.profiler.trace(\"/tmp/jax-trace\", create_perfetto_link=True):\n",
    "#     for i in range(1000):\n",
    "#         states = batched_step(states, jnp.ones(n_states) * 0.5, jnp.ones(n_states))\n",
    "#     jax.block_until_ready(states)"
   ],
   "id": "4f089115dc98855e",
   "outputs": [],
   "execution_count": 21
  },
  {
   "metadata": {
    "ExecuteTime": {
     "end_time": "2025-02-08T10:35:23.063531Z",
     "start_time": "2025-02-08T10:33:06.831475Z"
    }
   },
   "cell_type": "code",
   "source": [
    "t1 = time()\n",
    "for i in range(1000):\n",
    "    states = batched_step(states, jnp.ones(n_states) * 0.5, jnp.ones(n_states))\n",
    "\n",
    "jax.block_until_ready(states)\n",
    "print(time() - t1)"
   ],
   "id": "53de7a593d9275b9",
   "outputs": [
    {
     "name": "stdout",
     "output_type": "stream",
     "text": [
      "136.216144323349\n"
     ]
    }
   ],
   "execution_count": 27
  },
  {
   "metadata": {
    "ExecuteTime": {
     "end_time": "2025-02-08T10:35:28.234800Z",
     "start_time": "2025-02-08T10:35:28.221335Z"
    }
   },
   "cell_type": "code",
   "source": "states.nominal_capacity.device",
   "id": "12e9a7ffbe9929e2",
   "outputs": [
    {
     "data": {
      "text/plain": [
       "CudaDevice(id=0)"
      ]
     },
     "execution_count": 28,
     "metadata": {},
     "output_type": "execute_result"
    }
   ],
   "execution_count": 28
  },
  {
   "metadata": {},
   "cell_type": "markdown",
   "source": "## Jitted loop",
   "id": "d2a655037658129f"
  },
  {
   "metadata": {
    "ExecuteTime": {
     "end_time": "2025-02-08T10:35:32.053855Z",
     "start_time": "2025-02-08T10:35:32.036334Z"
    }
   },
   "cell_type": "code",
   "source": [
    "from functools import partial\n",
    "\n",
    "@partial(jax.jit, static_argnums=[0])\n",
    "def maybe_loding(fun, states, act, times):\n",
    "    for i in range(500):\n",
    "        states = batched_step(states, act, times)\n",
    "    return states\n",
    "\n",
    "@partial(jax.jit, static_argnums=[0, 1])\n",
    "def fused_loop(fun, num, states, act, times):\n",
    "    def body_fun(i, states):\n",
    "        return fun(states, act[i], times[i])\n",
    "    return jax.lax.fori_loop(0, num, body_fun, states)"
   ],
   "id": "e4f1bccf77b522b7",
   "outputs": [],
   "execution_count": 29
  },
  {
   "metadata": {},
   "cell_type": "markdown",
   "source": "### single battery",
   "id": "a5e583e0fd310e3c"
  },
  {
   "metadata": {
    "ExecuteTime": {
     "end_time": "2025-02-08T10:37:37.300014Z",
     "start_time": "2025-02-08T10:36:51.540684Z"
    }
   },
   "cell_type": "code",
   "source": [
    "t1 = time()\n",
    "\n",
    "num = 10000\n",
    "\n",
    "state_new = fused_loop(BatteryEnergyStorageSystem.step, num, state, jnp.ones(num) * 0.5, jnp.ones(num))\n",
    "\n",
    "jax.block_until_ready(state_new)\n",
    "print(time() - t1)"
   ],
   "id": "bd79f080cde0ad93",
   "outputs": [
    {
     "name": "stdout",
     "output_type": "stream",
     "text": [
      "45.742671966552734\n"
     ]
    }
   ],
   "execution_count": 31
  },
  {
   "metadata": {},
   "cell_type": "markdown",
   "source": "### multiple batteries",
   "id": "37d4f2bf2941ad95"
  },
  {
   "metadata": {
    "ExecuteTime": {
     "end_time": "2025-02-08T10:39:57.509584Z",
     "start_time": "2025-02-08T10:37:39.863120Z"
    }
   },
   "cell_type": "code",
   "source": [
    "t1 = time()\n",
    "\n",
    "num = 1000\n",
    "\n",
    "states_new = fused_loop(batched_step, num, states, jnp.ones((num, n_states)) * 0.5, jnp.ones((num, n_states)))\n",
    "\n",
    "jax.block_until_ready(states_new)\n",
    "print(time() - t1)"
   ],
   "id": "a86c7ff8ef75d29c",
   "outputs": [
    {
     "name": "stdout",
     "output_type": "stream",
     "text": [
      "137.6321702003479\n"
     ]
    }
   ],
   "execution_count": 32
  }
 ],
 "metadata": {
  "kernelspec": {
   "display_name": "Python 3",
   "language": "python",
   "name": "python3"
  },
  "language_info": {
   "codemirror_mode": {
    "name": "ipython",
    "version": 2
   },
   "file_extension": ".py",
   "mimetype": "text/x-python",
   "name": "python",
   "nbconvert_exporter": "python",
   "pygments_lexer": "ipython2",
   "version": "2.7.6"
  }
 },
 "nbformat": 4,
 "nbformat_minor": 5
}
