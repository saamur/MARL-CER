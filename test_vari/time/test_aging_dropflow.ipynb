{
 "cells": [
  {
   "metadata": {
    "ExecuteTime": {
     "end_time": "2025-02-12T21:37:27.545480Z",
     "start_time": "2025-02-12T21:37:27.181189Z"
    }
   },
   "cell_type": "code",
   "source": [
    "import numpy as np\n",
    "%load_ext autoreload\n",
    "%autoreload 2\n",
    "%matplotlib inline\n",
    "%cd ../.."
   ],
   "id": "6a98c0a5ffd23357",
   "outputs": [
    {
     "name": "stdout",
     "output_type": "stream",
     "text": [
      "/media/samuele/Disco/PycharmProjectsUbuntu/MARL-CER\n"
     ]
    }
   ],
   "execution_count": 1
  },
  {
   "metadata": {
    "ExecuteTime": {
     "end_time": "2025-02-12T21:37:27.766296Z",
     "start_time": "2025-02-12T21:37:27.614460Z"
    }
   },
   "cell_type": "code",
   "source": [
    "import os\n",
    "\n",
    "# os.environ[\"JAX_PLATFORM_NAME\"] = \"cpu\"\n",
    "\n",
    "import jax\n",
    "import jax.numpy as jnp\n",
    "# jax.config.update(\"jax_debug_nans\", True)\n",
    "# jax.config.update(\"jax_enable_x64\", True)"
   ],
   "id": "5ce1ac2d63d7ba02",
   "outputs": [],
   "execution_count": 2
  },
  {
   "metadata": {
    "ExecuteTime": {
     "end_time": "2025-02-12T21:37:27.933824Z",
     "start_time": "2025-02-12T21:37:27.771449Z"
    }
   },
   "cell_type": "code",
   "source": "jax.devices()",
   "id": "9d196ae02fa3c910",
   "outputs": [
    {
     "data": {
      "text/plain": [
       "[CudaDevice(id=0)]"
      ]
     },
     "execution_count": 3,
     "metadata": {},
     "output_type": "execute_result"
    }
   ],
   "execution_count": 3
  },
  {
   "metadata": {
    "ExecuteTime": {
     "end_time": "2025-02-12T21:37:27.950359Z",
     "start_time": "2025-02-12T21:37:27.940123Z"
    }
   },
   "cell_type": "code",
   "source": "jax.devices('cpu')",
   "id": "acdfb3ca8a2022c2",
   "outputs": [
    {
     "data": {
      "text/plain": [
       "[CpuDevice(id=0)]"
      ]
     },
     "execution_count": 4,
     "metadata": {},
     "output_type": "execute_result"
    }
   ],
   "execution_count": 4
  },
  {
   "metadata": {
    "ExecuteTime": {
     "end_time": "2025-02-12T21:37:28.106595Z",
     "start_time": "2025-02-12T21:37:27.986753Z"
    }
   },
   "cell_type": "code",
   "source": [
    "o = jnp.ones(100)\n",
    "o.device"
   ],
   "id": "22a694224ae5ac75",
   "outputs": [
    {
     "data": {
      "text/plain": [
       "CudaDevice(id=0)"
      ]
     },
     "execution_count": 5,
     "metadata": {},
     "output_type": "execute_result"
    }
   ],
   "execution_count": 5
  },
  {
   "cell_type": "code",
   "id": "initial_id",
   "metadata": {
    "collapsed": true,
    "ExecuteTime": {
     "end_time": "2025-02-12T21:37:28.738190Z",
     "start_time": "2025-02-12T21:37:28.145811Z"
    }
   },
   "source": "from ernestogym.envs.single_agent.utils import parameter_generator",
   "outputs": [],
   "execution_count": 6
  },
  {
   "metadata": {
    "ExecuteTime": {
     "end_time": "2025-02-12T21:37:28.755517Z",
     "start_time": "2025-02-12T21:37:28.743267Z"
    }
   },
   "cell_type": "code",
   "source": [
    "import os\n",
    "print(os.getcwd())"
   ],
   "id": "87e09ef71ac1924d",
   "outputs": [
    {
     "name": "stdout",
     "output_type": "stream",
     "text": [
      "/media/samuele/Disco/PycharmProjectsUbuntu/MARL-CER\n"
     ]
    }
   ],
   "execution_count": 7
  },
  {
   "metadata": {},
   "cell_type": "code",
   "outputs": [],
   "execution_count": null,
   "source": [
    "pack_options = \"ernestogym/ernesto/data/battery/pack.yaml\"\n",
    "ecm = \"ernestogym/ernesto/data/battery/models/electrical/thevenin_pack.yaml\"\n",
    "# ecm = \"ernestogym/ernesto/data/battery/models/electrical/thevenin_fading_pack.yaml\"\n",
    "r2c = \"ernestogym/ernesto/data/battery/models/thermal/r2c_thermal_pack.yaml\"\n",
    "# bolun = \"ernestogym/ernesto/data/battery/models/aging/bolun_pack.yaml\"\n",
    "bolun = \"ernestogym/ernesto/data/battery/models/aging/bolun_pack_dropflow.yaml\"\n",
    "world = \"ernestogym/envs/single_agent/world_deg.yaml\"\n",
    "# world = \"ernestogym/envs/single_agent/world_fading.yaml\"\n",
    "\n",
    "params = parameter_generator(\n",
    "    input_var='current',\n",
    "    battery_options=pack_options,\n",
    "    electrical_model=ecm,\n",
    "    thermal_model=r2c,\n",
    "    aging_model=bolun,\n",
    "    world_options=world,\n",
    "    use_reward_normalization=True\n",
    "\n",
    ")\n",
    "\n",
    "params"
   ],
   "id": "fd2194dfb80b31e1"
  },
  {
   "metadata": {},
   "cell_type": "code",
   "outputs": [],
   "execution_count": null,
   "source": "from ernestogym.ernesto.energy_storage.bess_degrading_dropflow import BatteryEnergyStorageSystem",
   "id": "49fe2f27d2fa39d4"
  },
  {
   "metadata": {
    "ExecuteTime": {
     "end_time": "2025-02-12T21:37:30.867726Z",
     "start_time": "2025-02-12T21:37:30.718827Z"
    }
   },
   "cell_type": "code",
   "source": [
    "state = BatteryEnergyStorageSystem.get_init_state(models_config=params['models_config'],\n",
    "                                                  battery_options=params['battery'],\n",
    "                                                  input_var=params['input_var'])\n",
    "init_state = state\n",
    "print(state)"
   ],
   "id": "9008aad008eb43d4",
   "outputs": [
    {
     "name": "stdout",
     "output_type": "stream",
     "text": [
      "BessBolunDropflowState(nominal_capacity=Array(60., dtype=float32, weak_type=True), nominal_cost=Array(3000, dtype=int32, weak_type=True), nominal_voltage=Array(350.4, dtype=float32, weak_type=True), nominal_dod=Array(0.8, dtype=float32, weak_type=True), nominal_lifetime=Array(3000, dtype=int32, weak_type=True), c_max=Array(60., dtype=float32, weak_type=True), temp_ambient=Array(293.15, dtype=float32, weak_type=True), v_max=Array(398.4, dtype=float32, weak_type=True), v_min=Array(288., dtype=float32, weak_type=True), elapsed_time=Array(0., dtype=float32, weak_type=True), electrical_state=ElectricalModelState(r0_nominal=Array(10., dtype=float32, weak_type=True), r0=Array(10., dtype=float32, weak_type=True), rc=RCState(resistance_nominal=Array(10., dtype=float32, weak_type=True), resistance=Array(10., dtype=float32, weak_type=True), capacity=Array(10., dtype=float32, weak_type=True), i_resistance=Array(0., dtype=float32, weak_type=True)), ocv_potential=Array(10., dtype=float32, weak_type=True), is_active=Array(False, dtype=bool), v=Array(288., dtype=float32, weak_type=True), i=Array(0., dtype=float32, weak_type=True), p=Array(0., dtype=float32, weak_type=True), v_rc=Array(0., dtype=float32, weak_type=True)), thermal_state=ThermalModelState(c_term=Array(138240, dtype=int32, weak_type=True), r_cond=Array(0.0061, dtype=float32, weak_type=True), r_conv=Array(0.1994, dtype=float32, weak_type=True), dv_dT=Array(0.1, dtype=float32, weak_type=True), temp=Array(293.15, dtype=float32, weak_type=True), heat=Array(0., dtype=float32, weak_type=True)), soc_state=SOCModelState(soc=Array(0.5, dtype=float32, weak_type=True), soc_max=Array(0.8, dtype=float32, weak_type=True), soc_min=Array(0.2, dtype=float32, weak_type=True)), soh=Array(1., dtype=float32, weak_type=True), aging_state=BolunDropflowState(init_soh=Array(1., dtype=float32, weak_type=True), soh=Array(1., dtype=float32, weak_type=True), soc_mean=Array(1., dtype=float32, weak_type=True), temp_battery_mean=Array(0., dtype=float32, weak_type=True), cum_sum_temp_history=Array([0., 0., 0., ..., 0., 0., 0.], dtype=float32), n_steps=Array(0, dtype=int32, weak_type=True), dropflow_state=DropflowState(reversals_idx=Array([0, 0, 0, ..., 0, 0, 0], dtype=int32), reversals_xs=Array([0., 0., 0., ..., 0., 0., 0.], dtype=float32), reversals_length=Array(0, dtype=int32, weak_type=True), mean=Array(0., dtype=float32, weak_type=True), history_length=Array(0, dtype=int32, weak_type=True), idx_last=Array(0, dtype=int32, weak_type=True), x_last=Array(0., dtype=float32, weak_type=True), x=Array(0., dtype=float32, weak_type=True), d_last=Array(0., dtype=float32, weak_type=True), stopper_idx=Array(-1, dtype=int32, weak_type=True), stopper_x=Array(0., dtype=float32, weak_type=True)), f_cyc=Array(0., dtype=float32, weak_type=True), deg=Array(0., dtype=float32, weak_type=True), time_stress_model=TimeStressModel(k_t=Array(4.14e-10, dtype=float32, weak_type=True)), soc_stress_model=SocStressModel(k_soc=Array(1.04, dtype=float32, weak_type=True), soc_ref=Array(0.5, dtype=float32, weak_type=True)), temp_stress_model=TempStressModel(k_temp=Array(0.0693, dtype=float32, weak_type=True), temp_ref=Array(298.15, dtype=float32, weak_type=True)), dod_bolun_stress_model=DodBolunStressModel(k_delta1=Array(140000., dtype=float32, weak_type=True), k_delta2=Array(-0.501, dtype=float32, weak_type=True), k_delta3=Array(-123000., dtype=float32, weak_type=True)), alpha_sei=Array(0.0575, dtype=float32, weak_type=True), beta_sei=Array(121, dtype=int32, weak_type=True)), iter=Array(0, dtype=int32, weak_type=True), check_soh_every=Array(100, dtype=int32, weak_type=True))\n"
     ]
    }
   ],
   "execution_count": 10
  },
  {
   "metadata": {
    "ExecuteTime": {
     "end_time": "2025-02-12T21:37:30.895743Z",
     "start_time": "2025-02-12T21:37:30.881079Z"
    }
   },
   "cell_type": "code",
   "source": "# jax.tree.map(lambda a: jnp.array(a), state)",
   "id": "79716d4f3b3244e7",
   "outputs": [],
   "execution_count": 11
  },
  {
   "metadata": {
    "ExecuteTime": {
     "end_time": "2025-02-12T21:37:30.993975Z",
     "start_time": "2025-02-12T21:37:30.979334Z"
    }
   },
   "cell_type": "code",
   "source": [
    "struct_original_state = jax.tree.map(lambda val: val.dtype, state)\n",
    "struct_original_state"
   ],
   "id": "a4d6a11653caea37",
   "outputs": [
    {
     "data": {
      "text/plain": [
       "BessBolunDropflowState(nominal_capacity=dtype('float32'), nominal_cost=dtype('int32'), nominal_voltage=dtype('float32'), nominal_dod=dtype('float32'), nominal_lifetime=dtype('int32'), c_max=dtype('float32'), temp_ambient=dtype('float32'), v_max=dtype('float32'), v_min=dtype('float32'), elapsed_time=dtype('float32'), electrical_state=ElectricalModelState(r0_nominal=dtype('float32'), r0=dtype('float32'), rc=RCState(resistance_nominal=dtype('float32'), resistance=dtype('float32'), capacity=dtype('float32'), i_resistance=dtype('float32')), ocv_potential=dtype('float32'), is_active=dtype('bool'), v=dtype('float32'), i=dtype('float32'), p=dtype('float32'), v_rc=dtype('float32')), thermal_state=ThermalModelState(c_term=dtype('int32'), r_cond=dtype('float32'), r_conv=dtype('float32'), dv_dT=dtype('float32'), temp=dtype('float32'), heat=dtype('float32')), soc_state=SOCModelState(soc=dtype('float32'), soc_max=dtype('float32'), soc_min=dtype('float32')), soh=dtype('float32'), aging_state=BolunDropflowState(init_soh=dtype('float32'), soh=dtype('float32'), soc_mean=dtype('float32'), temp_battery_mean=dtype('float32'), cum_sum_temp_history=dtype('float32'), n_steps=dtype('int32'), dropflow_state=DropflowState(reversals_idx=dtype('int32'), reversals_xs=dtype('float32'), reversals_length=dtype('int32'), mean=dtype('float32'), history_length=dtype('int32'), idx_last=dtype('int32'), x_last=dtype('float32'), x=dtype('float32'), d_last=dtype('float32'), stopper_idx=dtype('int32'), stopper_x=dtype('float32')), f_cyc=dtype('float32'), deg=dtype('float32'), time_stress_model=TimeStressModel(k_t=dtype('float32')), soc_stress_model=SocStressModel(k_soc=dtype('float32'), soc_ref=dtype('float32')), temp_stress_model=TempStressModel(k_temp=dtype('float32'), temp_ref=dtype('float32')), dod_bolun_stress_model=DodBolunStressModel(k_delta1=dtype('float32'), k_delta2=dtype('float32'), k_delta3=dtype('float32')), alpha_sei=dtype('float32'), beta_sei=dtype('int32')), iter=dtype('int32'), check_soh_every=dtype('int32'))"
      ]
     },
     "execution_count": 12,
     "metadata": {},
     "output_type": "execute_result"
    }
   ],
   "execution_count": 12
  },
  {
   "metadata": {
    "ExecuteTime": {
     "end_time": "2025-02-12T21:37:37.793603Z",
     "start_time": "2025-02-12T21:37:37.778986Z"
    }
   },
   "cell_type": "code",
   "source": [
    "from time import time\n",
    "import numpy as np\n",
    "\n",
    "a = np.random.uniform(-100, 100)\n",
    "\n",
    "t1 = time()\n",
    "state = BatteryEnergyStorageSystem.step(state, 25., 1.)\n",
    "print(a)\n",
    "print(time() - t1)\n",
    "# print(state)"
   ],
   "id": "96d1588c5b92a8d1",
   "outputs": [
    {
     "name": "stdout",
     "output_type": "stream",
     "text": [
      "-98.15139586219527\n",
      "0.0014340877532958984\n"
     ]
    }
   ],
   "execution_count": 15
  },
  {
   "metadata": {
    "ExecuteTime": {
     "end_time": "2025-02-12T21:37:41.903260Z",
     "start_time": "2025-02-12T21:37:41.889433Z"
    }
   },
   "cell_type": "code",
   "source": "jax.tree.map(lambda val: val.dtype, state) == struct_original_state",
   "id": "7aa938f22b4d0740",
   "outputs": [
    {
     "data": {
      "text/plain": [
       "True"
      ]
     },
     "execution_count": 16,
     "metadata": {},
     "output_type": "execute_result"
    }
   ],
   "execution_count": 16
  },
  {
   "metadata": {
    "ExecuteTime": {
     "end_time": "2025-02-12T21:37:43.237138Z",
     "start_time": "2025-02-12T21:37:43.222404Z"
    }
   },
   "cell_type": "code",
   "source": [
    "print(jax.tree.map(lambda val: val.dtype, state))\n",
    "print(struct_original_state)"
   ],
   "id": "492f18cf89887f66",
   "outputs": [
    {
     "name": "stdout",
     "output_type": "stream",
     "text": [
      "BessBolunDropflowState(nominal_capacity=dtype('float32'), nominal_cost=dtype('int32'), nominal_voltage=dtype('float32'), nominal_dod=dtype('float32'), nominal_lifetime=dtype('int32'), c_max=dtype('float32'), temp_ambient=dtype('float32'), v_max=dtype('float32'), v_min=dtype('float32'), elapsed_time=dtype('float32'), electrical_state=ElectricalModelState(r0_nominal=dtype('float32'), r0=dtype('float32'), rc=RCState(resistance_nominal=dtype('float32'), resistance=dtype('float32'), capacity=dtype('float32'), i_resistance=dtype('float32')), ocv_potential=dtype('float32'), is_active=dtype('bool'), v=dtype('float32'), i=dtype('float32'), p=dtype('float32'), v_rc=dtype('float32')), thermal_state=ThermalModelState(c_term=dtype('int32'), r_cond=dtype('float32'), r_conv=dtype('float32'), dv_dT=dtype('float32'), temp=dtype('float32'), heat=dtype('float32')), soc_state=SOCModelState(soc=dtype('float32'), soc_max=dtype('float32'), soc_min=dtype('float32')), soh=dtype('float32'), aging_state=BolunDropflowState(init_soh=dtype('float32'), soh=dtype('float32'), soc_mean=dtype('float32'), temp_battery_mean=dtype('float32'), cum_sum_temp_history=dtype('float32'), n_steps=dtype('int32'), dropflow_state=DropflowState(reversals_idx=dtype('int32'), reversals_xs=dtype('float32'), reversals_length=dtype('int32'), mean=dtype('float32'), history_length=dtype('int32'), idx_last=dtype('int32'), x_last=dtype('float32'), x=dtype('float32'), d_last=dtype('float32'), stopper_idx=dtype('int32'), stopper_x=dtype('float32')), f_cyc=dtype('float32'), deg=dtype('float32'), time_stress_model=TimeStressModel(k_t=dtype('float32')), soc_stress_model=SocStressModel(k_soc=dtype('float32'), soc_ref=dtype('float32')), temp_stress_model=TempStressModel(k_temp=dtype('float32'), temp_ref=dtype('float32')), dod_bolun_stress_model=DodBolunStressModel(k_delta1=dtype('float32'), k_delta2=dtype('float32'), k_delta3=dtype('float32')), alpha_sei=dtype('float32'), beta_sei=dtype('int32')), iter=dtype('int32'), check_soh_every=dtype('int32'))\n",
      "BessBolunDropflowState(nominal_capacity=dtype('float32'), nominal_cost=dtype('int32'), nominal_voltage=dtype('float32'), nominal_dod=dtype('float32'), nominal_lifetime=dtype('int32'), c_max=dtype('float32'), temp_ambient=dtype('float32'), v_max=dtype('float32'), v_min=dtype('float32'), elapsed_time=dtype('float32'), electrical_state=ElectricalModelState(r0_nominal=dtype('float32'), r0=dtype('float32'), rc=RCState(resistance_nominal=dtype('float32'), resistance=dtype('float32'), capacity=dtype('float32'), i_resistance=dtype('float32')), ocv_potential=dtype('float32'), is_active=dtype('bool'), v=dtype('float32'), i=dtype('float32'), p=dtype('float32'), v_rc=dtype('float32')), thermal_state=ThermalModelState(c_term=dtype('int32'), r_cond=dtype('float32'), r_conv=dtype('float32'), dv_dT=dtype('float32'), temp=dtype('float32'), heat=dtype('float32')), soc_state=SOCModelState(soc=dtype('float32'), soc_max=dtype('float32'), soc_min=dtype('float32')), soh=dtype('float32'), aging_state=BolunDropflowState(init_soh=dtype('float32'), soh=dtype('float32'), soc_mean=dtype('float32'), temp_battery_mean=dtype('float32'), cum_sum_temp_history=dtype('float32'), n_steps=dtype('int32'), dropflow_state=DropflowState(reversals_idx=dtype('int32'), reversals_xs=dtype('float32'), reversals_length=dtype('int32'), mean=dtype('float32'), history_length=dtype('int32'), idx_last=dtype('int32'), x_last=dtype('float32'), x=dtype('float32'), d_last=dtype('float32'), stopper_idx=dtype('int32'), stopper_x=dtype('float32')), f_cyc=dtype('float32'), deg=dtype('float32'), time_stress_model=TimeStressModel(k_t=dtype('float32')), soc_stress_model=SocStressModel(k_soc=dtype('float32'), soc_ref=dtype('float32')), temp_stress_model=TempStressModel(k_temp=dtype('float32'), temp_ref=dtype('float32')), dod_bolun_stress_model=DodBolunStressModel(k_delta1=dtype('float32'), k_delta2=dtype('float32'), k_delta3=dtype('float32')), alpha_sei=dtype('float32'), beta_sei=dtype('int32')), iter=dtype('int32'), check_soh_every=dtype('int32'))\n"
     ]
    }
   ],
   "execution_count": 17
  },
  {
   "metadata": {
    "ExecuteTime": {
     "end_time": "2025-02-12T21:38:07.255774Z",
     "start_time": "2025-02-12T21:38:03.278587Z"
    }
   },
   "cell_type": "code",
   "source": [
    "t1 = time()\n",
    "for i in range(10000):\n",
    "    state = BatteryEnergyStorageSystem.step(state, 0.5, 1.)\n",
    "\n",
    "print(time() - t1)"
   ],
   "id": "42cfce6e775bf106",
   "outputs": [
    {
     "name": "stdout",
     "output_type": "stream",
     "text": [
      "3.961975574493408\n"
     ]
    }
   ],
   "execution_count": 21
  },
  {
   "metadata": {
    "ExecuteTime": {
     "end_time": "2025-02-12T21:38:10.803226Z",
     "start_time": "2025-02-12T21:38:10.788281Z"
    }
   },
   "cell_type": "code",
   "source": "# jax.make_jaxpr(BatteryEnergyStorageSystem.step)(state, 0.5, 1.)",
   "id": "b17fb4651f2847be",
   "outputs": [],
   "execution_count": 22
  },
  {
   "metadata": {
    "ExecuteTime": {
     "end_time": "2025-02-12T21:38:12.458701Z",
     "start_time": "2025-02-12T21:38:12.441464Z"
    }
   },
   "cell_type": "code",
   "source": "state",
   "id": "6bd5a7c95e448b83",
   "outputs": [
    {
     "data": {
      "text/plain": [
       "BessBolunDropflowState(nominal_capacity=Array(60., dtype=float32, weak_type=True), nominal_cost=Array(3000, dtype=int32, weak_type=True), nominal_voltage=Array(350.4, dtype=float32, weak_type=True), nominal_dod=Array(0.8, dtype=float32, weak_type=True), nominal_lifetime=Array(3000, dtype=int32, weak_type=True), c_max=Array(59.993687, dtype=float32, weak_type=True), temp_ambient=Array(293.15, dtype=float32, weak_type=True), v_max=Array(398.4, dtype=float32, weak_type=True), v_min=Array(288., dtype=float32, weak_type=True), elapsed_time=Array(40003., dtype=float32, weak_type=True), electrical_state=ElectricalModelState(r0_nominal=Array(10., dtype=float32, weak_type=True), r0=Array(10., dtype=float32, weak_type=True), rc=RCState(resistance_nominal=Array(10., dtype=float32, weak_type=True), resistance=Array(10., dtype=float32, weak_type=True), capacity=Array(10., dtype=float32, weak_type=True), i_resistance=Array(-0.50000435, dtype=float32, weak_type=True)), ocv_potential=Array(10., dtype=float32, weak_type=True), is_active=Array(False, dtype=bool), v=Array(20.000044, dtype=float32, weak_type=True), i=Array(-0.5, dtype=float32, weak_type=True), p=Array(10.000022, dtype=float32, weak_type=True), v_rc=Array(-5.0000443, dtype=float32, weak_type=True)), thermal_state=ThermalModelState(c_term=Array(138240, dtype=int32, weak_type=True), r_cond=Array(0.0061, dtype=float32, weak_type=True), r_conv=Array(0.1994, dtype=float32, weak_type=True), dv_dT=Array(0.1, dtype=float32, weak_type=True), temp=Array(293.1555, dtype=float32, weak_type=True), heat=Array(5.0000434, dtype=float32, weak_type=True)), soc_state=SOCModelState(soc=Array(0.5933305, dtype=float32, weak_type=True), soc_max=Array(0.8, dtype=float32, weak_type=True), soc_min=Array(0.2, dtype=float32, weak_type=True)), soh=Array(0.9998948, dtype=float32, weak_type=True), aging_state=BolunDropflowState(init_soh=Array(1., dtype=float32, weak_type=True), soh=Array(0.9998948, dtype=float32, weak_type=True), soc_mean=Array(0.54683656, dtype=float32, weak_type=True), temp_battery_mean=Array(293.16357, dtype=float32, weak_type=True), cum_sum_temp_history=Array([  0.     , 293.19907, 586.44574, ...,   0.     ,   0.     ,\n",
       "         0.     ], dtype=float32), n_steps=Array(40003, dtype=int32, weak_type=True), dropflow_state=DropflowState(reversals_idx=Array([    0, 40000,     0, ...,     0,     0,     0], dtype=int32), reversals_xs=Array([0.50011575, 0.59332585, 0.        , ..., 0.        , 0.        ,\n",
       "       0.        ], dtype=float32), reversals_length=Array(1, dtype=int32, weak_type=True), mean=Array(0.54683656, dtype=float32, weak_type=True), history_length=Array(40003, dtype=int32, weak_type=True), idx_last=Array(40002, dtype=int32, weak_type=True), x_last=Array(0.5933282, dtype=float32, weak_type=True), x=Array(0.5933305, dtype=float32, weak_type=True), d_last=Array(2.3245811e-06, dtype=float32, weak_type=True), stopper_idx=Array(40002, dtype=int32, weak_type=True), stopper_x=Array(0.5933305, dtype=float32, weak_type=True)), f_cyc=Array(0., dtype=float32, weak_type=True), deg=Array(0.0001052, dtype=float32, weak_type=True), time_stress_model=TimeStressModel(k_t=Array(4.14e-10, dtype=float32, weak_type=True)), soc_stress_model=SocStressModel(k_soc=Array(1.04, dtype=float32, weak_type=True), soc_ref=Array(0.5, dtype=float32, weak_type=True)), temp_stress_model=TempStressModel(k_temp=Array(0.0693, dtype=float32, weak_type=True), temp_ref=Array(298.15, dtype=float32, weak_type=True)), dod_bolun_stress_model=DodBolunStressModel(k_delta1=Array(140000., dtype=float32, weak_type=True), k_delta2=Array(-0.501, dtype=float32, weak_type=True), k_delta3=Array(-123000., dtype=float32, weak_type=True)), alpha_sei=Array(0.0575, dtype=float32, weak_type=True), beta_sei=Array(121, dtype=int32, weak_type=True)), iter=Array(40003, dtype=int32, weak_type=True), check_soh_every=Array(100, dtype=int32, weak_type=True))"
      ]
     },
     "execution_count": 23,
     "metadata": {},
     "output_type": "execute_result"
    }
   ],
   "execution_count": 23
  },
  {
   "metadata": {},
   "cell_type": "markdown",
   "source": "# Test parallel of states",
   "id": "9ea17273d6e91202"
  },
  {
   "metadata": {
    "ExecuteTime": {
     "end_time": "2025-02-12T21:38:14.189527Z",
     "start_time": "2025-02-12T21:38:14.176643Z"
    }
   },
   "cell_type": "code",
   "source": [
    "import jax\n",
    "import jax.numpy as jnp"
   ],
   "id": "1b144541fd0b6645",
   "outputs": [],
   "execution_count": 24
  },
  {
   "metadata": {
    "ExecuteTime": {
     "end_time": "2025-02-12T21:38:17.117959Z",
     "start_time": "2025-02-12T21:38:16.114191Z"
    }
   },
   "cell_type": "code",
   "source": [
    "state = BatteryEnergyStorageSystem.get_init_state(models_config=params['models_config'],\n",
    "                                                  battery_options=params['battery'],\n",
    "                                                  input_var=params['input_var'])\n",
    "\n",
    "state_list = []\n",
    "\n",
    "n_states = 50\n",
    "\n",
    "for i in range(n_states):\n",
    "    state = BatteryEnergyStorageSystem.step(state, 0.5, 1.)\n",
    "    state_list.append(state)\n",
    "\n",
    "states = jax.tree.map(lambda *vals: jnp.array(vals), *state_list)"
   ],
   "id": "883a1803e12f99",
   "outputs": [],
   "execution_count": 25
  },
  {
   "metadata": {
    "ExecuteTime": {
     "end_time": "2025-02-12T21:38:19.292873Z",
     "start_time": "2025-02-12T21:38:19.278282Z"
    }
   },
   "cell_type": "code",
   "source": "states.nominal_capacity.shape",
   "id": "c6f8af9eace3c7de",
   "outputs": [
    {
     "data": {
      "text/plain": [
       "(50,)"
      ]
     },
     "execution_count": 26,
     "metadata": {},
     "output_type": "execute_result"
    }
   ],
   "execution_count": 26
  },
  {
   "metadata": {
    "ExecuteTime": {
     "end_time": "2025-02-12T21:38:20.467762Z",
     "start_time": "2025-02-12T21:38:20.454165Z"
    }
   },
   "cell_type": "code",
   "source": [
    "# batched_step = jax.vmap(BatteryEnergyStorageSystem.step)\n",
    "batched_step = jax.jit(jax.vmap(BatteryEnergyStorageSystem.step))   #, backend='cpu')"
   ],
   "id": "e75e58d11d2ade7b",
   "outputs": [],
   "execution_count": 27
  },
  {
   "metadata": {
    "ExecuteTime": {
     "end_time": "2025-02-12T21:38:27.052363Z",
     "start_time": "2025-02-12T21:38:27.031997Z"
    }
   },
   "cell_type": "code",
   "source": [
    "t1 = time()\n",
    "states = batched_step(states, jnp.ones(n_states) * 0.5, jnp.ones(n_states))\n",
    "print(time() - t1)"
   ],
   "id": "69c0d4a810f117f",
   "outputs": [
    {
     "name": "stdout",
     "output_type": "stream",
     "text": [
      "0.0023374557495117188\n"
     ]
    }
   ],
   "execution_count": 31
  },
  {
   "metadata": {
    "ExecuteTime": {
     "end_time": "2025-02-12T21:38:28.760176Z",
     "start_time": "2025-02-12T21:38:28.745836Z"
    }
   },
   "cell_type": "code",
   "source": [
    "# with jax.profiler.trace(\"/tmp/jax-trace\", create_perfetto_link=True):\n",
    "#     for i in range(1000):\n",
    "#         states = batched_step(states, jnp.ones(n_states) * 0.5, jnp.ones(n_states))\n",
    "#     jax.block_until_ready(states)"
   ],
   "id": "4f089115dc98855e",
   "outputs": [],
   "execution_count": 32
  },
  {
   "metadata": {
    "ExecuteTime": {
     "end_time": "2025-02-12T21:38:55.822698Z",
     "start_time": "2025-02-12T21:38:44.233241Z"
    }
   },
   "cell_type": "code",
   "source": [
    "t1 = time()\n",
    "for i in range(10000):\n",
    "    states = batched_step(states, jnp.ones(n_states) * 0.5, jnp.ones(n_states))\n",
    "\n",
    "jax.block_until_ready(states)\n",
    "print(time() - t1)"
   ],
   "id": "53de7a593d9275b9",
   "outputs": [
    {
     "name": "stdout",
     "output_type": "stream",
     "text": [
      "11.574926137924194\n"
     ]
    }
   ],
   "execution_count": 34
  },
  {
   "metadata": {
    "ExecuteTime": {
     "end_time": "2025-02-12T21:38:57.237915Z",
     "start_time": "2025-02-12T21:38:57.221083Z"
    }
   },
   "cell_type": "code",
   "source": "states.nominal_capacity.device",
   "id": "12e9a7ffbe9929e2",
   "outputs": [
    {
     "data": {
      "text/plain": [
       "CudaDevice(id=0)"
      ]
     },
     "execution_count": 35,
     "metadata": {},
     "output_type": "execute_result"
    }
   ],
   "execution_count": 35
  },
  {
   "metadata": {},
   "cell_type": "markdown",
   "source": "## Jitted loop",
   "id": "d2a655037658129f"
  },
  {
   "metadata": {
    "ExecuteTime": {
     "end_time": "2025-02-12T21:39:00.459398Z",
     "start_time": "2025-02-12T21:39:00.443147Z"
    }
   },
   "cell_type": "code",
   "source": [
    "from functools import partial\n",
    "\n",
    "# @partial(jax.jit, static_argnums=[0])\n",
    "# def maybe_loding(fun, states, act, times):\n",
    "#     for i in range(500):\n",
    "#         states = batched_step(states, act, times)\n",
    "#     return states\n",
    "\n",
    "@partial(jax.jit, static_argnums=[0, 1])\n",
    "def fused_loop(fun, num, states, act, times):\n",
    "    def body_fun(i, states):\n",
    "        return fun(states, act[i], times[i])\n",
    "    return jax.lax.fori_loop(0, num, body_fun, states)"
   ],
   "id": "e4f1bccf77b522b7",
   "outputs": [],
   "execution_count": 36
  },
  {
   "metadata": {},
   "cell_type": "markdown",
   "source": "### single battery",
   "id": "a5e583e0fd310e3c"
  },
  {
   "metadata": {
    "ExecuteTime": {
     "end_time": "2025-02-12T21:39:22.145080Z",
     "start_time": "2025-02-12T21:39:21.307696Z"
    }
   },
   "cell_type": "code",
   "source": [
    "t1 = time()\n",
    "\n",
    "num = 10000\n",
    "\n",
    "actions = np.random.uniform(-100, 100, size=(num,))\n",
    "\n",
    "state_new = fused_loop(BatteryEnergyStorageSystem.step, num, init_state, actions, jnp.ones(num)*60)\n",
    "\n",
    "jax.block_until_ready(state_new)\n",
    "print(time() - t1)"
   ],
   "id": "bd79f080cde0ad93",
   "outputs": [
    {
     "name": "stdout",
     "output_type": "stream",
     "text": [
      "0.8235073089599609\n"
     ]
    }
   ],
   "execution_count": 45
  },
  {
   "metadata": {},
   "cell_type": "markdown",
   "source": "### multiple batteries",
   "id": "37d4f2bf2941ad95"
  },
  {
   "metadata": {
    "ExecuteTime": {
     "end_time": "2025-02-12T21:39:49.964172Z",
     "start_time": "2025-02-12T21:39:43.100928Z"
    }
   },
   "cell_type": "code",
   "source": [
    "t1 = time()\n",
    "\n",
    "num = 10000\n",
    "\n",
    "states_new = fused_loop(batched_step, num, states, jnp.ones((num, n_states)) * 0.5, jnp.ones((num, n_states)))\n",
    "\n",
    "jax.block_until_ready(states_new)\n",
    "print(time() - t1)"
   ],
   "id": "a86c7ff8ef75d29c",
   "outputs": [
    {
     "name": "stdout",
     "output_type": "stream",
     "text": [
      "6.847105026245117\n"
     ]
    }
   ],
   "execution_count": 48
  },
  {
   "metadata": {},
   "cell_type": "code",
   "outputs": [],
   "execution_count": null,
   "source": "",
   "id": "c13d6642d8b20077"
  }
 ],
 "metadata": {
  "kernelspec": {
   "display_name": "Python 3",
   "language": "python",
   "name": "python3"
  },
  "language_info": {
   "codemirror_mode": {
    "name": "ipython",
    "version": 2
   },
   "file_extension": ".py",
   "mimetype": "text/x-python",
   "name": "python",
   "nbconvert_exporter": "python",
   "pygments_lexer": "ipython2",
   "version": "2.7.6"
  }
 },
 "nbformat": 4,
 "nbformat_minor": 5
}
