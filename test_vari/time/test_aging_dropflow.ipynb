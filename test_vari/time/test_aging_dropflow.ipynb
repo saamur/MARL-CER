{
 "cells": [
  {
   "metadata": {
    "ExecuteTime": {
     "end_time": "2025-02-10T08:39:12.160386Z",
     "start_time": "2025-02-10T08:39:11.797446Z"
    }
   },
   "cell_type": "code",
   "source": [
    "%load_ext autoreload\n",
    "%autoreload 2\n",
    "%matplotlib inline\n",
    "%cd ../.."
   ],
   "id": "6a98c0a5ffd23357",
   "outputs": [
    {
     "name": "stdout",
     "output_type": "stream",
     "text": [
      "/media/samuele/Disco/PycharmProjectsUbuntu/MARL-CER\n"
     ]
    }
   ],
   "execution_count": 1
  },
  {
   "metadata": {
    "ExecuteTime": {
     "end_time": "2025-02-10T08:39:12.493178Z",
     "start_time": "2025-02-10T08:39:12.339188Z"
    }
   },
   "cell_type": "code",
   "source": [
    "import os\n",
    "\n",
    "# os.environ[\"JAX_PLATFORM_NAME\"] = \"cpu\"\n",
    "\n",
    "import jax\n",
    "import jax.numpy as jnp"
   ],
   "id": "5ce1ac2d63d7ba02",
   "outputs": [],
   "execution_count": 2
  },
  {
   "metadata": {
    "ExecuteTime": {
     "end_time": "2025-02-10T08:39:13.168493Z",
     "start_time": "2025-02-10T08:39:12.921420Z"
    }
   },
   "cell_type": "code",
   "source": "jax.devices()",
   "id": "9d196ae02fa3c910",
   "outputs": [
    {
     "data": {
      "text/plain": [
       "[CudaDevice(id=0)]"
      ]
     },
     "execution_count": 3,
     "metadata": {},
     "output_type": "execute_result"
    }
   ],
   "execution_count": 3
  },
  {
   "metadata": {
    "ExecuteTime": {
     "end_time": "2025-02-10T08:39:13.514123Z",
     "start_time": "2025-02-10T08:39:13.503728Z"
    }
   },
   "cell_type": "code",
   "source": "jax.devices('cpu')",
   "id": "acdfb3ca8a2022c2",
   "outputs": [
    {
     "data": {
      "text/plain": [
       "[CpuDevice(id=0)]"
      ]
     },
     "execution_count": 4,
     "metadata": {},
     "output_type": "execute_result"
    }
   ],
   "execution_count": 4
  },
  {
   "metadata": {
    "ExecuteTime": {
     "end_time": "2025-02-10T08:39:14.154614Z",
     "start_time": "2025-02-10T08:39:14.024747Z"
    }
   },
   "cell_type": "code",
   "source": [
    "o = jnp.ones(100)\n",
    "o.device"
   ],
   "id": "22a694224ae5ac75",
   "outputs": [
    {
     "data": {
      "text/plain": [
       "CudaDevice(id=0)"
      ]
     },
     "execution_count": 5,
     "metadata": {},
     "output_type": "execute_result"
    }
   ],
   "execution_count": 5
  },
  {
   "cell_type": "code",
   "id": "initial_id",
   "metadata": {
    "collapsed": true,
    "ExecuteTime": {
     "end_time": "2025-02-10T08:39:15.058144Z",
     "start_time": "2025-02-10T08:39:14.456848Z"
    }
   },
   "source": "from ernestogym.envs.single_agent.utils import parameter_generator",
   "outputs": [],
   "execution_count": 6
  },
  {
   "metadata": {
    "ExecuteTime": {
     "end_time": "2025-02-10T08:39:15.075704Z",
     "start_time": "2025-02-10T08:39:15.064099Z"
    }
   },
   "cell_type": "code",
   "source": [
    "import os\n",
    "print(os.getcwd())"
   ],
   "id": "87e09ef71ac1924d",
   "outputs": [
    {
     "name": "stdout",
     "output_type": "stream",
     "text": [
      "/media/samuele/Disco/PycharmProjectsUbuntu/MARL-CER\n"
     ]
    }
   ],
   "execution_count": 7
  },
  {
   "metadata": {
    "ExecuteTime": {
     "end_time": "2025-02-10T08:39:17.217192Z",
     "start_time": "2025-02-10T08:39:15.411576Z"
    }
   },
   "cell_type": "code",
   "source": [
    "pack_options = \"ernestogym/ernesto_jax/data/battery/pack.yaml\"\n",
    "ecm = \"ernestogym/ernesto_jax/data/battery/models/electrical/thevenin_pack.yaml\"\n",
    "# ecm = \"ernestogym/ernesto_jax/data/battery/models/electrical/thevenin_fading_pack.yaml\"\n",
    "r2c = \"ernestogym/ernesto_jax/data/battery/models/thermal/r2c_thermal_pack.yaml\"\n",
    "# bolun = \"ernestogym/ernesto_jax/data/battery/models/aging/bolun_pack.yaml\"\n",
    "bolun = \"ernestogym/ernesto_jax/data/battery/models/aging/bolun_pack_dropflow.yaml\"\n",
    "world = \"ernestogym/envs/single_agent/world_deg.yaml\"\n",
    "# world = \"ernestogym/envs/single_agent/world_fading.yaml\"\n",
    "\n",
    "params = parameter_generator(\n",
    "    input_var='current',\n",
    "    battery_options=pack_options,\n",
    "    electrical_model=ecm,\n",
    "    thermal_model=r2c,\n",
    "    aging_model=bolun,\n",
    "    world_options=world,\n",
    "    use_reward_normalization=True\n",
    "\n",
    ")\n",
    "\n",
    "params"
   ],
   "id": "17c74aee41a4e765",
   "outputs": [
    {
     "data": {
      "text/plain": [
       "{'battery': {'sign_convention': 'passive',\n",
       "  'params': {'nominal_voltage': 350.4,\n",
       "   'nominal_capacity': 60.0,\n",
       "   'nominal_dod': 0.8,\n",
       "   'nominal_lifetime': 3000,\n",
       "   'v_max': 398.4,\n",
       "   'v_min': 288.0,\n",
       "   'temp_ambient': 298.15,\n",
       "   'nominal_cost': 3000},\n",
       "  'bounds': {'voltage': {'low': 288.0, 'high': 398.4},\n",
       "   'current': {'low': -180.0, 'high': 60.0},\n",
       "   'power': {'low': -71712.0, 'high': 23904.0},\n",
       "   'temperature': {'low': 273.15, 'high': 323.15},\n",
       "   'temp_ambient': {'low': 273.15, 'high': 313.15},\n",
       "   'soc': {'low': 0.2, 'high': 0.8},\n",
       "   'soh': {'low': 0.8, 'high': 1.0}},\n",
       "  'init': {'voltage': 288.0,\n",
       "   'current': 0.0,\n",
       "   'power': 0.0,\n",
       "   'temperature': 293.15,\n",
       "   'temp_ambient': 293.15,\n",
       "   'soc': 0.5,\n",
       "   'soh': 1.0}},\n",
       " 'input_var': 'current',\n",
       " 'models_config': [{'type': 'electrical',\n",
       "   'class_name': 'TheveninModel',\n",
       "   'use_fading': False,\n",
       "   'components': {'r0': {'selected_type': 'scalar',\n",
       "     'scalar': 10.0,\n",
       "     'lookup': {'table': 'r0_pack.csv',\n",
       "      'inputs': [{'var': 'temperature', 'label': 'temp', 'unit': 'degC'},\n",
       "       {'var': 'soc', 'label': 'soc', 'unit': None}],\n",
       "      'output': {'var': 'resistance', 'label': 'r0', 'unit': 'ohm'}}},\n",
       "    'r1': {'selected_type': 'scalar',\n",
       "     'scalar': 10.0,\n",
       "     'lookup': {'table': 'r1_pack.csv',\n",
       "      'inputs': [{'var': 'temperature', 'label': 'temp', 'unit': 'degC'},\n",
       "       {'var': 'soc', 'label': 'soc', 'unit': None}],\n",
       "      'output': {'var': 'resistance', 'label': 'r1', 'unit': 'ohm'}}},\n",
       "    'c': {'selected_type': 'scalar',\n",
       "     'scalar': 10.0,\n",
       "     'lookup': {'table': 'c_pack.csv',\n",
       "      'inputs': [{'var': 'temperature', 'label': 'temp', 'unit': 'degC'},\n",
       "       {'var': 'soc', 'label': 'soc', 'unit': None}],\n",
       "      'output': {'var': 'capacity', 'label': 'c', 'unit': 'F'}}},\n",
       "    'v_ocv': {'selected_type': 'scalar',\n",
       "     'scalar': 10.0,\n",
       "     'lookup': {'table': 'voc_pack.csv',\n",
       "      'inputs': [{'var': 'temperature', 'label': 'temp', 'unit': 'degC'},\n",
       "       {'var': 'soc', 'label': 'soc', 'unit': None}],\n",
       "      'output': {'var': 'voltage', 'label': 'voc', 'unit': 'V'}}}}},\n",
       "  {'type': 'thermal',\n",
       "   'class_name': 'R2CThermal',\n",
       "   'components': {'c_term': {'selected_type': 'scalar', 'scalar': 138240},\n",
       "    'r_cond': {'selected_type': 'scalar', 'scalar': 0.0061},\n",
       "    'r_conv': {'selected_type': 'scalar', 'scalar': 0.1994},\n",
       "    'dv_dT': {'selected_type': 'scalar',\n",
       "     'scalar': 0.1,\n",
       "     'lookup': {'inputs': {'soc': [1,\n",
       "        0.9,\n",
       "        0.8,\n",
       "        0.7,\n",
       "        0.6,\n",
       "        0.5,\n",
       "        0.4,\n",
       "        0.3,\n",
       "        0.2,\n",
       "        0.1,\n",
       "        0.0]},\n",
       "      'output': [8e-05,\n",
       "       6e-05,\n",
       "       8e-05,\n",
       "       5e-05,\n",
       "       0.0001,\n",
       "       0.00018,\n",
       "       0.00016,\n",
       "       8e-05,\n",
       "       -5e-05,\n",
       "       -0.00016,\n",
       "       -0.0007]}}}},\n",
       "  {'type': 'aging',\n",
       "   'class_name': 'BolunDropflowModel',\n",
       "   'components': {'SEI': {'alpha_sei': 0, 'beta_sei': 0},\n",
       "    'stress_factors': {'calendar': ['time', 'soc', 'temperature'],\n",
       "     'cyclic': ['soc', 'temperature', 'dod_bolun']},\n",
       "    'cycle_counting_mode': 'streamflow'},\n",
       "   'stress_models': {'time': {'k_t': 2.835e-10},\n",
       "    'soc': {'k_soc': 0.6835, 'soc_ref': 0.5},\n",
       "    'temperature': {'k_temp': 0.059965, 'temp_ref': 298.15},\n",
       "    'dod_bolun': {'k_delta1': 0.00018716,\n",
       "     'k_delta2': 4.0585,\n",
       "     'k_delta3': 8.6848e-06},\n",
       "    'dod_quadratic': 0,\n",
       "    'dod_exponential': 0}}],\n",
       " 'demand': {'data':           1     2     3    4    5    6    7    8    9    10  ...    67    68  \\\n",
       "  0        95   501   403   61  357   57  289  738  642  1254  ...  2496   478   \n",
       "  1        95   479   425   61  354   44  341  739  642  1421  ...  2509   481   \n",
       "  2        95   449   460   61  354   44  533  734  638  1395  ...  2495   479   \n",
       "  3        95   463   488   61  353   44  493  732  637  1395  ...  2506   479   \n",
       "  4        99   404   543   61  300   44  505  730  639   668  ...  2497   472   \n",
       "  ...     ...   ...   ...  ...  ...  ...  ...  ...  ...   ...  ...   ...   ...   \n",
       "  525595  220  1306  1625  266  525  182  135  771  167   616  ...  1885   455   \n",
       "  525596  221  2065  1626  265  525  185  135  770  167   615  ...   379   430   \n",
       "  525597  220  1368  1621  264  533  179  135  766  167   710  ...   377   449   \n",
       "  525598  219   194  1593  264  559  226  135  763  167   704  ...   377  1305   \n",
       "  525599  218   267   797  263  559  226  135  705  167   705  ...   378  2642   \n",
       "  \n",
       "           69   70    71   72   73   74            timestamp    delta_time  \n",
       "  0       497   44   624  539  287  229  2010-01-01 00:00:00  1.262304e+09  \n",
       "  1       491   44   585  535  287  229  2010-01-01 00:01:00  1.262304e+09  \n",
       "  2       494   44   585  532  246  229  2010-01-01 00:02:00  1.262304e+09  \n",
       "  3       492   43   577  538  292  228  2010-01-01 00:03:00  1.262304e+09  \n",
       "  4       493   43  1847  701  269  228  2010-01-01 00:04:00  1.262304e+09  \n",
       "  ...     ...  ...   ...  ...  ...  ...                  ...           ...  \n",
       "  525595  643  142   135  435  218  634  2010-12-31 23:55:00  1.293840e+09  \n",
       "  525596  642  146   135  406  231  554  2010-12-31 23:56:00  1.293840e+09  \n",
       "  525597  641  143   134  351  376  712  2010-12-31 23:57:00  1.293840e+09  \n",
       "  525598  641  142   134  349  377  839  2010-12-31 23:58:00  1.293840e+09  \n",
       "  525599  580  140   134  347  379  841  2010-12-31 23:59:00  1.293840e+09  \n",
       "  \n",
       "  [525600 rows x 76 columns],\n",
       "  'timestep': 60,\n",
       "  'test_profiles': ['70', '71', '72'],\n",
       "  'data_usage': 'end'},\n",
       " 'generation': {'data':          PV            timestamp    delta_time\n",
       "  0       0.0  2010-01-01 00:00:00  1.262304e+09\n",
       "  1       0.0  2010-01-01 00:01:00  1.262304e+09\n",
       "  2       0.0  2010-01-01 00:02:00  1.262304e+09\n",
       "  3       0.0  2010-01-01 00:03:00  1.262304e+09\n",
       "  4       0.0  2010-01-01 00:04:00  1.262304e+09\n",
       "  ...     ...                  ...           ...\n",
       "  525595  0.0  2010-12-31 23:55:00  1.293840e+09\n",
       "  525596  0.0  2010-12-31 23:56:00  1.293840e+09\n",
       "  525597  0.0  2010-12-31 23:57:00  1.293840e+09\n",
       "  525598  0.0  2010-12-31 23:58:00  1.293840e+09\n",
       "  525599  0.0  2010-12-31 23:59:00  1.293840e+09\n",
       "  \n",
       "  [525600 rows x 3 columns],\n",
       "  'timestep': 60,\n",
       "  'data_usage': 'end'},\n",
       " 'market': {'data':                 timestamp  delta_time       ask       bid\n",
       "  0     2010-01-01 00:00:00         0.0  0.000014  0.000005\n",
       "  1     2010-01-01 01:00:00      3600.0  0.000014  0.000005\n",
       "  2     2010-01-01 02:00:00      7200.0  0.000011  0.000002\n",
       "  3     2010-01-01 03:00:00     10800.0  0.000010  0.000001\n",
       "  4     2010-01-01 04:00:00     14400.0  0.000010  0.000001\n",
       "  ...                   ...         ...       ...       ...\n",
       "  8755  2010-12-31 19:00:00  31518000.0  0.000015  0.000007\n",
       "  8756  2010-12-31 20:00:00  31521600.0  0.000015  0.000006\n",
       "  8757  2010-12-31 21:00:00  31525200.0  0.000014  0.000006\n",
       "  8758  2010-12-31 22:00:00  31528800.0  0.000014  0.000005\n",
       "  8759  2010-12-31 23:00:00  31532400.0  0.000014  0.000005\n",
       "  \n",
       "  [8760 rows x 4 columns],\n",
       "  'timestep': 3600,\n",
       "  'data_usage': 'end'},\n",
       " 'dummy': {'generator': 10, 'market': {'ask': 10, 'bid': 8}},\n",
       " 'day_of_year': True,\n",
       " 'seconds_of_day': True,\n",
       " 'energy_level': False,\n",
       " 'step': 60,\n",
       " 'seed': 42,\n",
       " 'random_battery_init': False,\n",
       " 'random_data_init': False,\n",
       " 'aging_options': {'degradation': True, 'fading': False},\n",
       " 'reward': {'trading_coeff': 1,\n",
       "  'operational_cost_coeff': 1,\n",
       "  'degradation_coeff': 1,\n",
       "  'clip_action_coeff': 1},\n",
       " 'use_reward_normalization': True,\n",
       " 'termination': {'max_iterations': None, 'min_soh': 0.6}}"
      ]
     },
     "execution_count": 8,
     "metadata": {},
     "output_type": "execute_result"
    }
   ],
   "execution_count": 8
  },
  {
   "metadata": {
    "ExecuteTime": {
     "end_time": "2025-02-10T08:39:17.381475Z",
     "start_time": "2025-02-10T08:39:17.276583Z"
    }
   },
   "cell_type": "code",
   "source": "from ernestogym.ernesto_jax.energy_storage.bess_degrading_dropflow import BatteryEnergyStorageSystem",
   "id": "8619a9404480058e",
   "outputs": [],
   "execution_count": 9
  },
  {
   "metadata": {
    "ExecuteTime": {
     "end_time": "2025-02-10T08:39:19.223574Z",
     "start_time": "2025-02-10T08:39:19.069627Z"
    }
   },
   "cell_type": "code",
   "source": [
    "state = BatteryEnergyStorageSystem.get_init_state(models_config=params['models_config'],\n",
    "                                                  battery_options=params['battery'],\n",
    "                                                  input_var=params['input_var'])\n",
    "print(state)"
   ],
   "id": "9008aad008eb43d4",
   "outputs": [
    {
     "name": "stdout",
     "output_type": "stream",
     "text": [
      "BessBolunDropflowState(nominal_capacity=Array(60., dtype=float32, weak_type=True), c_max=Array(60., dtype=float32, weak_type=True), temp_ambient=Array(293.15, dtype=float32, weak_type=True), v_max=Array(398.4, dtype=float32, weak_type=True), v_min=Array(288., dtype=float32, weak_type=True), elapsed_time=Array(0., dtype=float32, weak_type=True), electrical_state=ElectricalModelState(r0_nominal=Array(10., dtype=float32, weak_type=True), r0=Array(10., dtype=float32, weak_type=True), rc=RCState(resistance_nominal=Array(10., dtype=float32, weak_type=True), resistance=Array(10., dtype=float32, weak_type=True), capacity=Array(10., dtype=float32, weak_type=True), i_resistance=Array(0., dtype=float32, weak_type=True)), ocv_potential=Array(10., dtype=float32, weak_type=True), is_active=Array(False, dtype=bool), v=Array(288., dtype=float32, weak_type=True), i=Array(0., dtype=float32, weak_type=True), v_rc=Array(0., dtype=float32, weak_type=True)), thermal_state=ThermalModelState(c_term=Array(138240, dtype=int32, weak_type=True), r_cond=Array(0.0061, dtype=float32, weak_type=True), r_conv=Array(0.1994, dtype=float32, weak_type=True), dv_dT=Array(0.1, dtype=float32, weak_type=True), temp=Array(293.15, dtype=float32, weak_type=True), heat=Array(0., dtype=float32, weak_type=True)), soc_state=SOCModelState(soc=Array(0.5, dtype=float32, weak_type=True), soc_max=Array(0.8, dtype=float32, weak_type=True), soc_min=Array(0.2, dtype=float32, weak_type=True)), soh=Array(1., dtype=float32, weak_type=True), aging_state=BolunDropflowState(init_soh=Array(1., dtype=float32, weak_type=True), soh=Array(1., dtype=float32, weak_type=True), soc_mean=Array(1., dtype=float32, weak_type=True), temp_battery_mean=Array(0., dtype=float32, weak_type=True), cum_sum_temp_history=Array([0., 0., 0., ..., 0., 0., 0.], dtype=float32), n_steps=Array(0, dtype=int32, weak_type=True), dropflow_state=DropflowState(reversals_idx=Array([0, 0, 0, ..., 0, 0, 0], dtype=int32), reversals_xs=Array([0., 0., 0., ..., 0., 0., 0.], dtype=float32), reversals_length=Array(0, dtype=int32, weak_type=True), mean=Array(0., dtype=float32, weak_type=True), history_length=Array(0, dtype=int32, weak_type=True), idx_last=Array(0, dtype=int32, weak_type=True), x_last=Array(0., dtype=float32, weak_type=True), x=Array(0., dtype=float32, weak_type=True), d_last=Array(0., dtype=float32, weak_type=True), stopper_idx=Array(-1, dtype=int32, weak_type=True), stopper_x=Array(0., dtype=float32, weak_type=True)), f_cyc=Array(0., dtype=float32, weak_type=True), deg=Array(0., dtype=float32, weak_type=True), time_stress_model=TimeStressModel(k_t=Array(2.835e-10, dtype=float32, weak_type=True)), soc_stress_model=SocStressModel(k_soc=Array(0.6835, dtype=float32, weak_type=True), soc_ref=Array(0.5, dtype=float32, weak_type=True)), temp_stress_model=TempStressModel(k_temp=Array(0.059965, dtype=float32, weak_type=True)), dod_bolun_stress_model=DodBolunStressModel(k_delta1=Array(0.00018716, dtype=float32, weak_type=True), k_delta2=Array(4.0585, dtype=float32, weak_type=True), k_delta3=Array(8.6848e-06, dtype=float32, weak_type=True)), alpha_sei=Array(0, dtype=int32, weak_type=True), beta_sei=Array(0, dtype=int32, weak_type=True)), iter=Array(0, dtype=int32, weak_type=True), check_soh_every=Array(100, dtype=int32, weak_type=True))\n"
     ]
    }
   ],
   "execution_count": 10
  },
  {
   "metadata": {
    "ExecuteTime": {
     "end_time": "2025-02-10T08:39:22.342416Z",
     "start_time": "2025-02-10T08:39:22.327868Z"
    }
   },
   "cell_type": "code",
   "source": "# jax.tree.map(lambda a: jnp.array(a), state)",
   "id": "79716d4f3b3244e7",
   "outputs": [],
   "execution_count": 11
  },
  {
   "metadata": {
    "ExecuteTime": {
     "end_time": "2025-02-10T08:39:24.490091Z",
     "start_time": "2025-02-10T08:39:24.475226Z"
    }
   },
   "cell_type": "code",
   "source": [
    "struct_original_state = jax.tree.map(lambda val: val.dtype, state)\n",
    "struct_original_state"
   ],
   "id": "a4d6a11653caea37",
   "outputs": [
    {
     "data": {
      "text/plain": [
       "BessBolunDropflowState(nominal_capacity=dtype('float32'), c_max=dtype('float32'), temp_ambient=dtype('float32'), v_max=dtype('float32'), v_min=dtype('float32'), elapsed_time=dtype('float32'), electrical_state=ElectricalModelState(r0_nominal=dtype('float32'), r0=dtype('float32'), rc=RCState(resistance_nominal=dtype('float32'), resistance=dtype('float32'), capacity=dtype('float32'), i_resistance=dtype('float32')), ocv_potential=dtype('float32'), is_active=dtype('bool'), v=dtype('float32'), i=dtype('float32'), v_rc=dtype('float32')), thermal_state=ThermalModelState(c_term=dtype('int32'), r_cond=dtype('float32'), r_conv=dtype('float32'), dv_dT=dtype('float32'), temp=dtype('float32'), heat=dtype('float32')), soc_state=SOCModelState(soc=dtype('float32'), soc_max=dtype('float32'), soc_min=dtype('float32')), soh=dtype('float32'), aging_state=BolunDropflowState(init_soh=dtype('float32'), soh=dtype('float32'), soc_mean=dtype('float32'), temp_battery_mean=dtype('float32'), cum_sum_temp_history=dtype('float32'), n_steps=dtype('int32'), dropflow_state=DropflowState(reversals_idx=dtype('int32'), reversals_xs=dtype('float32'), reversals_length=dtype('int32'), mean=dtype('float32'), history_length=dtype('int32'), idx_last=dtype('int32'), x_last=dtype('float32'), x=dtype('float32'), d_last=dtype('float32'), stopper_idx=dtype('int32'), stopper_x=dtype('float32')), f_cyc=dtype('float32'), deg=dtype('float32'), time_stress_model=TimeStressModel(k_t=dtype('float32')), soc_stress_model=SocStressModel(k_soc=dtype('float32'), soc_ref=dtype('float32')), temp_stress_model=TempStressModel(k_temp=dtype('float32')), dod_bolun_stress_model=DodBolunStressModel(k_delta1=dtype('float32'), k_delta2=dtype('float32'), k_delta3=dtype('float32')), alpha_sei=dtype('int32'), beta_sei=dtype('int32')), iter=dtype('int32'), check_soh_every=dtype('int32'))"
      ]
     },
     "execution_count": 12,
     "metadata": {},
     "output_type": "execute_result"
    }
   ],
   "execution_count": 12
  },
  {
   "metadata": {
    "ExecuteTime": {
     "end_time": "2025-02-10T08:39:30.637214Z",
     "start_time": "2025-02-10T08:39:30.618875Z"
    }
   },
   "cell_type": "code",
   "source": [
    "from time import time\n",
    "\n",
    "t1 = time()\n",
    "state = BatteryEnergyStorageSystem.step(state, 0.5, 1.)\n",
    "print(time() - t1)"
   ],
   "id": "96d1588c5b92a8d1",
   "outputs": [
    {
     "name": "stdout",
     "output_type": "stream",
     "text": [
      "0.0015363693237304688\n"
     ]
    }
   ],
   "execution_count": 14
  },
  {
   "metadata": {
    "ExecuteTime": {
     "end_time": "2025-02-10T08:39:31.781309Z",
     "start_time": "2025-02-10T08:39:31.760059Z"
    }
   },
   "cell_type": "code",
   "source": "jax.tree.map(lambda val: val.dtype, state) == struct_original_state",
   "id": "7aa938f22b4d0740",
   "outputs": [
    {
     "data": {
      "text/plain": [
       "True"
      ]
     },
     "execution_count": 15,
     "metadata": {},
     "output_type": "execute_result"
    }
   ],
   "execution_count": 15
  },
  {
   "metadata": {
    "ExecuteTime": {
     "end_time": "2025-02-10T08:39:32.962290Z",
     "start_time": "2025-02-10T08:39:32.945525Z"
    }
   },
   "cell_type": "code",
   "source": "jax.tree.map(lambda val: val.dtype, state)",
   "id": "492f18cf89887f66",
   "outputs": [
    {
     "data": {
      "text/plain": [
       "BessBolunDropflowState(nominal_capacity=dtype('float32'), c_max=dtype('float32'), temp_ambient=dtype('float32'), v_max=dtype('float32'), v_min=dtype('float32'), elapsed_time=dtype('float32'), electrical_state=ElectricalModelState(r0_nominal=dtype('float32'), r0=dtype('float32'), rc=RCState(resistance_nominal=dtype('float32'), resistance=dtype('float32'), capacity=dtype('float32'), i_resistance=dtype('float32')), ocv_potential=dtype('float32'), is_active=dtype('bool'), v=dtype('float32'), i=dtype('float32'), v_rc=dtype('float32')), thermal_state=ThermalModelState(c_term=dtype('int32'), r_cond=dtype('float32'), r_conv=dtype('float32'), dv_dT=dtype('float32'), temp=dtype('float32'), heat=dtype('float32')), soc_state=SOCModelState(soc=dtype('float32'), soc_max=dtype('float32'), soc_min=dtype('float32')), soh=dtype('float32'), aging_state=BolunDropflowState(init_soh=dtype('float32'), soh=dtype('float32'), soc_mean=dtype('float32'), temp_battery_mean=dtype('float32'), cum_sum_temp_history=dtype('float32'), n_steps=dtype('int32'), dropflow_state=DropflowState(reversals_idx=dtype('int32'), reversals_xs=dtype('float32'), reversals_length=dtype('int32'), mean=dtype('float32'), history_length=dtype('int32'), idx_last=dtype('int32'), x_last=dtype('float32'), x=dtype('float32'), d_last=dtype('float32'), stopper_idx=dtype('int32'), stopper_x=dtype('float32')), f_cyc=dtype('float32'), deg=dtype('float32'), time_stress_model=TimeStressModel(k_t=dtype('float32')), soc_stress_model=SocStressModel(k_soc=dtype('float32'), soc_ref=dtype('float32')), temp_stress_model=TempStressModel(k_temp=dtype('float32')), dod_bolun_stress_model=DodBolunStressModel(k_delta1=dtype('float32'), k_delta2=dtype('float32'), k_delta3=dtype('float32')), alpha_sei=dtype('int32'), beta_sei=dtype('int32')), iter=dtype('int32'), check_soh_every=dtype('int32'))"
      ]
     },
     "execution_count": 16,
     "metadata": {},
     "output_type": "execute_result"
    }
   ],
   "execution_count": 16
  },
  {
   "metadata": {
    "ExecuteTime": {
     "end_time": "2025-02-10T08:39:37.758198Z",
     "start_time": "2025-02-10T08:39:33.966169Z"
    }
   },
   "cell_type": "code",
   "source": [
    "t1 = time()\n",
    "for i in range(10000):\n",
    "    state = BatteryEnergyStorageSystem.step(state, 0.5, 1.)\n",
    "\n",
    "print(time() - t1)"
   ],
   "id": "42cfce6e775bf106",
   "outputs": [
    {
     "name": "stdout",
     "output_type": "stream",
     "text": [
      "3.7776846885681152\n"
     ]
    }
   ],
   "execution_count": 17
  },
  {
   "metadata": {
    "ExecuteTime": {
     "end_time": "2025-02-10T08:39:44.768934Z",
     "start_time": "2025-02-10T08:39:44.755578Z"
    }
   },
   "cell_type": "code",
   "source": "# jax.make_jaxpr(BatteryEnergyStorageSystem.step)(state, 0.5, 1.)",
   "id": "b17fb4651f2847be",
   "outputs": [],
   "execution_count": 18
  },
  {
   "metadata": {
    "ExecuteTime": {
     "end_time": "2025-02-10T08:39:45.320356Z",
     "start_time": "2025-02-10T08:39:45.302766Z"
    }
   },
   "cell_type": "code",
   "source": "state",
   "id": "6bd5a7c95e448b83",
   "outputs": [
    {
     "data": {
      "text/plain": [
       "BessBolunDropflowState(nominal_capacity=Array(60., dtype=float32, weak_type=True), c_max=Array(nan, dtype=float32, weak_type=True), temp_ambient=Array(293.15, dtype=float32, weak_type=True), v_max=Array(398.4, dtype=float32, weak_type=True), v_min=Array(288., dtype=float32, weak_type=True), elapsed_time=Array(0., dtype=float32, weak_type=True), electrical_state=ElectricalModelState(r0_nominal=Array(10., dtype=float32, weak_type=True), r0=Array(10., dtype=float32, weak_type=True), rc=RCState(resistance_nominal=Array(10., dtype=float32, weak_type=True), resistance=Array(10., dtype=float32, weak_type=True), capacity=Array(10., dtype=float32, weak_type=True), i_resistance=Array(-0.49999964, dtype=float32, weak_type=True)), ocv_potential=Array(10., dtype=float32, weak_type=True), is_active=Array(False, dtype=bool), v=Array(19.999996, dtype=float32, weak_type=True), i=Array(-0.5, dtype=float32, weak_type=True), v_rc=Array(-4.9999967, dtype=float32, weak_type=True)), thermal_state=ThermalModelState(c_term=Array(138240, dtype=int32, weak_type=True), r_cond=Array(0.0061, dtype=float32, weak_type=True), r_conv=Array(0.1994, dtype=float32, weak_type=True), dv_dT=Array(0.1, dtype=float32, weak_type=True), temp=Array(293.1536, dtype=float32, weak_type=True), heat=Array(4.999996, dtype=float32, weak_type=True)), soc_state=SOCModelState(soc=Array(0.52325046, dtype=float32, weak_type=True), soc_max=Array(0.8, dtype=float32, weak_type=True), soc_min=Array(0.2, dtype=float32, weak_type=True)), soh=Array(1., dtype=float32, weak_type=True), aging_state=BolunDropflowState(init_soh=Array(1., dtype=float32, weak_type=True), soh=Array(nan, dtype=float32, weak_type=True), soc_mean=Array(0.51162636, dtype=float32, weak_type=True), temp_battery_mean=Array(293.15265, dtype=float32, weak_type=True), cum_sum_temp_history=Array([  0.     , 293.15015, 586.3004 , ...,   0.     ,   0.     ,\n",
       "         0.     ], dtype=float32), n_steps=Array(10002, dtype=int32, weak_type=True), dropflow_state=DropflowState(reversals_idx=Array([    0, 10000,     0, ...,     0,     0,     0], dtype=int32), reversals_xs=Array([0.5000023 , 0.52324814, 0.        , ..., 0.        , 0.        ,\n",
       "       0.        ], dtype=float32), reversals_length=Array(1, dtype=int32, weak_type=True), mean=Array(0.51162636, dtype=float32, weak_type=True), history_length=Array(10002, dtype=int32, weak_type=True), idx_last=Array(10001, dtype=int32, weak_type=True), x_last=Array(0.52324814, dtype=float32, weak_type=True), x=Array(0.52325046, dtype=float32, weak_type=True), d_last=Array(2.3245811e-06, dtype=float32, weak_type=True), stopper_idx=Array(10001, dtype=int32, weak_type=True), stopper_x=Array(0.52325046, dtype=float32, weak_type=True)), f_cyc=Array(0., dtype=float32, weak_type=True), deg=Array(nan, dtype=float32, weak_type=True), time_stress_model=TimeStressModel(k_t=Array(2.835e-10, dtype=float32, weak_type=True)), soc_stress_model=SocStressModel(k_soc=Array(0.6835, dtype=float32, weak_type=True), soc_ref=Array(0.5, dtype=float32, weak_type=True)), temp_stress_model=TempStressModel(k_temp=Array(0.059965, dtype=float32, weak_type=True)), dod_bolun_stress_model=DodBolunStressModel(k_delta1=Array(0.00018716, dtype=float32, weak_type=True), k_delta2=Array(4.0585, dtype=float32, weak_type=True), k_delta3=Array(8.6848e-06, dtype=float32, weak_type=True)), alpha_sei=Array(0, dtype=int32, weak_type=True), beta_sei=Array(0, dtype=int32, weak_type=True)), iter=Array(10002, dtype=int32, weak_type=True), check_soh_every=Array(100, dtype=int32, weak_type=True))"
      ]
     },
     "execution_count": 19,
     "metadata": {},
     "output_type": "execute_result"
    }
   ],
   "execution_count": 19
  },
  {
   "metadata": {},
   "cell_type": "markdown",
   "source": "# Test parallel of states",
   "id": "9ea17273d6e91202"
  },
  {
   "metadata": {
    "ExecuteTime": {
     "end_time": "2025-02-10T08:39:49.036704Z",
     "start_time": "2025-02-10T08:39:49.024129Z"
    }
   },
   "cell_type": "code",
   "source": [
    "import jax\n",
    "import jax.numpy as jnp"
   ],
   "id": "1b144541fd0b6645",
   "outputs": [],
   "execution_count": 20
  },
  {
   "metadata": {
    "ExecuteTime": {
     "end_time": "2025-02-10T08:39:50.728060Z",
     "start_time": "2025-02-10T08:39:49.790324Z"
    }
   },
   "cell_type": "code",
   "source": [
    "state = BatteryEnergyStorageSystem.get_init_state(models_config=params['models_config'],\n",
    "                                                  battery_options=params['battery'],\n",
    "                                                  input_var=params['input_var'])\n",
    "\n",
    "state_list = []\n",
    "\n",
    "n_states = 50\n",
    "\n",
    "for i in range(n_states):\n",
    "    state = BatteryEnergyStorageSystem.step(state, 0.5, 1.)\n",
    "    state_list.append(state)\n",
    "\n",
    "states = jax.tree.map(lambda *vals: jnp.array(vals), *state_list)"
   ],
   "id": "883a1803e12f99",
   "outputs": [],
   "execution_count": 21
  },
  {
   "metadata": {
    "ExecuteTime": {
     "end_time": "2025-02-10T08:39:53.009217Z",
     "start_time": "2025-02-10T08:39:52.992770Z"
    }
   },
   "cell_type": "code",
   "source": "states.nominal_capacity.shape",
   "id": "c6f8af9eace3c7de",
   "outputs": [
    {
     "data": {
      "text/plain": [
       "(50,)"
      ]
     },
     "execution_count": 22,
     "metadata": {},
     "output_type": "execute_result"
    }
   ],
   "execution_count": 22
  },
  {
   "metadata": {
    "ExecuteTime": {
     "end_time": "2025-02-10T08:39:54.549256Z",
     "start_time": "2025-02-10T08:39:54.530905Z"
    }
   },
   "cell_type": "code",
   "source": [
    "# batched_step = jax.vmap(BatteryEnergyStorageSystem.step)\n",
    "batched_step = jax.jit(jax.vmap(BatteryEnergyStorageSystem.step))   #, backend='cpu')"
   ],
   "id": "e75e58d11d2ade7b",
   "outputs": [],
   "execution_count": 23
  },
  {
   "metadata": {
    "ExecuteTime": {
     "end_time": "2025-02-10T08:40:00.345767Z",
     "start_time": "2025-02-10T08:40:00.328882Z"
    }
   },
   "cell_type": "code",
   "source": [
    "t1 = time()\n",
    "states = batched_step(states, jnp.ones(n_states) * 0.5, jnp.ones(n_states))\n",
    "print(time() - t1)"
   ],
   "id": "69c0d4a810f117f",
   "outputs": [
    {
     "name": "stdout",
     "output_type": "stream",
     "text": [
      "0.0023233890533447266\n"
     ]
    }
   ],
   "execution_count": 25
  },
  {
   "metadata": {
    "ExecuteTime": {
     "end_time": "2025-02-10T08:40:02.044005Z",
     "start_time": "2025-02-10T08:40:02.028472Z"
    }
   },
   "cell_type": "code",
   "source": [
    "# with jax.profiler.trace(\"/tmp/jax-trace\", create_perfetto_link=True):\n",
    "#     for i in range(1000):\n",
    "#         states = batched_step(states, jnp.ones(n_states) * 0.5, jnp.ones(n_states))\n",
    "#     jax.block_until_ready(states)"
   ],
   "id": "4f089115dc98855e",
   "outputs": [],
   "execution_count": 26
  },
  {
   "metadata": {
    "ExecuteTime": {
     "end_time": "2025-02-10T08:40:19.020078Z",
     "start_time": "2025-02-10T08:40:05.598554Z"
    }
   },
   "cell_type": "code",
   "source": [
    "t1 = time()\n",
    "for i in range(10000):\n",
    "    states = batched_step(states, jnp.ones(n_states) * 0.5, jnp.ones(n_states))\n",
    "\n",
    "jax.block_until_ready(states)\n",
    "print(time() - t1)"
   ],
   "id": "53de7a593d9275b9",
   "outputs": [
    {
     "name": "stdout",
     "output_type": "stream",
     "text": [
      "13.402489423751831\n"
     ]
    }
   ],
   "execution_count": 27
  },
  {
   "metadata": {
    "ExecuteTime": {
     "end_time": "2025-02-10T08:40:20.678762Z",
     "start_time": "2025-02-10T08:40:20.658010Z"
    }
   },
   "cell_type": "code",
   "source": "states.nominal_capacity.device",
   "id": "12e9a7ffbe9929e2",
   "outputs": [
    {
     "data": {
      "text/plain": [
       "CudaDevice(id=0)"
      ]
     },
     "execution_count": 28,
     "metadata": {},
     "output_type": "execute_result"
    }
   ],
   "execution_count": 28
  },
  {
   "metadata": {},
   "cell_type": "markdown",
   "source": "## Jitted loop",
   "id": "d2a655037658129f"
  },
  {
   "metadata": {
    "ExecuteTime": {
     "end_time": "2025-02-10T08:40:22.662769Z",
     "start_time": "2025-02-10T08:40:22.647879Z"
    }
   },
   "cell_type": "code",
   "source": [
    "from functools import partial\n",
    "\n",
    "@partial(jax.jit, static_argnums=[0])\n",
    "def maybe_loding(fun, states, act, times):\n",
    "    for i in range(500):\n",
    "        states = batched_step(states, act, times)\n",
    "    return states\n",
    "\n",
    "@partial(jax.jit, static_argnums=[0, 1])\n",
    "def fused_loop(fun, num, states, act, times):\n",
    "    def body_fun(i, states):\n",
    "        return fun(states, act[i], times[i])\n",
    "    return jax.lax.fori_loop(0, num, body_fun, states)"
   ],
   "id": "e4f1bccf77b522b7",
   "outputs": [],
   "execution_count": 29
  },
  {
   "metadata": {},
   "cell_type": "markdown",
   "source": "### single battery",
   "id": "a5e583e0fd310e3c"
  },
  {
   "metadata": {
    "ExecuteTime": {
     "end_time": "2025-02-10T08:40:31.288264Z",
     "start_time": "2025-02-10T08:40:30.632343Z"
    }
   },
   "cell_type": "code",
   "source": [
    "t1 = time()\n",
    "\n",
    "num = 10000\n",
    "\n",
    "state_new = fused_loop(BatteryEnergyStorageSystem.step, num, state, jnp.ones(num) * 0.5, jnp.ones(num))\n",
    "\n",
    "jax.block_until_ready(state_new)\n",
    "print(time() - t1)"
   ],
   "id": "bd79f080cde0ad93",
   "outputs": [
    {
     "name": "stdout",
     "output_type": "stream",
     "text": [
      "0.6427896022796631\n"
     ]
    }
   ],
   "execution_count": 31
  },
  {
   "metadata": {},
   "cell_type": "markdown",
   "source": "### multiple batteries",
   "id": "37d4f2bf2941ad95"
  },
  {
   "metadata": {
    "ExecuteTime": {
     "end_time": "2025-02-10T08:41:02.207429Z",
     "start_time": "2025-02-10T08:40:50.965623Z"
    }
   },
   "cell_type": "code",
   "source": [
    "t1 = time()\n",
    "\n",
    "num = 10000\n",
    "\n",
    "states_new = fused_loop(batched_step, num, states, jnp.ones((num, n_states)) * 0.5, jnp.ones((num, n_states)))\n",
    "\n",
    "jax.block_until_ready(states_new)\n",
    "print(time() - t1)"
   ],
   "id": "a86c7ff8ef75d29c",
   "outputs": [
    {
     "name": "stdout",
     "output_type": "stream",
     "text": [
      "11.227506160736084\n"
     ]
    }
   ],
   "execution_count": 33
  },
  {
   "metadata": {},
   "cell_type": "code",
   "outputs": [],
   "execution_count": null,
   "source": "",
   "id": "c13d6642d8b20077"
  }
 ],
 "metadata": {
  "kernelspec": {
   "display_name": "Python 3",
   "language": "python",
   "name": "python3"
  },
  "language_info": {
   "codemirror_mode": {
    "name": "ipython",
    "version": 2
   },
   "file_extension": ".py",
   "mimetype": "text/x-python",
   "name": "python",
   "nbconvert_exporter": "python",
   "pygments_lexer": "ipython2",
   "version": "2.7.6"
  }
 },
 "nbformat": 4,
 "nbformat_minor": 5
}
