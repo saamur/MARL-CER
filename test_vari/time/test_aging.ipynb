{
 "cells": [
  {
   "metadata": {
    "ExecuteTime": {
     "end_time": "2025-02-06T14:18:40.663792Z",
     "start_time": "2025-02-06T14:18:40.302673Z"
    }
   },
   "cell_type": "code",
   "source": [
    "%load_ext autoreload\n",
    "%autoreload 2\n",
    "%matplotlib inline\n",
    "%cd ../.."
   ],
   "id": "6a98c0a5ffd23357",
   "outputs": [
    {
     "name": "stdout",
     "output_type": "stream",
     "text": [
      "/media/samuele/Disco/PycharmProjectsUbuntu/MARL-CER\n"
     ]
    }
   ],
   "execution_count": 1
  },
  {
   "metadata": {
    "ExecuteTime": {
     "end_time": "2025-02-06T14:18:40.830128Z",
     "start_time": "2025-02-06T14:18:40.668449Z"
    }
   },
   "cell_type": "code",
   "source": [
    "import os\n",
    "\n",
    "# os.environ[\"JAX_PLATFORM_NAME\"] = \"cpu\"\n",
    "\n",
    "import jax\n",
    "import jax.numpy as jnp"
   ],
   "id": "5ce1ac2d63d7ba02",
   "outputs": [],
   "execution_count": 2
  },
  {
   "metadata": {
    "ExecuteTime": {
     "end_time": "2025-02-06T14:18:41.145994Z",
     "start_time": "2025-02-06T14:18:40.904424Z"
    }
   },
   "cell_type": "code",
   "source": "jax.devices()",
   "id": "9d196ae02fa3c910",
   "outputs": [
    {
     "data": {
      "text/plain": [
       "[CudaDevice(id=0)]"
      ]
     },
     "execution_count": 3,
     "metadata": {},
     "output_type": "execute_result"
    }
   ],
   "execution_count": 3
  },
  {
   "metadata": {
    "ExecuteTime": {
     "end_time": "2025-02-06T14:18:41.159641Z",
     "start_time": "2025-02-06T14:18:41.150357Z"
    }
   },
   "cell_type": "code",
   "source": "jax.devices('cpu')",
   "id": "acdfb3ca8a2022c2",
   "outputs": [
    {
     "data": {
      "text/plain": [
       "[CpuDevice(id=0)]"
      ]
     },
     "execution_count": 4,
     "metadata": {},
     "output_type": "execute_result"
    }
   ],
   "execution_count": 4
  },
  {
   "metadata": {
    "ExecuteTime": {
     "end_time": "2025-02-06T14:18:41.312652Z",
     "start_time": "2025-02-06T14:18:41.196244Z"
    }
   },
   "cell_type": "code",
   "source": [
    "o = jnp.ones(100)\n",
    "o.device"
   ],
   "id": "22a694224ae5ac75",
   "outputs": [
    {
     "data": {
      "text/plain": [
       "CudaDevice(id=0)"
      ]
     },
     "execution_count": 5,
     "metadata": {},
     "output_type": "execute_result"
    }
   ],
   "execution_count": 5
  },
  {
   "cell_type": "code",
   "id": "initial_id",
   "metadata": {
    "collapsed": true,
    "ExecuteTime": {
     "end_time": "2025-02-06T14:18:41.962493Z",
     "start_time": "2025-02-06T14:18:41.357862Z"
    }
   },
   "source": "from ernestogym.envs.single_agent.utils import parameter_generator",
   "outputs": [],
   "execution_count": 6
  },
  {
   "metadata": {
    "ExecuteTime": {
     "end_time": "2025-02-06T14:18:41.979674Z",
     "start_time": "2025-02-06T14:18:41.967357Z"
    }
   },
   "cell_type": "code",
   "source": [
    "import os\n",
    "print(os.getcwd())"
   ],
   "id": "87e09ef71ac1924d",
   "outputs": [
    {
     "name": "stdout",
     "output_type": "stream",
     "text": [
      "/media/samuele/Disco/PycharmProjectsUbuntu/MARL-CER\n"
     ]
    }
   ],
   "execution_count": 7
  },
  {
   "metadata": {},
   "cell_type": "code",
   "outputs": [],
   "execution_count": null,
   "source": [
    "pack_options = \"ernestogym/ernesto/data/battery/pack.yaml\"\n",
    "ecm = \"ernestogym/ernesto/data/battery/models/electrical/thevenin_pack.yaml\"\n",
    "# ecm = \"ernestogym/ernesto/data/battery/models/electrical/thevenin_fading_pack.yaml\"\n",
    "r2c = \"ernestogym/ernesto/data/battery/models/thermal/r2c_thermal_pack.yaml\"\n",
    "bolun = \"ernestogym/ernesto/data/battery/models/aging/bolun_pack.yaml\"\n",
    "world = \"ernestogym/envs/single_agent/world_deg.yaml\"\n",
    "# world = \"ernestogym/envs/single_agent/world_fading.yaml\"\n",
    "\n",
    "params = parameter_generator(\n",
    "    input_var='current',\n",
    "    battery_options=pack_options,\n",
    "    electrical_model=ecm,\n",
    "    thermal_model=r2c,\n",
    "    aging_model=bolun,\n",
    "    world_options=world,\n",
    "    use_reward_normalization=True\n",
    "\n",
    ")\n",
    "\n",
    "params"
   ],
   "id": "1f6a3e4a6d2817ca"
  },
  {
   "metadata": {},
   "cell_type": "code",
   "outputs": [],
   "execution_count": null,
   "source": "from ernestogym.ernesto.energy_storage.bess_degrading import BatteryEnergyStorageSystem",
   "id": "f573684d93eef20e"
  },
  {
   "metadata": {
    "ExecuteTime": {
     "end_time": "2025-02-06T14:18:42.340872Z",
     "start_time": "2025-02-06T14:18:42.172699Z"
    }
   },
   "cell_type": "code",
   "source": [
    "state = BatteryEnergyStorageSystem.get_init_state(models_config=params['models_config'],\n",
    "                                                  battery_options=params['battery'],\n",
    "                                                  input_var=params['input_var'])\n",
    "print(state)"
   ],
   "id": "9008aad008eb43d4",
   "outputs": [
    {
     "name": "stdout",
     "output_type": "stream",
     "text": [
      "BessState(nominal_capacity=Array(60., dtype=float32, weak_type=True), c_max=Array(60., dtype=float32, weak_type=True), temp_ambient=Array(298.15, dtype=float32, weak_type=True), elapsed_time=Array(0., dtype=float32, weak_type=True), electrical_state=ElectricalModelState(r0_nominal=Array(10., dtype=float32, weak_type=True), r0=Array(10., dtype=float32, weak_type=True), rc=RCState(resistance_nominal=Array(10., dtype=float32, weak_type=True), resistance=Array(10., dtype=float32, weak_type=True), capacity=Array(10., dtype=float32, weak_type=True), i_resistance=Array(0., dtype=float32, weak_type=True)), ocv_potential=Array(10., dtype=float32, weak_type=True), is_active=Array(False, dtype=bool), v=Array(0., dtype=float32, weak_type=True), i=Array(0., dtype=float32, weak_type=True), v_rc=Array(0., dtype=float32, weak_type=True)), thermal_state=ThermalModelState(c_term=Array(138240, dtype=int32, weak_type=True), r_cond=Array(0.0061, dtype=float32, weak_type=True), r_conv=Array(0.1994, dtype=float32, weak_type=True), dv_dT=Array(0.1, dtype=float32, weak_type=True), temp=Array(293.15, dtype=float32, weak_type=True), heat=Array(0., dtype=float32, weak_type=True)), soc_state=SOCModelState(soc=Array(0.5, dtype=float32, weak_type=True), soc_max=Array(0.8, dtype=float32, weak_type=True), soc_min=Array(0.2, dtype=float32, weak_type=True)), aging_state=AgingModelState(init_soh=Array(1., dtype=float32, weak_type=True), soh=Array(1., dtype=float32, weak_type=True), soc_mean=Array(1, dtype=int32, weak_type=True), temp_battery_mean=Array(293.15, dtype=float32, weak_type=True), n_steps=Array(0, dtype=int32, weak_type=True), stream_flow_state=StreamflowState(is_init=Array(True, dtype=bool), cycle_k=Array(-1, dtype=int32, weak_type=True), last_soc_value=Array(1., dtype=float32, weak_type=True), is_direction_up=Array([False, False, False, ..., False, False, False], dtype=bool), is_used=Array([False, False, False, ..., False, False, False], dtype=bool), is_valid=Array([False, False, False, ..., False, False, False], dtype=bool), min_max_vals=Array([[0., 0.],\n",
      "       [0., 0.],\n",
      "       [0., 0.],\n",
      "       ...,\n",
      "       [0., 0.],\n",
      "       [0., 0.],\n",
      "       [0., 0.]], dtype=float32), mean_values=Array([0., 0., 0., ..., 0., 0., 0.], dtype=float32), second_signal_means=Array([0., 0., 0., ..., 0., 0., 0.], dtype=float32), number_of_samples=Array([0, 0, 0, ..., 0, 0, 0], dtype=int32), start_cycles=Array([0, 0, 0, ..., 0, 0, 0], dtype=int32), iteration=Array(0, dtype=int32, weak_type=True), reset_every=Array(50000, dtype=int32, weak_type=True)), time_stress_model=TimeStressModel(k_t=Array(2.835e-10, dtype=float32, weak_type=True)), soc_stress_model=SocStressModel(k_soc=Array(0.6835, dtype=float32, weak_type=True), soc_ref=Array(0.5, dtype=float32, weak_type=True)), temp_stress_model=TempStressModel(k_temp=Array(0.059965, dtype=float32, weak_type=True)), dod_bolun_stress_model=DodBolunStressModel(k_delta1=Array(0.00018716, dtype=float32, weak_type=True), k_delta2=Array(4.0585, dtype=float32, weak_type=True), k_delta3=Array(8.6848e-06, dtype=float32, weak_type=True)), alpha_sei=Array(0, dtype=int32, weak_type=True), beta_sei=Array(0, dtype=int32, weak_type=True)))\n"
     ]
    }
   ],
   "execution_count": 10
  },
  {
   "metadata": {
    "ExecuteTime": {
     "end_time": "2025-02-06T14:18:42.368379Z",
     "start_time": "2025-02-06T14:18:42.353189Z"
    }
   },
   "cell_type": "code",
   "source": "# jax.tree.map(lambda a: jnp.array(a), state)",
   "id": "79716d4f3b3244e7",
   "outputs": [],
   "execution_count": 11
  },
  {
   "metadata": {
    "ExecuteTime": {
     "end_time": "2025-02-06T14:18:43.052834Z",
     "start_time": "2025-02-06T14:18:42.395570Z"
    }
   },
   "cell_type": "code",
   "source": [
    "from time import time\n",
    "\n",
    "t1 = time()\n",
    "state = BatteryEnergyStorageSystem.step(state, 0.5, 1.)\n",
    "print(time() - t1)"
   ],
   "id": "96d1588c5b92a8d1",
   "outputs": [
    {
     "name": "stdout",
     "output_type": "stream",
     "text": [
      "0.643690824508667\n"
     ]
    }
   ],
   "execution_count": 12
  },
  {
   "metadata": {
    "ExecuteTime": {
     "end_time": "2025-02-06T14:18:47.236768Z",
     "start_time": "2025-02-06T14:18:43.066937Z"
    }
   },
   "cell_type": "code",
   "source": [
    "t1 = time()\n",
    "for i in range(10000):\n",
    "    state = BatteryEnergyStorageSystem.step(state, 0.5, 1.)\n",
    "\n",
    "print(time() - t1)"
   ],
   "id": "42cfce6e775bf106",
   "outputs": [
    {
     "name": "stdout",
     "output_type": "stream",
     "text": [
      "4.15713357925415\n"
     ]
    }
   ],
   "execution_count": 13
  },
  {
   "metadata": {
    "ExecuteTime": {
     "end_time": "2025-02-06T14:18:47.259464Z",
     "start_time": "2025-02-06T14:18:47.248229Z"
    }
   },
   "cell_type": "code",
   "source": "# jax.make_jaxpr(BatteryEnergyStorageSystem.step)(state, 0.5, 1.)",
   "id": "b17fb4651f2847be",
   "outputs": [],
   "execution_count": 14
  },
  {
   "metadata": {
    "ExecuteTime": {
     "end_time": "2025-02-06T14:18:47.306562Z",
     "start_time": "2025-02-06T14:18:47.291230Z"
    }
   },
   "cell_type": "code",
   "source": "state",
   "id": "6bd5a7c95e448b83",
   "outputs": [
    {
     "data": {
      "text/plain": [
       "BessState(nominal_capacity=Array(60., dtype=float32, weak_type=True), c_max=Array(60., dtype=float32, weak_type=True), temp_ambient=Array(298.15, dtype=float32, weak_type=True), elapsed_time=Array(0., dtype=float32, weak_type=True), electrical_state=ElectricalModelState(r0_nominal=Array(10., dtype=float32, weak_type=True), r0=Array(10., dtype=float32, weak_type=True), rc=RCState(resistance_nominal=Array(10., dtype=float32, weak_type=True), resistance=Array(10., dtype=float32, weak_type=True), capacity=Array(10., dtype=float32, weak_type=True), i_resistance=Array(-0.49999964, dtype=float32, weak_type=True)), ocv_potential=Array(10., dtype=float32, weak_type=True), is_active=Array(False, dtype=bool), v=Array(19.999996, dtype=float32, weak_type=True), i=Array(-0.5, dtype=float32, weak_type=True), v_rc=Array(-4.9999967, dtype=float32, weak_type=True)), thermal_state=ThermalModelState(c_term=Array(138240, dtype=int32, weak_type=True), r_cond=Array(0.0061, dtype=float32, weak_type=True), r_conv=Array(0.1994, dtype=float32, weak_type=True), dv_dT=Array(0.1, dtype=float32, weak_type=True), temp=Array(298.1536, dtype=float32, weak_type=True), heat=Array(4.999996, dtype=float32, weak_type=True)), soc_state=SOCModelState(soc=Array(0.52324814, dtype=float32, weak_type=True), soc_max=Array(0.8, dtype=float32, weak_type=True), soc_min=Array(0.2, dtype=float32, weak_type=True)), aging_state=AgingModelState(init_soh=Array(1., dtype=float32, weak_type=True), soh=Array(0., dtype=float32), soc_mean=Array(0.51162523, dtype=float32, weak_type=True), temp_battery_mean=Array(298.10593, dtype=float32, weak_type=True), n_steps=Array(10001, dtype=int32, weak_type=True), stream_flow_state=StreamflowState(is_init=Array(False, dtype=bool), cycle_k=Array(-1, dtype=int32, weak_type=True), last_soc_value=Array(0.52324814, dtype=float32, weak_type=True), is_direction_up=Array([False,  True,  True, ...,  True,  True,  True], dtype=bool), is_used=Array([ True,  True,  True, ...,  True,  True,  True], dtype=bool), is_valid=Array([ True,  True,  True, ...,  True,  True,  True], dtype=bool), min_max_vals=Array([[0.5000023 , 1.        ],\n",
       "       [0.5000023 , 0.50000465],\n",
       "       [0.50000465, 0.500007  ],\n",
       "       ...,\n",
       "       [0.50696677, 0.5069691 ],\n",
       "       [0.5069691 , 0.5069714 ],\n",
       "       [0.5069714 , 0.52324814]], dtype=float32), mean_values=Array([0.5000023 , 0.50000465, 0.500007  , ..., 0.5069691 , 0.5069714 ,\n",
       "       0.51511097], dtype=float32), second_signal_means=Array([293.2987, 293.443 , 293.583 , ..., 298.1536, 298.1536, 298.1536],      dtype=float32), number_of_samples=Array([   1,    1,    1, ...,    1,    1, 7002], dtype=int32), start_cycles=Array([   0,    1,    2, ..., 2997, 2998, 2999], dtype=int32), iteration=Array(10001, dtype=int32, weak_type=True), reset_every=Array(50000, dtype=int32, weak_type=True)), time_stress_model=TimeStressModel(k_t=Array(2.835e-10, dtype=float32, weak_type=True)), soc_stress_model=SocStressModel(k_soc=Array(0.6835, dtype=float32, weak_type=True), soc_ref=Array(0.5, dtype=float32, weak_type=True)), temp_stress_model=TempStressModel(k_temp=Array(0.059965, dtype=float32, weak_type=True)), dod_bolun_stress_model=DodBolunStressModel(k_delta1=Array(0.00018716, dtype=float32, weak_type=True), k_delta2=Array(4.0585, dtype=float32, weak_type=True), k_delta3=Array(8.6848e-06, dtype=float32, weak_type=True)), alpha_sei=Array(0, dtype=int32, weak_type=True), beta_sei=Array(0, dtype=int32, weak_type=True)))"
      ]
     },
     "execution_count": 15,
     "metadata": {},
     "output_type": "execute_result"
    }
   ],
   "execution_count": 15
  },
  {
   "metadata": {},
   "cell_type": "markdown",
   "source": "# Test parallel of states",
   "id": "9ea17273d6e91202"
  },
  {
   "metadata": {
    "ExecuteTime": {
     "end_time": "2025-02-06T14:18:47.352056Z",
     "start_time": "2025-02-06T14:18:47.336764Z"
    }
   },
   "cell_type": "code",
   "source": [
    "import jax\n",
    "import jax.numpy as jnp"
   ],
   "id": "1b144541fd0b6645",
   "outputs": [],
   "execution_count": 16
  },
  {
   "metadata": {
    "ExecuteTime": {
     "end_time": "2025-02-06T14:18:51.089143Z",
     "start_time": "2025-02-06T14:18:47.381771Z"
    }
   },
   "cell_type": "code",
   "source": [
    "state = BatteryEnergyStorageSystem.get_init_state(models_config=params['models_config'],\n",
    "                                                  battery_options=params['battery'],\n",
    "                                                  input_var=params['input_var'])\n",
    "\n",
    "state_list = []\n",
    "\n",
    "n_states = 400\n",
    "\n",
    "for i in range(n_states):\n",
    "    state = BatteryEnergyStorageSystem.step(state, 0.5, 1.)\n",
    "    state_list.append(state)\n",
    "\n",
    "states = jax.tree.map(lambda *vals: jnp.array(vals), *state_list)"
   ],
   "id": "883a1803e12f99",
   "outputs": [],
   "execution_count": 17
  },
  {
   "metadata": {
    "ExecuteTime": {
     "end_time": "2025-02-06T14:18:51.188443Z",
     "start_time": "2025-02-06T14:18:51.176336Z"
    }
   },
   "cell_type": "code",
   "source": "states.nominal_capacity.shape",
   "id": "c6f8af9eace3c7de",
   "outputs": [
    {
     "data": {
      "text/plain": [
       "(400,)"
      ]
     },
     "execution_count": 18,
     "metadata": {},
     "output_type": "execute_result"
    }
   ],
   "execution_count": 18
  },
  {
   "metadata": {
    "ExecuteTime": {
     "end_time": "2025-02-06T14:18:51.256287Z",
     "start_time": "2025-02-06T14:18:51.244250Z"
    }
   },
   "cell_type": "code",
   "source": [
    "# batched_step = jax.vmap(BatteryEnergyStorageSystem.step)\n",
    "batched_step = jax.jit(jax.vmap(BatteryEnergyStorageSystem.step))   #, backend='cpu')"
   ],
   "id": "e75e58d11d2ade7b",
   "outputs": [],
   "execution_count": 19
  },
  {
   "metadata": {
    "ExecuteTime": {
     "end_time": "2025-02-06T14:18:52.410498Z",
     "start_time": "2025-02-06T14:18:51.329784Z"
    }
   },
   "cell_type": "code",
   "source": [
    "t1 = time()\n",
    "states = batched_step(states, jnp.ones(n_states) * 0.5, jnp.ones(n_states))\n",
    "print(time() - t1)"
   ],
   "id": "69c0d4a810f117f",
   "outputs": [
    {
     "name": "stdout",
     "output_type": "stream",
     "text": [
      "1.0683262348175049\n"
     ]
    }
   ],
   "execution_count": 20
  },
  {
   "metadata": {
    "ExecuteTime": {
     "end_time": "2025-02-06T14:18:52.499700Z",
     "start_time": "2025-02-06T14:18:52.488647Z"
    }
   },
   "cell_type": "code",
   "source": [
    "# with jax.profiler.trace(\"/tmp/jax-trace\", create_perfetto_link=True):\n",
    "#     for i in range(1000):\n",
    "#         states = batched_step(states, jnp.ones(n_states) * 0.5, jnp.ones(n_states))\n",
    "#     jax.block_until_ready(states)"
   ],
   "id": "4f089115dc98855e",
   "outputs": [],
   "execution_count": 21
  },
  {
   "metadata": {
    "ExecuteTime": {
     "end_time": "2025-02-06T14:19:15.910710Z",
     "start_time": "2025-02-06T14:18:52.554667Z"
    }
   },
   "cell_type": "code",
   "source": [
    "t1 = time()\n",
    "for i in range(10000):\n",
    "    states = batched_step(states, jnp.ones(n_states) * 0.5, jnp.ones(n_states))\n",
    "\n",
    "jax.block_until_ready(states)\n",
    "print(time() - t1)"
   ],
   "id": "53de7a593d9275b9",
   "outputs": [
    {
     "name": "stdout",
     "output_type": "stream",
     "text": [
      "23.343553066253662\n"
     ]
    }
   ],
   "execution_count": 22
  },
  {
   "metadata": {
    "ExecuteTime": {
     "end_time": "2025-02-06T14:19:16.008478Z",
     "start_time": "2025-02-06T14:19:15.994508Z"
    }
   },
   "cell_type": "code",
   "source": "states.nominal_capacity.device",
   "id": "12e9a7ffbe9929e2",
   "outputs": [
    {
     "data": {
      "text/plain": [
       "CudaDevice(id=0)"
      ]
     },
     "execution_count": 23,
     "metadata": {},
     "output_type": "execute_result"
    }
   ],
   "execution_count": 23
  },
  {
   "metadata": {},
   "cell_type": "markdown",
   "source": "## Jitted loop",
   "id": "d2a655037658129f"
  },
  {
   "metadata": {
    "ExecuteTime": {
     "end_time": "2025-02-06T14:19:16.090520Z",
     "start_time": "2025-02-06T14:19:16.075476Z"
    }
   },
   "cell_type": "code",
   "source": [
    "from functools import partial\n",
    "\n",
    "@partial(jax.jit, static_argnums=[0])\n",
    "def maybe_loding(fun, states, act, times):\n",
    "    for i in range(500):\n",
    "        states = batched_step(states, act, times)\n",
    "    return states\n",
    "\n",
    "@partial(jax.jit, static_argnums=[0, 1])\n",
    "def fused_loop(fun, num, states, act, times):\n",
    "    def body_fun(i, states):\n",
    "        return fun(states, act[i], times[i])\n",
    "    return jax.lax.fori_loop(0, num, body_fun, states)"
   ],
   "id": "e4f1bccf77b522b7",
   "outputs": [],
   "execution_count": 24
  },
  {
   "metadata": {},
   "cell_type": "markdown",
   "source": "### single battery",
   "id": "a5e583e0fd310e3c"
  },
  {
   "metadata": {
    "ExecuteTime": {
     "end_time": "2025-02-06T14:19:45.927699Z",
     "start_time": "2025-02-06T14:19:45.222597Z"
    }
   },
   "cell_type": "code",
   "source": [
    "t1 = time()\n",
    "\n",
    "num = 10000\n",
    "\n",
    "state_new = fused_loop(BatteryEnergyStorageSystem.step, num, state, jnp.ones(num) * 0.5, jnp.ones(num))\n",
    "\n",
    "jax.block_until_ready(state_new)\n",
    "print(time() - t1)"
   ],
   "id": "bd79f080cde0ad93",
   "outputs": [
    {
     "name": "stdout",
     "output_type": "stream",
     "text": [
      "0.6907165050506592\n"
     ]
    }
   ],
   "execution_count": 29
  },
  {
   "metadata": {},
   "cell_type": "markdown",
   "source": "### multiple batteries",
   "id": "37d4f2bf2941ad95"
  },
  {
   "metadata": {
    "ExecuteTime": {
     "end_time": "2025-02-06T14:20:08.133542Z",
     "start_time": "2025-02-06T14:19:47.970907Z"
    }
   },
   "cell_type": "code",
   "source": [
    "t1 = time()\n",
    "\n",
    "num = 10000\n",
    "\n",
    "states_new = fused_loop(batched_step, num, states, jnp.ones((num, n_states)) * 0.5, jnp.ones((num, n_states)))\n",
    "\n",
    "jax.block_until_ready(states_new)\n",
    "print(time() - t1)"
   ],
   "id": "a86c7ff8ef75d29c",
   "outputs": [
    {
     "name": "stdout",
     "output_type": "stream",
     "text": [
      "20.147693634033203\n"
     ]
    }
   ],
   "execution_count": 30
  }
 ],
 "metadata": {
  "kernelspec": {
   "display_name": "Python 3",
   "language": "python",
   "name": "python3"
  },
  "language_info": {
   "codemirror_mode": {
    "name": "ipython",
    "version": 2
   },
   "file_extension": ".py",
   "mimetype": "text/x-python",
   "name": "python",
   "nbconvert_exporter": "python",
   "pygments_lexer": "ipython2",
   "version": "2.7.6"
  }
 },
 "nbformat": 4,
 "nbformat_minor": 5
}
