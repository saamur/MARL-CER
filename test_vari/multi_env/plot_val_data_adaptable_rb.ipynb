{
 "cells": [
  {
   "cell_type": "code",
   "id": "initial_id",
   "metadata": {
    "collapsed": true,
    "ExecuteTime": {
     "end_time": "2025-04-11T09:46:28.312752Z",
     "start_time": "2025-04-11T09:46:28.309746Z"
    }
   },
   "source": [
    "import os\n",
    "os.environ['XLA_PYTHON_CLIENT_MEM_FRACTION'] = '.3'\n",
    "\n",
    "from algorithms.utils import restore_state_multi_agent_adaptable_rb\n",
    "import numpy as np\n",
    "import jax\n",
    "import jax.numpy as jnp\n",
    "import matplotlib.pyplot as plt"
   ],
   "outputs": [],
   "execution_count": 33
  },
  {
   "metadata": {
    "ExecuteTime": {
     "end_time": "2025-04-11T09:46:53.095339Z",
     "start_time": "2025-04-11T09:46:28.358344Z"
    }
   },
   "cell_type": "code",
   "source": [
    "directory = '/media/samuele/Disco/PycharmProjectsUbuntu/MARL-CER/trained_agents/20250411_105752_bat_net_type_actor_critic_rec_net_type_actor_critic_concat_lr_bat_None_lr_REC_cosine_tot_timesteps_5256000_lr_sched_cosine_multiagent'\n",
    "\n",
    "network_rec, config, world_metadata, train_info, val_info = restore_state_multi_agent_adaptable_rb(directory)"
   ],
   "id": "dc7b9be667e36778",
   "outputs": [
    {
     "name": "stdout",
     "output_type": "stream",
     "text": [
      "norm rec\n"
     ]
    }
   ],
   "execution_count": 34
  },
  {
   "metadata": {
    "ExecuteTime": {
     "end_time": "2025-04-11T09:46:53.148284Z",
     "start_time": "2025-04-11T09:46:53.144794Z"
    }
   },
   "cell_type": "code",
   "source": "config",
   "id": "2bccbc95a478751f",
   "outputs": [
    {
     "data": {
      "text/plain": [
       "{'ACTIVATION': 'tanh',\n",
       " 'CLIP_EPS': 0.2,\n",
       " 'DEBUG': False,\n",
       " 'ENT_COEF': 0.0,\n",
       " 'ENV_NAME': None,\n",
       " 'ENV_TYPE': 'normal',\n",
       " 'FRACTION_DYNAMIC_LR_REC': 1.0,\n",
       " 'GAE_LAMBDA': 0.98,\n",
       " 'GAMMA': 0.99,\n",
       " 'INITIAL_POLICIES': (True, False, True),\n",
       " 'IS_AGENT_ADAPTABLE': (True, False, False),\n",
       " 'LOGISTIC_FUNCTION_TO_ACTOR': False,\n",
       " 'LR_REC': 0.0005,\n",
       " 'LR_REC_MIN': 1e-05,\n",
       " 'LR_SCHEDULE': 'cosine',\n",
       " 'LSTM_ACTIVATION': 'tanh',\n",
       " 'LSTM_NET_ARCH': (24, 12),\n",
       " 'MAX_GRAD_NORM': 0.5,\n",
       " 'MINIBATCH_SIZE_REC': 1024,\n",
       " 'NETWORK_TYPE_BATTERIES': 'actor_critic',\n",
       " 'NETWORK_TYPE_REC': 'actor_critic_concat',\n",
       " 'NET_ARCH_REC': (64, 32),\n",
       " 'NORMALIZE_ADVANTAGES': False,\n",
       " 'NORMALIZE_ENV': False,\n",
       " 'NORMALIZE_NN_INPUTS': True,\n",
       " 'NORMALIZE_REWARD_FOR_GAE_AND_TARGETS': True,\n",
       " 'NORMALIZE_TARGETS': False,\n",
       " 'NUM_BATTERY_AGENTS': 3,\n",
       " 'NUM_ENVS': 4,\n",
       " 'NUM_MINIBATCHES': 32,\n",
       " 'NUM_MINIBATCHES_REC': 32,\n",
       " 'NUM_STEPS': 8192,\n",
       " 'NUM_UPDATES': 160,\n",
       " 'PASSIVE_HOUSES': True,\n",
       " 'REC_ACTION_SPACE_SIZE': 3,\n",
       " 'REC_OBS_IS_LOCAL': {'cos_day_of_year': False,\n",
       "  'cos_seconds_of_day': False,\n",
       "  'demands_base_battery_houses': True,\n",
       "  'demands_battery_battery_houses': True,\n",
       "  'generations_battery_houses': True,\n",
       "  'mean_demands_base': False,\n",
       "  'mean_demands_batteries': False,\n",
       "  'mean_generations': False,\n",
       "  'network_REC_minus': False,\n",
       "  'network_REC_plus': False,\n",
       "  'sin_day_of_year': False,\n",
       "  'sin_seconds_of_day': False},\n",
       " 'REC_OBS_IS_NORMALIZABLE': {'cos_day_of_year': False,\n",
       "  'cos_seconds_of_day': False,\n",
       "  'demands_base_battery_houses': True,\n",
       "  'demands_battery_battery_houses': True,\n",
       "  'generations_battery_houses': True,\n",
       "  'mean_demands_base': True,\n",
       "  'mean_demands_batteries': True,\n",
       "  'mean_generations': True,\n",
       "  'network_REC_minus': True,\n",
       "  'network_REC_plus': True,\n",
       "  'sin_day_of_year': False,\n",
       "  'sin_seconds_of_day': False},\n",
       " 'REC_OBS_IS_SEQUENCE': {'cos_day_of_year': False,\n",
       "  'cos_seconds_of_day': False,\n",
       "  'demands_base_battery_houses': True,\n",
       "  'demands_battery_battery_houses': True,\n",
       "  'generations_battery_houses': True,\n",
       "  'mean_demands_base': True,\n",
       "  'mean_demands_batteries': True,\n",
       "  'mean_generations': True,\n",
       "  'network_REC_minus': True,\n",
       "  'network_REC_plus': True,\n",
       "  'sin_day_of_year': False,\n",
       "  'sin_seconds_of_day': False},\n",
       " 'REC_OBS_KEYS': ('demands_base_battery_houses',\n",
       "  'demands_battery_battery_houses',\n",
       "  'generations_battery_houses',\n",
       "  'mean_demands_base',\n",
       "  'mean_demands_batteries',\n",
       "  'mean_generations',\n",
       "  'sin_day_of_year',\n",
       "  'cos_day_of_year',\n",
       "  'sin_seconds_of_day',\n",
       "  'cos_seconds_of_day',\n",
       "  'network_REC_plus',\n",
       "  'network_REC_minus'),\n",
       " 'TOTAL_TIMESTEPS': 5256000,\n",
       " 'UPDATE_EPOCHS': 10,\n",
       " 'USE_REC_RULE_BASED_POLICY': False,\n",
       " 'USE_WEIGHT_DECAY': True,\n",
       " 'VF_COEF': 0.5}"
      ]
     },
     "execution_count": 35,
     "metadata": {},
     "output_type": "execute_result"
    }
   ],
   "execution_count": 35
  },
  {
   "metadata": {
    "ExecuteTime": {
     "end_time": "2025-04-11T09:46:53.194724Z",
     "start_time": "2025-04-11T09:46:53.191911Z"
    }
   },
   "cell_type": "code",
   "source": "world_metadata",
   "id": "d61fb3c94aa0ffad",
   "outputs": [
    {
     "data": {
      "text/plain": [
       "WorldMetadata(world_train={'num_battery_houses': 3, 'battery_observations': ['demand', 'generation', 'temperature', 'soc', 'day_of_year', 'seconds_of_day', 'selling_price', 'buying_price', 'network_REC_diff'], 'rec_observations': ['demands_base_battery_houses', 'demands_battery_battery_houses', 'generations_base_battery_houses', 'mean_demands_base', 'mean_demands_batteries', 'mean_generations', 'day_of_year', 'seconds_of_day', 'network_REC_plus', 'network_REC_minus'], 'demand': {'path': 'ernestogym/ernesto_jax/data/demand/rse_profiles_train.csv', 'timestep': 3600, 'test_profiles': None, 'data_usage': 'end'}, 'generation': {'path': {'battery_houses_generation': ['ernestogym/ernesto_jax/data/generation/Timeseries_45.235_10.693_SA3_3kWp_crystSi_14_30deg_-60deg_2015_2018._train.csv', 'ernestogym/ernesto_jax/data/generation/Timeseries_45.235_10.693_SA3_3kWp_crystSi_14_30deg_0deg_2015_2018._train.csv', 'ernestogym/ernesto_jax/data/generation/Timeseries_45.235_10.693_SA3_3kWp_crystSi_14_30deg_60deg_2015_2018._train.csv'], 'passive_houses_generation': 'ernestogym/ernesto_jax/data/generation/dummy_gen_2015_2018.csv'}, 'timestep': 3600, 'data_usage': 'end'}, 'temp_amb': {'path': 'ernestogym/ernesto_jax/data/temp_amb/temp_amb_2015-2019_train.csv', 'timestep': 86400, 'data_usage': 'end'}, 'market': {'path': 'ernestogym/ernesto_jax/data/market/gme_2015-2019_train_new.csv', 'timestep': 3600, 'data_usage': 'end'}, 'num_passive_houses': 1, 'step': 3600, 'termination': {'max_iterations': None, 'min_soh': 0.6}, 'reward': {'trading_coeff': 1, 'operational_cost_coeff': 0, 'degradation_coeff': 1, 'clip_action_coeff': 1, 'glob_coeff': 1}, 'aging_options': {'degradation': True, 'fading': False}, 'use_reward_normalization': False, 'valorization_incentive_coeff': 8e-06, 'incentivizing_tariff_coeff': 8e-05, 'incentivizing_tariff_max_variable': 4e-05, 'incentivizing_tariff_baseline_variable': 0.00018, 'fairness_coeff': 0.0, 'smoothing_factor_rec_actions': 0.99, 'aging': 'ernestogym/ernesto_jax/data/battery_new/models/aging/bolun_pack.yaml'}, world_test={'num_battery_houses': 3, 'battery_observations': ['demand', 'generation', 'temperature', 'soc', 'day_of_year', 'seconds_of_day', 'selling_price', 'buying_price', 'network_REC_diff'], 'rec_observations': ['demands_base_battery_houses', 'demands_battery_battery_houses', 'generations_base_battery_houses', 'mean_demands_base', 'mean_demands_batteries', 'mean_generations', 'day_of_year', 'seconds_of_day', 'network_REC_plus', 'network_REC_minus'], 'demand': {'path': 'ernestogym/ernesto_jax/data/demand/rse_profiles_test.csv', 'timestep': 3600, 'data_usage': 'end'}, 'generation': {'path': {'battery_houses_generation': ['ernestogym/ernesto_jax/data/generation/Timeseries_45.235_10.693_SA3_3kWp_crystSi_14_30deg_-60deg_2019_2019._test.csv', 'ernestogym/ernesto_jax/data/generation/Timeseries_45.235_10.693_SA3_3kWp_crystSi_14_30deg_0deg_2019_2019._test.csv', 'ernestogym/ernesto_jax/data/generation/Timeseries_45.235_10.693_SA3_3kWp_crystSi_14_30deg_60deg_2019_2019._test.csv'], 'passive_houses_generation': 'ernestogym/ernesto_jax/data/generation/dummy_gen_2019_2019.csv'}, 'timestep': 3600, 'data_usage': 'end'}, 'temp_amb': {'path': 'ernestogym/ernesto_jax/data/temp_amb/temp_amb_2019-2020_test.csv', 'timestep': 86400, 'data_usage': 'end'}, 'market': {'path': 'ernestogym/ernesto_jax/data/market/gme_2019-2020_test_new.csv', 'timestep': 3600, 'data_usage': 'end'}, 'num_passive_houses': 1, 'step': 3600, 'termination': {'max_iterations': None, 'min_soh': 0.6}, 'reward': {'trading_coeff': 1, 'operational_cost_coeff': 0, 'degradation_coeff': 1, 'clip_action_coeff': 1, 'glob_coeff': 1}, 'aging_options': {'degradation': True, 'fading': False}, 'use_reward_normalization': False, 'valorization_incentive_coeff': 8e-06, 'incentivizing_tariff_coeff': 8e-05, 'incentivizing_tariff_max_variable': 4e-05, 'incentivizing_tariff_baseline_variable': 0.00018, 'fairness_coeff': 0.0, 'smoothing_factor_rec_actions': 0.99, 'aging': 'ernestogym/ernesto_jax/data/battery_new/models/aging/bolun_pack.yaml'}, battery={'battery': {'sign_convention': 'passive', 'params': {'nominal_voltage': 350.4, 'nominal_capacity': 60.0, 'nominal_dod': 0.8, 'nominal_lifetime': 3000, 'v_max': 398.4, 'v_min': 288.0, 'temp_ambient': 298.15, 'nominal_cost': 1500.0}, 'bounds': {'voltage': {'low': 288.0, 'high': 398.4}, 'current': {'low': -180.0, 'high': 60.0}, 'power': {'low': -71712.0, 'high': 23904.0}, 'temperature': {'low': 273.15, 'high': 323.15}, 'temp_ambient': {'low': 273.15, 'high': 323.15}, 'soc': {'low': 0.2, 'high': 1.0}, 'soh': {'low': 0.6, 'high': 1.0}}, 'init': {'voltage': 310.8, 'current': 0.0, 'power': 0.0, 'temperature': 293.15, 'temp_ambient': 293.15, 'soc': 0.5, 'soh': 1.0}}}, electrical={'type': 'electrical', 'class_name': 'TheveninModel', 'use_fading': False, 'components': {'r0': {'selected_type': 'lookup', 'scalar': 10.0, 'lookup': {'table': 'r0_pack.csv', 'inputs': [{'var': 'temperature', 'label': 'temp', 'unit': 'degK'}, {'var': 'soc', 'label': 'soc', 'unit': None}], 'output': {'var': 'resistance', 'label': 'r0', 'unit': 'ohm'}}}, 'r1': {'selected_type': 'lookup', 'scalar': 10.0, 'lookup': {'table': 'r1_pack.csv', 'inputs': [{'var': 'temperature', 'label': 'temp', 'unit': 'degK'}, {'var': 'soc', 'label': 'soc', 'unit': None}], 'output': {'var': 'resistance', 'label': 'r1', 'unit': 'ohm'}}}, 'c': {'selected_type': 'lookup', 'scalar': 10.0, 'lookup': {'table': 'c_pack.csv', 'inputs': [{'var': 'temperature', 'label': 'temp', 'unit': 'degK'}, {'var': 'soc', 'label': 'soc', 'unit': None}], 'output': {'var': 'capacity', 'label': 'c', 'unit': 'F'}}}, 'v_ocv': {'selected_type': 'lookup', 'scalar': 10.0, 'lookup': {'table': 'voc_pack.csv', 'inputs': [{'var': 'temperature', 'label': 'temp', 'unit': 'degK'}, {'var': 'soc', 'label': 'soc', 'unit': None}], 'output': {'var': 'voltage', 'label': 'voc', 'unit': 'V'}}}}}, thermal={'type': 'thermal', 'class_name': 'R2CThermal', 'components': {'c_term': {'selected_type': 'scalar', 'scalar': 138240}, 'r_cond': {'selected_type': 'scalar', 'scalar': 0.0061}, 'r_conv': {'selected_type': 'scalar', 'scalar': 0.1994}, 'dv_dT': {'selected_type': 'scalar', 'scalar': 0.1, 'lookup': {'inputs': {'soc': [1, 0.9, 0.8, 0.7, 0.6, 0.5, 0.4, 0.3, 0.2, 0.1, 0.0]}, 'output': [8e-05, 6e-05, 8e-05, 5e-05, 0.0001, 0.00018, 0.00016, 8e-05, -5e-05, -0.00016, -0.0007]}}}}, aging={'type': 'aging', 'class_name': 'BolunDropflowModel', 'components': {'SEI': {'alpha_sei': 0.0575, 'beta_sei': 121}, 'stress_factors': {'calendar': ['time', 'soc', 'temperature'], 'cyclic': ['soc', 'temperature', 'dod_bolun']}, 'cycle_counting_mode': 'rainflow'}, 'stress_models': {'time': {'k_t': 4.14e-10}, 'soc': {'k_soc': 1.04, 'soc_ref': 0.5}, 'temperature': {'k_temp': 0.0693, 'temp_ref': 298.15}, 'dod_bolun': {'k_delta1': 140000.0, 'k_delta2': -0.501, 'k_delta3': -123000.0}, 'dod_quadratic': 0, 'dod_exponential': 0}})"
      ]
     },
     "execution_count": 36,
     "metadata": {},
     "output_type": "execute_result"
    }
   ],
   "execution_count": 36
  },
  {
   "metadata": {
    "ExecuteTime": {
     "end_time": "2025-04-11T09:46:53.839836Z",
     "start_time": "2025-04-11T09:46:53.239424Z"
    }
   },
   "cell_type": "code",
   "source": "jax.tree.map(lambda x: jnp.isnan(x).any(axis=jnp.arange(1, x.ndim)), train_info)",
   "id": "feb318268a2d1ada",
   "outputs": [
    {
     "data": {
      "text/plain": [
       "{'actions': {'REC_agent': Array([False, False, False, False, False, False, False, False, False,\n",
       "         False, False, False, False, False, False, False, False, False,\n",
       "         False, False, False, False, False, False, False, False, False,\n",
       "         False, False, False, False, False, False, False, False, False,\n",
       "         False, False, False, False, False, False, False, False, False,\n",
       "         False, False, False, False, False, False, False, False, False,\n",
       "         False, False, False, False, False, False, False, False, False,\n",
       "         False, False, False, False, False, False, False, False, False,\n",
       "         False, False, False, False, False, False, False, False, False,\n",
       "         False, False, False, False, False, False, False, False, False,\n",
       "         False, False, False, False, False, False, False, False, False,\n",
       "         False, False, False, False, False, False, False, False, False,\n",
       "         False, False, False, False, False, False, False, False, False,\n",
       "         False, False, False, False, False, False, False, False, False,\n",
       "         False, False, False, False, False, False, False, False, False,\n",
       "         False, False, False, False, False, False, False, False, False,\n",
       "         False, False, False, False, False, False, False, False, False,\n",
       "         False, False, False, False, False, False, False], dtype=bool),\n",
       "  'battery_agent_0': Array([False, False, False, False, False, False, False, False, False,\n",
       "         False, False, False, False, False, False, False, False, False,\n",
       "         False, False, False, False, False, False, False, False, False,\n",
       "         False, False, False, False, False, False, False, False, False,\n",
       "         False, False, False, False, False, False, False, False, False,\n",
       "         False, False, False, False, False, False, False, False, False,\n",
       "         False, False, False, False, False, False, False, False, False,\n",
       "         False, False, False, False, False, False, False, False, False,\n",
       "         False, False, False, False, False, False, False, False, False,\n",
       "         False, False, False, False, False, False, False, False, False,\n",
       "         False, False, False, False, False, False, False, False, False,\n",
       "         False, False, False, False, False, False, False, False, False,\n",
       "         False, False, False, False, False, False, False, False, False,\n",
       "         False, False, False, False, False, False, False, False, False,\n",
       "         False, False, False, False, False, False, False, False, False,\n",
       "         False, False, False, False, False, False, False, False, False,\n",
       "         False, False, False, False, False, False, False, False, False,\n",
       "         False, False, False, False, False, False, False], dtype=bool),\n",
       "  'battery_agent_1': Array([False, False, False, False, False, False, False, False, False,\n",
       "         False, False, False, False, False, False, False, False, False,\n",
       "         False, False, False, False, False, False, False, False, False,\n",
       "         False, False, False, False, False, False, False, False, False,\n",
       "         False, False, False, False, False, False, False, False, False,\n",
       "         False, False, False, False, False, False, False, False, False,\n",
       "         False, False, False, False, False, False, False, False, False,\n",
       "         False, False, False, False, False, False, False, False, False,\n",
       "         False, False, False, False, False, False, False, False, False,\n",
       "         False, False, False, False, False, False, False, False, False,\n",
       "         False, False, False, False, False, False, False, False, False,\n",
       "         False, False, False, False, False, False, False, False, False,\n",
       "         False, False, False, False, False, False, False, False, False,\n",
       "         False, False, False, False, False, False, False, False, False,\n",
       "         False, False, False, False, False, False, False, False, False,\n",
       "         False, False, False, False, False, False, False, False, False,\n",
       "         False, False, False, False, False, False, False, False, False,\n",
       "         False, False, False, False, False, False, False], dtype=bool),\n",
       "  'battery_agent_2': Array([False, False, False, False, False, False, False, False, False,\n",
       "         False, False, False, False, False, False, False, False, False,\n",
       "         False, False, False, False, False, False, False, False, False,\n",
       "         False, False, False, False, False, False, False, False, False,\n",
       "         False, False, False, False, False, False, False, False, False,\n",
       "         False, False, False, False, False, False, False, False, False,\n",
       "         False, False, False, False, False, False, False, False, False,\n",
       "         False, False, False, False, False, False, False, False, False,\n",
       "         False, False, False, False, False, False, False, False, False,\n",
       "         False, False, False, False, False, False, False, False, False,\n",
       "         False, False, False, False, False, False, False, False, False,\n",
       "         False, False, False, False, False, False, False, False, False,\n",
       "         False, False, False, False, False, False, False, False, False,\n",
       "         False, False, False, False, False, False, False, False, False,\n",
       "         False, False, False, False, False, False, False, False, False,\n",
       "         False, False, False, False, False, False, False, False, False,\n",
       "         False, False, False, False, False, False, False, False, False,\n",
       "         False, False, False, False, False, False, False], dtype=bool)},\n",
       " 'balance_minus': Array([False, False, False, False, False, False, False, False, False,\n",
       "        False, False, False, False, False, False, False, False, False,\n",
       "        False, False, False, False, False, False, False, False, False,\n",
       "        False, False, False, False, False, False, False, False, False,\n",
       "        False, False, False, False, False, False, False, False, False,\n",
       "        False, False, False, False, False, False, False, False, False,\n",
       "        False, False, False, False, False, False, False, False, False,\n",
       "        False, False, False, False, False, False, False, False, False,\n",
       "        False, False, False, False, False, False, False, False, False,\n",
       "        False, False, False, False, False, False, False, False, False,\n",
       "        False, False, False, False, False, False, False, False, False,\n",
       "        False, False, False, False, False, False, False, False, False,\n",
       "        False, False, False, False, False, False, False, False, False,\n",
       "        False, False, False, False, False, False, False, False, False,\n",
       "        False, False, False, False, False, False, False, False, False,\n",
       "        False, False, False, False, False, False, False, False, False,\n",
       "        False, False, False, False, False, False, False, False, False,\n",
       "        False, False, False, False, False, False, False], dtype=bool),\n",
       " 'balance_plus': Array([False, False, False, False, False, False, False, False, False,\n",
       "        False, False, False, False, False, False, False, False, False,\n",
       "        False, False, False, False, False, False, False, False, False,\n",
       "        False, False, False, False, False, False, False, False, False,\n",
       "        False, False, False, False, False, False, False, False, False,\n",
       "        False, False, False, False, False, False, False, False, False,\n",
       "        False, False, False, False, False, False, False, False, False,\n",
       "        False, False, False, False, False, False, False, False, False,\n",
       "        False, False, False, False, False, False, False, False, False,\n",
       "        False, False, False, False, False, False, False, False, False,\n",
       "        False, False, False, False, False, False, False, False, False,\n",
       "        False, False, False, False, False, False, False, False, False,\n",
       "        False, False, False, False, False, False, False, False, False,\n",
       "        False, False, False, False, False, False, False, False, False,\n",
       "        False, False, False, False, False, False, False, False, False,\n",
       "        False, False, False, False, False, False, False, False, False,\n",
       "        False, False, False, False, False, False, False, False, False,\n",
       "        False, False, False, False, False, False, False], dtype=bool),\n",
       " 'buy_prices': Array([False, False, False, False, False, False, False, False, False,\n",
       "        False, False, False, False, False, False, False, False, False,\n",
       "        False, False, False, False, False, False, False, False, False,\n",
       "        False, False, False, False, False, False, False, False, False,\n",
       "        False, False, False, False, False, False, False, False, False,\n",
       "        False, False, False, False, False, False, False, False, False,\n",
       "        False, False, False, False, False, False, False, False, False,\n",
       "        False, False, False, False, False, False, False, False, False,\n",
       "        False, False, False, False, False, False, False, False, False,\n",
       "        False, False, False, False, False, False, False, False, False,\n",
       "        False, False, False, False, False, False, False, False, False,\n",
       "        False, False, False, False, False, False, False, False, False,\n",
       "        False, False, False, False, False, False, False, False, False,\n",
       "        False, False, False, False, False, False, False, False, False,\n",
       "        False, False, False, False, False, False, False, False, False,\n",
       "        False, False, False, False, False, False, False, False, False,\n",
       "        False, False, False, False, False, False, False, False, False,\n",
       "        False, False, False, False, False, False, False], dtype=bool),\n",
       " 'demands': Array([False, False, False, False, False, False, False, False, False,\n",
       "        False, False, False, False, False, False, False, False, False,\n",
       "        False, False, False, False, False, False, False, False, False,\n",
       "        False, False, False, False, False, False, False, False, False,\n",
       "        False, False, False, False, False, False, False, False, False,\n",
       "        False, False, False, False, False, False, False, False, False,\n",
       "        False, False, False, False, False, False, False, False, False,\n",
       "        False, False, False, False, False, False, False, False, False,\n",
       "        False, False, False, False, False, False, False, False, False,\n",
       "        False, False, False, False, False, False, False, False, False,\n",
       "        False, False, False, False, False, False, False, False, False,\n",
       "        False, False, False, False, False, False, False, False, False,\n",
       "        False, False, False, False, False, False, False, False, False,\n",
       "        False, False, False, False, False, False, False, False, False,\n",
       "        False, False, False, False, False, False, False, False, False,\n",
       "        False, False, False, False, False, False, False, False, False,\n",
       "        False, False, False, False, False, False, False, False, False,\n",
       "        False, False, False, False, False, False, False], dtype=bool),\n",
       " 'energy_to_batteries': Array([False, False, False, False, False, False, False, False, False,\n",
       "        False, False, False, False, False, False, False, False, False,\n",
       "        False, False, False, False, False, False, False, False, False,\n",
       "        False, False, False, False, False, False, False, False, False,\n",
       "        False, False, False, False, False, False, False, False, False,\n",
       "        False, False, False, False, False, False, False, False, False,\n",
       "        False, False, False, False, False, False, False, False, False,\n",
       "        False, False, False, False, False, False, False, False, False,\n",
       "        False, False, False, False, False, False, False, False, False,\n",
       "        False, False, False, False, False, False, False, False, False,\n",
       "        False, False, False, False, False, False, False, False, False,\n",
       "        False, False, False, False, False, False, False, False, False,\n",
       "        False, False, False, False, False, False, False, False, False,\n",
       "        False, False, False, False, False, False, False, False, False,\n",
       "        False, False, False, False, False, False, False, False, False,\n",
       "        False, False, False, False, False, False, False, False, False,\n",
       "        False, False, False, False, False, False, False, False, False,\n",
       "        False, False, False, False, False, False, False], dtype=bool),\n",
       " 'generations': Array([False, False, False, False, False, False, False, False, False,\n",
       "        False, False, False, False, False, False, False, False, False,\n",
       "        False, False, False, False, False, False, False, False, False,\n",
       "        False, False, False, False, False, False, False, False, False,\n",
       "        False, False, False, False, False, False, False, False, False,\n",
       "        False, False, False, False, False, False, False, False, False,\n",
       "        False, False, False, False, False, False, False, False, False,\n",
       "        False, False, False, False, False, False, False, False, False,\n",
       "        False, False, False, False, False, False, False, False, False,\n",
       "        False, False, False, False, False, False, False, False, False,\n",
       "        False, False, False, False, False, False, False, False, False,\n",
       "        False, False, False, False, False, False, False, False, False,\n",
       "        False, False, False, False, False, False, False, False, False,\n",
       "        False, False, False, False, False, False, False, False, False,\n",
       "        False, False, False, False, False, False, False, False, False,\n",
       "        False, False, False, False, False, False, False, False, False,\n",
       "        False, False, False, False, False, False, False, False, False,\n",
       "        False, False, False, False, False, False, False], dtype=bool),\n",
       " 'is_battery_policy_only_market': Array([False, False, False, False, False, False, False, False, False,\n",
       "        False, False, False, False, False, False, False, False, False,\n",
       "        False, False, False, False, False, False, False, False, False,\n",
       "        False, False, False, False, False, False, False, False, False,\n",
       "        False, False, False, False, False, False, False, False, False,\n",
       "        False, False, False, False, False, False, False, False, False,\n",
       "        False, False, False, False, False, False, False, False, False,\n",
       "        False, False, False, False, False, False, False, False, False,\n",
       "        False, False, False, False, False, False, False, False, False,\n",
       "        False, False, False, False, False, False, False, False, False,\n",
       "        False, False, False, False, False, False, False, False, False,\n",
       "        False, False, False, False, False, False, False, False, False,\n",
       "        False, False, False, False, False, False, False, False, False,\n",
       "        False, False, False, False, False, False, False, False, False,\n",
       "        False, False, False, False, False, False, False, False, False,\n",
       "        False, False, False, False, False, False, False, False, False,\n",
       "        False, False, False, False, False, False, False, False, False,\n",
       "        False, False, False, False, False, False, False], dtype=bool),\n",
       " 'norm_reward': {'r_clipping': Array([False, False, False, False, False, False, False, False, False,\n",
       "         False, False, False, False, False, False, False, False, False,\n",
       "         False, False, False, False, False, False, False, False, False,\n",
       "         False, False, False, False, False, False, False, False, False,\n",
       "         False, False, False, False, False, False, False, False, False,\n",
       "         False, False, False, False, False, False, False, False, False,\n",
       "         False, False, False, False, False, False, False, False, False,\n",
       "         False, False, False, False, False, False, False, False, False,\n",
       "         False, False, False, False, False, False, False, False, False,\n",
       "         False, False, False, False, False, False, False, False, False,\n",
       "         False, False, False, False, False, False, False, False, False,\n",
       "         False, False, False, False, False, False, False, False, False,\n",
       "         False, False, False, False, False, False, False, False, False,\n",
       "         False, False, False, False, False, False, False, False, False,\n",
       "         False, False, False, False, False, False, False, False, False,\n",
       "         False, False, False, False, False, False, False, False, False,\n",
       "         False, False, False, False, False, False, False, False, False,\n",
       "         False, False, False, False, False, False, False], dtype=bool),\n",
       "  'r_deg': Array([False, False, False, False, False, False, False, False, False,\n",
       "         False, False, False, False, False, False, False, False, False,\n",
       "         False, False, False, False, False, False, False, False, False,\n",
       "         False, False, False, False, False, False, False, False, False,\n",
       "         False, False, False, False, False, False, False, False, False,\n",
       "         False, False, False, False, False, False, False, False, False,\n",
       "         False, False, False, False, False, False, False, False, False,\n",
       "         False, False, False, False, False, False, False, False, False,\n",
       "         False, False, False, False, False, False, False, False, False,\n",
       "         False, False, False, False, False, False, False, False, False,\n",
       "         False, False, False, False, False, False, False, False, False,\n",
       "         False, False, False, False, False, False, False, False, False,\n",
       "         False, False, False, False, False, False, False, False, False,\n",
       "         False, False, False, False, False, False, False, False, False,\n",
       "         False, False, False, False, False, False, False, False, False,\n",
       "         False, False, False, False, False, False, False, False, False,\n",
       "         False, False, False, False, False, False, False, False, False,\n",
       "         False, False, False, False, False, False, False], dtype=bool),\n",
       "  'r_glob': Array([False, False, False, False, False, False, False, False, False,\n",
       "         False, False, False, False, False, False, False, False, False,\n",
       "         False, False, False, False, False, False, False, False, False,\n",
       "         False, False, False, False, False, False, False, False, False,\n",
       "         False, False, False, False, False, False, False, False, False,\n",
       "         False, False, False, False, False, False, False, False, False,\n",
       "         False, False, False, False, False, False, False, False, False,\n",
       "         False, False, False, False, False, False, False, False, False,\n",
       "         False, False, False, False, False, False, False, False, False,\n",
       "         False, False, False, False, False, False, False, False, False,\n",
       "         False, False, False, False, False, False, False, False, False,\n",
       "         False, False, False, False, False, False, False, False, False,\n",
       "         False, False, False, False, False, False, False, False, False,\n",
       "         False, False, False, False, False, False, False, False, False,\n",
       "         False, False, False, False, False, False, False, False, False,\n",
       "         False, False, False, False, False, False, False, False, False,\n",
       "         False, False, False, False, False, False, False, False, False,\n",
       "         False, False, False, False, False, False, False], dtype=bool),\n",
       "  'r_op': Array([False, False, False, False, False, False, False, False, False,\n",
       "         False, False, False, False, False, False, False, False, False,\n",
       "         False, False, False, False, False, False, False, False, False,\n",
       "         False, False, False, False, False, False, False, False, False,\n",
       "         False, False, False, False, False, False, False, False, False,\n",
       "         False, False, False, False, False, False, False, False, False,\n",
       "         False, False, False, False, False, False, False, False, False,\n",
       "         False, False, False, False, False, False, False, False, False,\n",
       "         False, False, False, False, False, False, False, False, False,\n",
       "         False, False, False, False, False, False, False, False, False,\n",
       "         False, False, False, False, False, False, False, False, False,\n",
       "         False, False, False, False, False, False, False, False, False,\n",
       "         False, False, False, False, False, False, False, False, False,\n",
       "         False, False, False, False, False, False, False, False, False,\n",
       "         False, False, False, False, False, False, False, False, False,\n",
       "         False, False, False, False, False, False, False, False, False,\n",
       "         False, False, False, False, False, False, False, False, False,\n",
       "         False, False, False, False, False, False, False], dtype=bool),\n",
       "  'r_trad': Array([False, False, False, False, False, False, False, False, False,\n",
       "         False, False, False, False, False, False, False, False, False,\n",
       "         False, False, False, False, False, False, False, False, False,\n",
       "         False, False, False, False, False, False, False, False, False,\n",
       "         False, False, False, False, False, False, False, False, False,\n",
       "         False, False, False, False, False, False, False, False, False,\n",
       "         False, False, False, False, False, False, False, False, False,\n",
       "         False, False, False, False, False, False, False, False, False,\n",
       "         False, False, False, False, False, False, False, False, False,\n",
       "         False, False, False, False, False, False, False, False, False,\n",
       "         False, False, False, False, False, False, False, False, False,\n",
       "         False, False, False, False, False, False, False, False, False,\n",
       "         False, False, False, False, False, False, False, False, False,\n",
       "         False, False, False, False, False, False, False, False, False,\n",
       "         False, False, False, False, False, False, False, False, False,\n",
       "         False, False, False, False, False, False, False, False, False,\n",
       "         False, False, False, False, False, False, False, False, False,\n",
       "         False, False, False, False, False, False, False], dtype=bool)},\n",
       " 'pure_reward': {'r_clipping': Array([False, False, False, False, False, False, False, False, False,\n",
       "         False, False, False, False, False, False, False, False, False,\n",
       "         False, False, False, False, False, False, False, False, False,\n",
       "         False, False, False, False, False, False, False, False, False,\n",
       "         False, False, False, False, False, False, False, False, False,\n",
       "         False, False, False, False, False, False, False, False, False,\n",
       "         False, False, False, False, False, False, False, False, False,\n",
       "         False, False, False, False, False, False, False, False, False,\n",
       "         False, False, False, False, False, False, False, False, False,\n",
       "         False, False, False, False, False, False, False, False, False,\n",
       "         False, False, False, False, False, False, False, False, False,\n",
       "         False, False, False, False, False, False, False, False, False,\n",
       "         False, False, False, False, False, False, False, False, False,\n",
       "         False, False, False, False, False, False, False, False, False,\n",
       "         False, False, False, False, False, False, False, False, False,\n",
       "         False, False, False, False, False, False, False, False, False,\n",
       "         False, False, False, False, False, False, False, False, False,\n",
       "         False, False, False, False, False, False, False], dtype=bool),\n",
       "  'r_deg': Array([False, False, False, False, False, False, False, False, False,\n",
       "         False, False, False, False, False, False, False, False, False,\n",
       "         False, False, False, False, False, False, False, False, False,\n",
       "         False, False, False, False, False, False, False, False, False,\n",
       "         False, False, False, False, False, False, False, False, False,\n",
       "         False, False, False, False, False, False, False, False, False,\n",
       "         False, False, False, False, False, False, False, False, False,\n",
       "         False, False, False, False, False, False, False, False, False,\n",
       "         False, False, False, False, False, False, False, False, False,\n",
       "         False, False, False, False, False, False, False, False, False,\n",
       "         False, False, False, False, False, False, False, False, False,\n",
       "         False, False, False, False, False, False, False, False, False,\n",
       "         False, False, False, False, False, False, False, False, False,\n",
       "         False, False, False, False, False, False, False, False, False,\n",
       "         False, False, False, False, False, False, False, False, False,\n",
       "         False, False, False, False, False, False, False, False, False,\n",
       "         False, False, False, False, False, False, False, False, False,\n",
       "         False, False, False, False, False, False, False], dtype=bool),\n",
       "  'r_glob': Array([False, False, False, False, False, False, False, False, False,\n",
       "         False, False, False, False, False, False, False, False, False,\n",
       "         False, False, False, False, False, False, False, False, False,\n",
       "         False, False, False, False, False, False, False, False, False,\n",
       "         False, False, False, False, False, False, False, False, False,\n",
       "         False, False, False, False, False, False, False, False, False,\n",
       "         False, False, False, False, False, False, False, False, False,\n",
       "         False, False, False, False, False, False, False, False, False,\n",
       "         False, False, False, False, False, False, False, False, False,\n",
       "         False, False, False, False, False, False, False, False, False,\n",
       "         False, False, False, False, False, False, False, False, False,\n",
       "         False, False, False, False, False, False, False, False, False,\n",
       "         False, False, False, False, False, False, False, False, False,\n",
       "         False, False, False, False, False, False, False, False, False,\n",
       "         False, False, False, False, False, False, False, False, False,\n",
       "         False, False, False, False, False, False, False, False, False,\n",
       "         False, False, False, False, False, False, False, False, False,\n",
       "         False, False, False, False, False, False, False], dtype=bool),\n",
       "  'r_op': Array([False, False, False, False, False, False, False, False, False,\n",
       "         False, False, False, False, False, False, False, False, False,\n",
       "         False, False, False, False, False, False, False, False, False,\n",
       "         False, False, False, False, False, False, False, False, False,\n",
       "         False, False, False, False, False, False, False, False, False,\n",
       "         False, False, False, False, False, False, False, False, False,\n",
       "         False, False, False, False, False, False, False, False, False,\n",
       "         False, False, False, False, False, False, False, False, False,\n",
       "         False, False, False, False, False, False, False, False, False,\n",
       "         False, False, False, False, False, False, False, False, False,\n",
       "         False, False, False, False, False, False, False, False, False,\n",
       "         False, False, False, False, False, False, False, False, False,\n",
       "         False, False, False, False, False, False, False, False, False,\n",
       "         False, False, False, False, False, False, False, False, False,\n",
       "         False, False, False, False, False, False, False, False, False,\n",
       "         False, False, False, False, False, False, False, False, False,\n",
       "         False, False, False, False, False, False, False, False, False,\n",
       "         False, False, False, False, False, False, False], dtype=bool),\n",
       "  'r_trad': Array([False, False, False, False, False, False, False, False, False,\n",
       "         False, False, False, False, False, False, False, False, False,\n",
       "         False, False, False, False, False, False, False, False, False,\n",
       "         False, False, False, False, False, False, False, False, False,\n",
       "         False, False, False, False, False, False, False, False, False,\n",
       "         False, False, False, False, False, False, False, False, False,\n",
       "         False, False, False, False, False, False, False, False, False,\n",
       "         False, False, False, False, False, False, False, False, False,\n",
       "         False, False, False, False, False, False, False, False, False,\n",
       "         False, False, False, False, False, False, False, False, False,\n",
       "         False, False, False, False, False, False, False, False, False,\n",
       "         False, False, False, False, False, False, False, False, False,\n",
       "         False, False, False, False, False, False, False, False, False,\n",
       "         False, False, False, False, False, False, False, False, False,\n",
       "         False, False, False, False, False, False, False, False, False,\n",
       "         False, False, False, False, False, False, False, False, False,\n",
       "         False, False, False, False, False, False, False, False, False,\n",
       "         False, False, False, False, False, False, False], dtype=bool)},\n",
       " 'r_tot': Array([False, False, False, False, False, False, False, False, False,\n",
       "        False, False, False, False, False, False, False, False, False,\n",
       "        False, False, False, False, False, False, False, False, False,\n",
       "        False, False, False, False, False, False, False, False, False,\n",
       "        False, False, False, False, False, False, False, False, False,\n",
       "        False, False, False, False, False, False, False, False, False,\n",
       "        False, False, False, False, False, False, False, False, False,\n",
       "        False, False, False, False, False, False, False, False, False,\n",
       "        False, False, False, False, False, False, False, False, False,\n",
       "        False, False, False, False, False, False, False, False, False,\n",
       "        False, False, False, False, False, False, False, False, False,\n",
       "        False, False, False, False, False, False, False, False, False,\n",
       "        False, False, False, False, False, False, False, False, False,\n",
       "        False, False, False, False, False, False, False, False, False,\n",
       "        False, False, False, False, False, False, False, False, False,\n",
       "        False, False, False, False, False, False, False, False, False,\n",
       "        False, False, False, False, False, False, False, False, False,\n",
       "        False, False, False, False, False, False, False], dtype=bool),\n",
       " 'rec_reward': Array([False, False, False, False, False, False, False, False, False,\n",
       "        False, False, False, False, False, False, False, False, False,\n",
       "        False, False, False, False, False, False, False, False, False,\n",
       "        False, False, False, False, False, False, False, False, False,\n",
       "        False, False, False, False, False, False, False, False, False,\n",
       "        False, False, False, False, False, False, False, False, False,\n",
       "        False, False, False, False, False, False, False, False, False,\n",
       "        False, False, False, False, False, False, False, False, False,\n",
       "        False, False, False, False, False, False, False, False, False,\n",
       "        False, False, False, False, False, False, False, False, False,\n",
       "        False, False, False, False, False, False, False, False, False,\n",
       "        False, False, False, False, False, False, False, False, False,\n",
       "        False, False, False, False, False, False, False, False, False,\n",
       "        False, False, False, False, False, False, False, False, False,\n",
       "        False, False, False, False, False, False, False, False, False,\n",
       "        False, False, False, False, False, False, False, False, False,\n",
       "        False, False, False, False, False, False, False, False, False,\n",
       "        False, False, False, False, False, False, False], dtype=bool),\n",
       " 'self_consumption': Array([False, False, False, False, False, False, False, False, False,\n",
       "        False, False, False, False, False, False, False, False, False,\n",
       "        False, False, False, False, False, False, False, False, False,\n",
       "        False, False, False, False, False, False, False, False, False,\n",
       "        False, False, False, False, False, False, False, False, False,\n",
       "        False, False, False, False, False, False, False, False, False,\n",
       "        False, False, False, False, False, False, False, False, False,\n",
       "        False, False, False, False, False, False, False, False, False,\n",
       "        False, False, False, False, False, False, False, False, False,\n",
       "        False, False, False, False, False, False, False, False, False,\n",
       "        False, False, False, False, False, False, False, False, False,\n",
       "        False, False, False, False, False, False, False, False, False,\n",
       "        False, False, False, False, False, False, False, False, False,\n",
       "        False, False, False, False, False, False, False, False, False,\n",
       "        False, False, False, False, False, False, False, False, False,\n",
       "        False, False, False, False, False, False, False, False, False,\n",
       "        False, False, False, False, False, False, False, False, False,\n",
       "        False, False, False, False, False, False, False], dtype=bool),\n",
       " 'sell_prices': Array([False, False, False, False, False, False, False, False, False,\n",
       "        False, False, False, False, False, False, False, False, False,\n",
       "        False, False, False, False, False, False, False, False, False,\n",
       "        False, False, False, False, False, False, False, False, False,\n",
       "        False, False, False, False, False, False, False, False, False,\n",
       "        False, False, False, False, False, False, False, False, False,\n",
       "        False, False, False, False, False, False, False, False, False,\n",
       "        False, False, False, False, False, False, False, False, False,\n",
       "        False, False, False, False, False, False, False, False, False,\n",
       "        False, False, False, False, False, False, False, False, False,\n",
       "        False, False, False, False, False, False, False, False, False,\n",
       "        False, False, False, False, False, False, False, False, False,\n",
       "        False, False, False, False, False, False, False, False, False,\n",
       "        False, False, False, False, False, False, False, False, False,\n",
       "        False, False, False, False, False, False, False, False, False,\n",
       "        False, False, False, False, False, False, False, False, False,\n",
       "        False, False, False, False, False, False, False, False, False,\n",
       "        False, False, False, False, False, False, False], dtype=bool),\n",
       " 'soc': Array([False, False, False, False, False, False, False, False, False,\n",
       "        False, False, False, False, False, False, False, False, False,\n",
       "        False, False, False, False, False, False, False, False, False,\n",
       "        False, False, False, False, False, False, False, False, False,\n",
       "        False, False, False, False, False, False, False, False, False,\n",
       "        False, False, False, False, False, False, False, False, False,\n",
       "        False, False, False, False, False, False, False, False, False,\n",
       "        False, False, False, False, False, False, False, False, False,\n",
       "        False, False, False, False, False, False, False, False, False,\n",
       "        False, False, False, False, False, False, False, False, False,\n",
       "        False, False, False, False, False, False, False, False, False,\n",
       "        False, False, False, False, False, False, False, False, False,\n",
       "        False, False, False, False, False, False, False, False, False,\n",
       "        False, False, False, False, False, False, False, False, False,\n",
       "        False, False, False, False, False, False, False, False, False,\n",
       "        False, False, False, False, False, False, False, False, False,\n",
       "        False, False, False, False, False, False, False, False, False,\n",
       "        False, False, False, False, False, False, False], dtype=bool),\n",
       " 'soh': Array([False, False, False, False, False, False, False, False, False,\n",
       "        False, False, False, False, False, False, False, False, False,\n",
       "        False, False, False, False, False, False, False, False, False,\n",
       "        False, False, False, False, False, False, False, False, False,\n",
       "        False, False, False, False, False, False, False, False, False,\n",
       "        False, False, False, False, False, False, False, False, False,\n",
       "        False, False, False, False, False, False, False, False, False,\n",
       "        False, False, False, False, False, False, False, False, False,\n",
       "        False, False, False, False, False, False, False, False, False,\n",
       "        False, False, False, False, False, False, False, False, False,\n",
       "        False, False, False, False, False, False, False, False, False,\n",
       "        False, False, False, False, False, False, False, False, False,\n",
       "        False, False, False, False, False, False, False, False, False,\n",
       "        False, False, False, False, False, False, False, False, False,\n",
       "        False, False, False, False, False, False, False, False, False,\n",
       "        False, False, False, False, False, False, False, False, False,\n",
       "        False, False, False, False, False, False, False, False, False,\n",
       "        False, False, False, False, False, False, False], dtype=bool),\n",
       " 'tot_incentives': Array([False, False, False, False, False, False, False, False, False,\n",
       "        False, False, False, False, False, False, False, False, False,\n",
       "        False, False, False, False, False, False, False, False, False,\n",
       "        False, False, False, False, False, False, False, False, False,\n",
       "        False, False, False, False, False, False, False, False, False,\n",
       "        False, False, False, False, False, False, False, False, False,\n",
       "        False, False, False, False, False, False, False, False, False,\n",
       "        False, False, False, False, False, False, False, False, False,\n",
       "        False, False, False, False, False, False, False, False, False,\n",
       "        False, False, False, False, False, False, False, False, False,\n",
       "        False, False, False, False, False, False, False, False, False,\n",
       "        False, False, False, False, False, False, False, False, False,\n",
       "        False, False, False, False, False, False, False, False, False,\n",
       "        False, False, False, False, False, False, False, False, False,\n",
       "        False, False, False, False, False, False, False, False, False,\n",
       "        False, False, False, False, False, False, False, False, False,\n",
       "        False, False, False, False, False, False, False, False, False,\n",
       "        False, False, False, False, False, False, False], dtype=bool),\n",
       " 'weig_reward': {'r_clipping': Array([False, False, False, False, False, False, False, False, False,\n",
       "         False, False, False, False, False, False, False, False, False,\n",
       "         False, False, False, False, False, False, False, False, False,\n",
       "         False, False, False, False, False, False, False, False, False,\n",
       "         False, False, False, False, False, False, False, False, False,\n",
       "         False, False, False, False, False, False, False, False, False,\n",
       "         False, False, False, False, False, False, False, False, False,\n",
       "         False, False, False, False, False, False, False, False, False,\n",
       "         False, False, False, False, False, False, False, False, False,\n",
       "         False, False, False, False, False, False, False, False, False,\n",
       "         False, False, False, False, False, False, False, False, False,\n",
       "         False, False, False, False, False, False, False, False, False,\n",
       "         False, False, False, False, False, False, False, False, False,\n",
       "         False, False, False, False, False, False, False, False, False,\n",
       "         False, False, False, False, False, False, False, False, False,\n",
       "         False, False, False, False, False, False, False, False, False,\n",
       "         False, False, False, False, False, False, False, False, False,\n",
       "         False, False, False, False, False, False, False], dtype=bool),\n",
       "  'r_deg': Array([False, False, False, False, False, False, False, False, False,\n",
       "         False, False, False, False, False, False, False, False, False,\n",
       "         False, False, False, False, False, False, False, False, False,\n",
       "         False, False, False, False, False, False, False, False, False,\n",
       "         False, False, False, False, False, False, False, False, False,\n",
       "         False, False, False, False, False, False, False, False, False,\n",
       "         False, False, False, False, False, False, False, False, False,\n",
       "         False, False, False, False, False, False, False, False, False,\n",
       "         False, False, False, False, False, False, False, False, False,\n",
       "         False, False, False, False, False, False, False, False, False,\n",
       "         False, False, False, False, False, False, False, False, False,\n",
       "         False, False, False, False, False, False, False, False, False,\n",
       "         False, False, False, False, False, False, False, False, False,\n",
       "         False, False, False, False, False, False, False, False, False,\n",
       "         False, False, False, False, False, False, False, False, False,\n",
       "         False, False, False, False, False, False, False, False, False,\n",
       "         False, False, False, False, False, False, False, False, False,\n",
       "         False, False, False, False, False, False, False], dtype=bool),\n",
       "  'r_glob': Array([False, False, False, False, False, False, False, False, False,\n",
       "         False, False, False, False, False, False, False, False, False,\n",
       "         False, False, False, False, False, False, False, False, False,\n",
       "         False, False, False, False, False, False, False, False, False,\n",
       "         False, False, False, False, False, False, False, False, False,\n",
       "         False, False, False, False, False, False, False, False, False,\n",
       "         False, False, False, False, False, False, False, False, False,\n",
       "         False, False, False, False, False, False, False, False, False,\n",
       "         False, False, False, False, False, False, False, False, False,\n",
       "         False, False, False, False, False, False, False, False, False,\n",
       "         False, False, False, False, False, False, False, False, False,\n",
       "         False, False, False, False, False, False, False, False, False,\n",
       "         False, False, False, False, False, False, False, False, False,\n",
       "         False, False, False, False, False, False, False, False, False,\n",
       "         False, False, False, False, False, False, False, False, False,\n",
       "         False, False, False, False, False, False, False, False, False,\n",
       "         False, False, False, False, False, False, False, False, False,\n",
       "         False, False, False, False, False, False, False], dtype=bool),\n",
       "  'r_op': Array([False, False, False, False, False, False, False, False, False,\n",
       "         False, False, False, False, False, False, False, False, False,\n",
       "         False, False, False, False, False, False, False, False, False,\n",
       "         False, False, False, False, False, False, False, False, False,\n",
       "         False, False, False, False, False, False, False, False, False,\n",
       "         False, False, False, False, False, False, False, False, False,\n",
       "         False, False, False, False, False, False, False, False, False,\n",
       "         False, False, False, False, False, False, False, False, False,\n",
       "         False, False, False, False, False, False, False, False, False,\n",
       "         False, False, False, False, False, False, False, False, False,\n",
       "         False, False, False, False, False, False, False, False, False,\n",
       "         False, False, False, False, False, False, False, False, False,\n",
       "         False, False, False, False, False, False, False, False, False,\n",
       "         False, False, False, False, False, False, False, False, False,\n",
       "         False, False, False, False, False, False, False, False, False,\n",
       "         False, False, False, False, False, False, False, False, False,\n",
       "         False, False, False, False, False, False, False, False, False,\n",
       "         False, False, False, False, False, False, False], dtype=bool),\n",
       "  'r_trad': Array([False, False, False, False, False, False, False, False, False,\n",
       "         False, False, False, False, False, False, False, False, False,\n",
       "         False, False, False, False, False, False, False, False, False,\n",
       "         False, False, False, False, False, False, False, False, False,\n",
       "         False, False, False, False, False, False, False, False, False,\n",
       "         False, False, False, False, False, False, False, False, False,\n",
       "         False, False, False, False, False, False, False, False, False,\n",
       "         False, False, False, False, False, False, False, False, False,\n",
       "         False, False, False, False, False, False, False, False, False,\n",
       "         False, False, False, False, False, False, False, False, False,\n",
       "         False, False, False, False, False, False, False, False, False,\n",
       "         False, False, False, False, False, False, False, False, False,\n",
       "         False, False, False, False, False, False, False, False, False,\n",
       "         False, False, False, False, False, False, False, False, False,\n",
       "         False, False, False, False, False, False, False, False, False,\n",
       "         False, False, False, False, False, False, False, False, False,\n",
       "         False, False, False, False, False, False, False, False, False,\n",
       "         False, False, False, False, False, False, False], dtype=bool)}}"
      ]
     },
     "execution_count": 37,
     "metadata": {},
     "output_type": "execute_result"
    }
   ],
   "execution_count": 37
  },
  {
   "metadata": {
    "ExecuteTime": {
     "end_time": "2025-04-11T09:46:53.851428Z",
     "start_time": "2025-04-11T09:46:53.848415Z"
    }
   },
   "cell_type": "code",
   "source": "jax.tree.map(lambda x: x.shape, val_info)",
   "id": "3d2ee1646b7808f1",
   "outputs": [
    {
     "data": {
      "text/plain": [
       "{'actions_batteries': (16, 43350, 3),\n",
       " 'actions_rec': (16, 43350, 3),\n",
       " 'balance_minus': (16, 43350),\n",
       " 'balance_plus': (16, 43350),\n",
       " 'buy_prices': (16, 43350, 3),\n",
       " 'demands': (16, 43350, 3),\n",
       " 'dones': {'REC_agent': (16, 43350),\n",
       "  '__all__': (16, 43350),\n",
       "  'battery_agent_0': (16, 43350),\n",
       "  'battery_agent_1': (16, 43350),\n",
       "  'battery_agent_2': (16, 43350)},\n",
       " 'energy_to_batteries': (16, 43350, 3),\n",
       " 'generations': (16, 43350, 3),\n",
       " 'is_battery_policy_only_market': (16, 43350, 3),\n",
       " 'norm_reward': {'r_clipping': (16, 43350, 3),\n",
       "  'r_deg': (16, 43350, 3),\n",
       "  'r_glob': (16, 43350, 3),\n",
       "  'r_op': (16, 43350, 3),\n",
       "  'r_trad': (16, 43350, 3)},\n",
       " 'pure_reward': {'r_clipping': (16, 43350, 3),\n",
       "  'r_deg': (16, 43350, 3),\n",
       "  'r_glob': (16, 43350, 3),\n",
       "  'r_op': (16, 43350, 3),\n",
       "  'r_trad': (16, 43350, 3)},\n",
       " 'r_tot': (16, 43350, 3),\n",
       " 'rec_reward': (16, 43350),\n",
       " 'self_consumption': (16, 43350),\n",
       " 'sell_prices': (16, 43350, 3),\n",
       " 'soc': (16, 43350, 3),\n",
       " 'soh': (16, 43350, 3),\n",
       " 'tot_incentives': (16, 43350),\n",
       " 'weig_reward': {'r_clipping': (16, 43350, 3),\n",
       "  'r_deg': (16, 43350, 3),\n",
       "  'r_glob': (16, 43350, 3),\n",
       "  'r_op': (16, 43350, 3),\n",
       "  'r_trad': (16, 43350, 3)}}"
      ]
     },
     "execution_count": 38,
     "metadata": {},
     "output_type": "execute_result"
    }
   ],
   "execution_count": 38
  },
  {
   "metadata": {
    "ExecuteTime": {
     "end_time": "2025-04-11T09:46:53.894773Z",
     "start_time": "2025-04-11T09:46:53.892255Z"
    }
   },
   "cell_type": "code",
   "source": "val_info['r_tot'].shape #.sum(axis=(1, 2)).shape",
   "id": "e082a258257d3f1a",
   "outputs": [
    {
     "data": {
      "text/plain": [
       "(16, 43350, 3)"
      ]
     },
     "execution_count": 39,
     "metadata": {},
     "output_type": "execute_result"
    }
   ],
   "execution_count": 39
  },
  {
   "metadata": {
    "ExecuteTime": {
     "end_time": "2025-04-11T09:46:53.941943Z",
     "start_time": "2025-04-11T09:46:53.938518Z"
    }
   },
   "cell_type": "code",
   "source": [
    "lim = config['NUM_RL_AGENTS'] if 'NUM_RL_AGENTS' in config.keys() else config['NUM_BATTERY_AGENTS']\n",
    "a = val_info['r_tot'][..., :lim].sum(axis=(1, 2))\n",
    "a"
   ],
   "id": "5f0b843ba4ec0309",
   "outputs": [
    {
     "data": {
      "text/plain": [
       "array([-108179.336, -131129.73 , -109325.61 , -116142.14 , -113093.336,\n",
       "       -113413.914, -114692.27 , -114136.64 , -116772.21 , -114528.125,\n",
       "       -112331.555, -110763.336, -108687.53 , -109371.17 , -109229.695,\n",
       "       -108846.78 ], dtype=float32)"
      ]
     },
     "execution_count": 40,
     "metadata": {},
     "output_type": "execute_result"
    }
   ],
   "execution_count": 40
  },
  {
   "metadata": {
    "ExecuteTime": {
     "end_time": "2025-04-11T09:46:54.048174Z",
     "start_time": "2025-04-11T09:46:53.984687Z"
    }
   },
   "cell_type": "code",
   "source": "plt.plot(a)",
   "id": "8e447eaa1ed01d8f",
   "outputs": [
    {
     "data": {
      "text/plain": [
       "[<matplotlib.lines.Line2D at 0x74d27c58cc20>]"
      ]
     },
     "execution_count": 41,
     "metadata": {},
     "output_type": "execute_result"
    },
    {
     "data": {
      "text/plain": [
       "<Figure size 640x480 with 1 Axes>"
      ],
      "image/png": "[encoded data removed]"
     },
     "metadata": {},
     "output_type": "display_data"
    }
   ],
   "execution_count": 41
  },
  {
   "metadata": {
    "ExecuteTime": {
     "end_time": "2025-04-11T09:46:54.331739Z",
     "start_time": "2025-04-11T09:46:54.058163Z"
    }
   },
   "cell_type": "code",
   "source": [
    "plt.plot(val_info['weig_reward']['r_trad'][..., :lim].sum(axis=(1, 2)), label='r_trad')\n",
    "plt.plot(val_info['weig_reward']['r_deg'][..., :lim].sum(axis=(1, 2)), label='r_deg')\n",
    "plt.plot(val_info['weig_reward']['r_clipping'][..., :lim].sum(axis=(1, 2)), label='r_clipping')\n",
    "plt.plot(val_info['weig_reward']['r_glob'][..., :lim].sum(axis=(1, 2)), label='r_glob')\n",
    "plt.legend()"
   ],
   "id": "f25fbdbde606e356",
   "outputs": [
    {
     "data": {
      "text/plain": [
       "<matplotlib.legend.Legend at 0x74d27c44a120>"
      ]
     },
     "execution_count": 42,
     "metadata": {},
     "output_type": "execute_result"
    },
    {
     "data": {
      "text/plain": [
       "<Figure size 640x480 with 1 Axes>"
      ],
      "image/png": "[encoded data removed]"
     },
     "metadata": {},
     "output_type": "display_data"
    }
   ],
   "execution_count": 42
  },
  {
   "metadata": {
    "ExecuteTime": {
     "end_time": "2025-04-11T09:46:54.417059Z",
     "start_time": "2025-04-11T09:46:54.341912Z"
    }
   },
   "cell_type": "code",
   "source": "plt.plot(val_info['soc'][..., :lim].mean(axis=(1, 2)))",
   "id": "381852eeabb41ffb",
   "outputs": [
    {
     "data": {
      "text/plain": [
       "[<matplotlib.lines.Line2D at 0x74d27c73dbb0>]"
      ]
     },
     "execution_count": 43,
     "metadata": {},
     "output_type": "execute_result"
    },
    {
     "data": {
      "text/plain": [
       "<Figure size 640x480 with 1 Axes>"
      ],
      "image/png": "[encoded data removed]"
     },
     "metadata": {},
     "output_type": "display_data"
    }
   ],
   "execution_count": 43
  },
  {
   "metadata": {
    "ExecuteTime": {
     "end_time": "2025-04-11T09:46:54.430211Z",
     "start_time": "2025-04-11T09:46:54.427125Z"
    }
   },
   "cell_type": "code",
   "source": "val_info['rec_reward'].sum(axis=1)",
   "id": "8968461614f82161",
   "outputs": [
    {
     "data": {
      "text/plain": [
       "array([7876243.5, 8017111.5, 7879853.5, 8634496. , 8735984. , 8771097. ,\n",
       "       8785318. , 8832426. , 8838906. , 8860212. , 8880131. , 8886557. ,\n",
       "       8894673. , 8934389. , 8893719. , 8907170. ], dtype=float32)"
      ]
     },
     "execution_count": 44,
     "metadata": {},
     "output_type": "execute_result"
    }
   ],
   "execution_count": 44
  },
  {
   "metadata": {
    "ExecuteTime": {
     "end_time": "2025-04-11T09:46:54.551291Z",
     "start_time": "2025-04-11T09:46:54.473697Z"
    }
   },
   "cell_type": "code",
   "source": "plt.plot(val_info['rec_reward'].sum(axis=1))",
   "id": "3e014f0742c39896",
   "outputs": [
    {
     "data": {
      "text/plain": [
       "[<matplotlib.lines.Line2D at 0x74d27c3370b0>]"
      ]
     },
     "execution_count": 45,
     "metadata": {},
     "output_type": "execute_result"
    },
    {
     "data": {
      "text/plain": [
       "<Figure size 640x480 with 1 Axes>"
      ],
      "image/png": "[encoded data removed]"
     },
     "metadata": {},
     "output_type": "display_data"
    }
   ],
   "execution_count": 45
  },
  {
   "metadata": {
    "ExecuteTime": {
     "end_time": "2025-04-11T09:46:54.594549Z",
     "start_time": "2025-04-11T09:46:54.561906Z"
    }
   },
   "cell_type": "code",
   "source": "np.var(val_info['actions_rec'], axis=-1).shape",
   "id": "f153d058dd2e7333",
   "outputs": [
    {
     "data": {
      "text/plain": [
       "(16, 43350)"
      ]
     },
     "execution_count": 46,
     "metadata": {},
     "output_type": "execute_result"
    }
   ],
   "execution_count": 46
  },
  {
   "metadata": {
    "ExecuteTime": {
     "end_time": "2025-04-11T09:46:54.711655Z",
     "start_time": "2025-04-11T09:46:54.606610Z"
    }
   },
   "cell_type": "code",
   "source": "plt.plot(np.var(val_info['actions_rec'], axis=-1).mean(axis=1))",
   "id": "1021f317581704a5",
   "outputs": [
    {
     "data": {
      "text/plain": [
       "[<matplotlib.lines.Line2D at 0x74d27c3c48c0>]"
      ]
     },
     "execution_count": 47,
     "metadata": {},
     "output_type": "execute_result"
    },
    {
     "data": {
      "text/plain": [
       "<Figure size 640x480 with 1 Axes>"
      ],
      "image/png": "[encoded data removed]"
     },
     "metadata": {},
     "output_type": "display_data"
    }
   ],
   "execution_count": 47
  },
  {
   "metadata": {
    "ExecuteTime": {
     "end_time": "2025-04-11T09:46:54.852716Z",
     "start_time": "2025-04-11T09:46:54.722926Z"
    }
   },
   "cell_type": "code",
   "source": "plt.plot(np.mean(np.max(val_info['actions_rec'], axis=-1) - np.min(val_info['actions_rec'], axis=-1), axis=1))",
   "id": "17c758cbf46431a8",
   "outputs": [
    {
     "data": {
      "text/plain": [
       "[<matplotlib.lines.Line2D at 0x74d27c213f80>]"
      ]
     },
     "execution_count": 48,
     "metadata": {},
     "output_type": "execute_result"
    },
    {
     "data": {
      "text/plain": [
       "<Figure size 640x480 with 1 Axes>"
      ],
      "image/png": "[encoded data removed]"
     },
     "metadata": {},
     "output_type": "display_data"
    }
   ],
   "execution_count": 48
  }
 ],
 "metadata": {
  "kernelspec": {
   "display_name": "Python 3",
   "language": "python",
   "name": "python3"
  },
  "language_info": {
   "codemirror_mode": {
    "name": "ipython",
    "version": 2
   },
   "file_extension": ".py",
   "mimetype": "text/x-python",
   "name": "python",
   "nbconvert_exporter": "python",
   "pygments_lexer": "ipython2",
   "version": "2.7.6"
  }
 },
 "nbformat": 4,
 "nbformat_minor": 5
}
