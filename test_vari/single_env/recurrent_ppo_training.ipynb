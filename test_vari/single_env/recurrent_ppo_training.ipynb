{
 "cells": [
  {
   "metadata": {},
   "cell_type": "code",
   "outputs": [],
   "execution_count": null,
   "source": [
    "%load_ext autoreload\n",
    "%autoreload 2\n",
    "%matplotlib inline\n",
    "%cd ../.."
   ],
   "id": "2550ee24789e53f1"
  },
  {
   "metadata": {},
   "cell_type": "code",
   "outputs": [],
   "execution_count": null,
   "source": [
    "import jax\n",
    "import jax.numpy as jnp\n",
    "from flax import nnx\n",
    "from functools import partial\n",
    "from jax_tqdm import scan_tqdm\n",
    "\n",
    "from algorithms.utils import save_state, restore_state\n",
    "\n",
    "import numpy as np"
   ],
   "id": "9aedb03aa9e15a1a"
  },
  {
   "metadata": {},
   "cell_type": "code",
   "outputs": [],
   "execution_count": null,
   "source": [
    "from ernestogym.envs.single_agent.env import MicroGridEnv\n",
    "from ernestogym.envs.single_agent.env_trading_soc import MicroGridEnvSocAction"
   ],
   "id": "439c137602b9b7a7"
  },
  {
   "metadata": {},
   "cell_type": "code",
   "outputs": [],
   "execution_count": null,
   "source": [
    "def my_env_creator(params, battery_type, env_type='normal'):\n",
    "    if env_type == 'normal':\n",
    "        env = MicroGridEnv(params, battery_type)\n",
    "    elif env_type == 'soc_action':\n",
    "        env = MicroGridEnvSocAction(params, battery_type)\n",
    "    else:\n",
    "        raise ValueError('Unknown env_type')\n",
    "    return env, env.params"
   ],
   "id": "678de2a294aa7b53"
  },
  {
   "metadata": {},
   "cell_type": "code",
   "outputs": [],
   "execution_count": null,
   "source": "from ernestogym.envs.single_agent.utils import parameter_generator",
   "id": "6bac0757d145957e"
  },
  {
   "metadata": {},
   "cell_type": "code",
   "outputs": [],
   "execution_count": null,
   "source": [
    "pack_options = \"ernestogym/ernesto/data/battery/pack.yaml\"\n",
    "ecm = \"ernestogym/ernesto/data/battery/models/electrical/thevenin_pack.yaml\"\n",
    "# ecm = \"ernestogym/ernesto/data/battery/models/electrical/thevenin_fading_pack.yaml\"\n",
    "r2c = \"ernestogym/ernesto/data/battery/models/thermal/r2c_thermal_pack.yaml\"\n",
    "# bolun = \"ernestogym/ernesto/data/battery/models/aging/bolun_pack.yaml\"\n",
    "bolun = \"ernestogym/ernesto/data/battery/models/aging/bolun_pack.yaml\"\n",
    "world = \"ernestogym/envs/single_agent/ijcnn_deg_train.yaml\"\n",
    "# world = \"ernestogym/envs/single_agent/world_fading.yaml\"\n",
    "\n",
    "# battery_type = 'fading'\n",
    "# battery_type = 'degrading'\n",
    "battery_type = 'degrading_dropflow'\n",
    "\n",
    "params = parameter_generator(\n",
    "    input_var='current',\n",
    "    battery_options=pack_options,\n",
    "    electrical_model=ecm,\n",
    "    thermal_model=r2c,\n",
    "    aging_model=bolun,\n",
    "    world_options=world,\n",
    "    use_reward_normalization=True\n",
    "\n",
    ")\n",
    "\n",
    "params"
   ],
   "id": "b31478018bf55fc7"
  },
  {
   "metadata": {},
   "cell_type": "code",
   "outputs": [],
   "execution_count": null,
   "source": [
    "pack_options = \"ernestogym/ernesto/data/battery/pack.yaml\"\n",
    "ecm = \"ernestogym/ernesto/data/battery/models/electrical/thevenin_pack.yaml\"\n",
    "# ecm = \"ernestogym/ernesto/data/battery/models/electrical/thevenin_fading_pack.yaml\"\n",
    "r2c = \"ernestogym/ernesto/data/battery/models/thermal/r2c_thermal_pack.yaml\"\n",
    "# bolun = \"ernestogym/ernesto/data/battery/models/aging/bolun_pack.yaml\"\n",
    "bolun = \"ernestogym/ernesto/data/battery/models/aging/bolun_pack.yaml\"\n",
    "world = \"ernestogym/envs/single_agent/ijcnn_deg_test.yaml\"\n",
    "# world = \"ernestogym/envs/single_agent/world_fading.yaml\"\n",
    "\n",
    "params_testing = parameter_generator(\n",
    "    input_var='current',\n",
    "    battery_options=pack_options,\n",
    "    electrical_model=ecm,\n",
    "    thermal_model=r2c,\n",
    "    aging_model=bolun,\n",
    "    world_options=world,\n",
    "    use_reward_normalization=True\n",
    "\n",
    ")\n",
    "\n",
    "params_testing['step']"
   ],
   "id": "532020379efe6c15"
  },
  {
   "metadata": {},
   "cell_type": "code",
   "outputs": [],
   "execution_count": null,
   "source": [
    "a = jnp.array([[[[[[[2]]]]]]])\n",
    "a = jnp.clip(a, 0, 1)\n",
    "a.flatten()[0]\n",
    "b = jnp.array(3)\n",
    "b.flatten()"
   ],
   "id": "9c2c7d064a2183b1"
  },
  {
   "metadata": {},
   "cell_type": "code",
   "outputs": [],
   "execution_count": null,
   "source": [
    "from algorithms.recurrent_ppo import make_train, train        #, train_for, train_for_flax\n",
    "from flax.core.frozen_dict import freeze, unfreeze"
   ],
   "id": "51cbf675fe0164b3"
  },
  {
   "metadata": {},
   "cell_type": "code",
   "outputs": [],
   "execution_count": null,
   "source": [
    "num_envs = 4\n",
    "\n",
    "config = {\n",
    "    \"LR\": 1e-3,\n",
    "    \"NUM_ENVS\": num_envs,\n",
    "    \"NUM_STEPS\": 8192, #2048 #10000,\n",
    "    # \"TOTAL_TIMESTEPS\": 100000 * num_envs,\n",
    "    \"TOTAL_TIMESTEPS\": 876000 * num_envs,\n",
    "    \"UPDATE_EPOCHS\": 10,\n",
    "    \"NUM_MINIBATCHES\": 128,\n",
    "    \"NORMALIZE_ENV\": False,\n",
    "    \"GAMMA\": 0.99,\n",
    "    \"GAE_LAMBDA\": 0.95,\n",
    "    \"CLIP_EPS\": 0.2,\n",
    "    \"ENT_COEF\": 0.01,\n",
    "    \"VF_COEF\": 0.5,\n",
    "    \"MAX_GRAD_NORM\": 0.5,\n",
    "    \"NET_ARCH\": (32, 32), #(16, 16, 16),\n",
    "    \"LSTM_NET_ARCH\": (16,),\n",
    "    \"ACTIVATION\": 'relu',\n",
    "    \"LSTM_ACTIVATION\": 'tanh',\n",
    "    \"LOGISTIC_FUNCTION_TO_ACTOR\": False,\n",
    "    \"ENV_NAME\": None,\n",
    "    \"ANNEAL_LR\": True,\n",
    "    'DEBUG': False,\n",
    "    \"NORMALIZE_ADVANTAGES\": True,\n",
    "    \"ENV_TYPE\": 'normal',\n",
    "    'NETWORK': 'recurrent_actor_critic'\n",
    "}\n",
    "\n",
    "env_type = config['ENV_TYPE']\n",
    "\n",
    "rng = jax.random.PRNGKey(42)\n",
    "\n",
    "env, env_params = my_env_creator(params, battery_type, env_type=env_type)\n",
    "env, env_params, train_state = make_train(config, env, env_params)\n",
    "\n",
    "env_testing, env_testing_params = my_env_creator(params_testing, battery_type, env_type=env_type)\n",
    "\n",
    "val_rng = jax.random.PRNGKey(51)\n",
    "val_num_iters = 8670*8\n",
    "\n",
    "# out = train_jit(rng)\n",
    "\n",
    "config = freeze(config)"
   ],
   "id": "10c8f93983519b83"
  },
  {
   "metadata": {},
   "cell_type": "code",
   "outputs": [],
   "execution_count": null,
   "source": "network, optimizer = nnx.merge(train_state.graph_def, train_state.state)",
   "id": "1371dc84d72fa05"
  },
  {
   "metadata": {},
   "cell_type": "code",
   "outputs": [],
   "execution_count": null,
   "source": "network",
   "id": "87ab38c0610ef7cd"
  },
  {
   "metadata": {},
   "cell_type": "code",
   "outputs": [],
   "execution_count": null,
   "source": [
    "import time\n",
    "import matplotlib.pyplot as plt\n",
    "rng = jax.random.PRNGKey(42)\n",
    "t0 = time.time()\n",
    "\n",
    "# with jax.profiler.trace(\"/tmp/jax-trace\", create_perfetto_link=True):\n",
    "#     # Run the operations to be profiled\n",
    "out = jax.block_until_ready(train(env, env_params, config, train_state, rng, validate=True, freq_val=10, val_env=env_testing, val_params=env_testing_params, val_rng=val_rng, val_num_iters=val_num_iters))\n",
    "\n",
    "# out = train_for_flax(env, env_params, config, network, optimizer, rng)\n",
    "\n",
    "train_state = out['runner_state'][0]\n",
    "val_info = out.get('val_info')\n",
    "\n",
    "print(f\"time: {time.time() - t0:.2f} s\")\n",
    "plt.plot(out[\"metrics\"][\"returned_episode_returns\"].mean(-1).reshape(-1))\n",
    "plt.xlabel(\"Update Step\")\n",
    "plt.ylabel(\"Return\")\n",
    "plt.show()"
   ],
   "id": "dd64daa80ebca88b"
  },
  {
   "metadata": {},
   "cell_type": "code",
   "outputs": [],
   "execution_count": null,
   "source": [
    "network, optimizer = nnx.merge(train_state.graph_def, train_state.state)\n",
    "network"
   ],
   "id": "c706745c69cb1dde"
  },
  {
   "metadata": {},
   "cell_type": "markdown",
   "source": "## State saving",
   "id": "bea8f7b12a73d311"
  },
  {
   "metadata": {},
   "cell_type": "code",
   "outputs": [],
   "execution_count": null,
   "source": [
    "from algorithms.utils import save_state\n",
    "save_state(network, config, params, val_info, env_type=env_type, additional_info='')"
   ],
   "id": "99222f39d92469d7"
  },
  {
   "metadata": {},
   "cell_type": "code",
   "outputs": [],
   "execution_count": null,
   "source": "out",
   "id": "bcee21ffbb3c0b45"
  },
  {
   "metadata": {},
   "cell_type": "code",
   "outputs": [],
   "execution_count": null,
   "source": [
    "r_trad = out['metrics']['weig_reward']['r_trad'].mean(-1).reshape(-1)\n",
    "r_trad_cum = np.cumsum(r_trad)\n",
    "r_trad.shape"
   ],
   "id": "7de1d966762c7433"
  },
  {
   "metadata": {},
   "cell_type": "code",
   "outputs": [],
   "execution_count": null,
   "source": [
    "acts = out['metrics']['action'].flatten()\n",
    "acts.min(), acts.max(), acts.mean()"
   ],
   "id": "1cc111d73e554d72"
  },
  {
   "metadata": {},
   "cell_type": "code",
   "outputs": [],
   "execution_count": null,
   "source": "plt.plot(r_trad_cum)",
   "id": "85c154e4da0c4b28"
  },
  {
   "metadata": {},
   "cell_type": "code",
   "outputs": [],
   "execution_count": null,
   "source": [
    "r_tot_cum = np.cumsum(out['metrics']['r_tot'].mean(-1).reshape(-1))\n",
    "plt.plot(r_tot_cum)"
   ],
   "id": "89d249919ad73545"
  },
  {
   "metadata": {},
   "cell_type": "markdown",
   "source": "# Testing",
   "id": "2008027345703ef6"
  },
  {
   "metadata": {},
   "cell_type": "code",
   "outputs": [],
   "execution_count": null,
   "source": [
    "pack_options = \"ernestogym/ernesto/data/battery/pack.yaml\"\n",
    "ecm = \"ernestogym/ernesto/data/battery/models/electrical/thevenin_pack.yaml\"\n",
    "# ecm = \"ernestogym/ernesto/data/battery/models/electrical/thevenin_fading_pack.yaml\"\n",
    "r2c = \"ernestogym/ernesto/data/battery/models/thermal/r2c_thermal_pack.yaml\"\n",
    "# bolun = \"ernestogym/ernesto/data/battery/models/aging/bolun_pack.yaml\"\n",
    "bolun = \"ernestogym/ernesto/data/battery/models/aging/bolun_pack.yaml\"\n",
    "world = \"ernestogym/envs/single_agent/ijcnn_deg_test.yaml\"\n",
    "# world = \"ernestogym/envs/single_agent/world_fading.yaml\"\n",
    "\n",
    "# battery_type = 'fading'\n",
    "# battery_type = 'degrading'\n",
    "battery_type = 'degrading_dropflow'\n",
    "\n",
    "params = parameter_generator(\n",
    "    input_var='current',\n",
    "    battery_options=pack_options,\n",
    "    electrical_model=ecm,\n",
    "    thermal_model=r2c,\n",
    "    aging_model=bolun,\n",
    "    world_options=world,\n",
    "    use_reward_normalization=True\n",
    "\n",
    ")\n",
    "\n",
    "params['step']"
   ],
   "id": "42968b5ad4abb402"
  },
  {
   "metadata": {},
   "cell_type": "code",
   "outputs": [],
   "execution_count": null,
   "source": [
    "@partial(jax.jit, static_argnums=(0, 2, 3))\n",
    "def test(env: MicroGridEnv, env_params, network, num_iter, rng):\n",
    "\n",
    "    rng, _rng = jax.random.split(rng)\n",
    "\n",
    "    obsv, env_state = env.reset(_rng, env_params)\n",
    "\n",
    "    act_state, cri_state = network.get_initial_lstm_state()\n",
    "\n",
    "    @scan_tqdm(num_iter, print_rate=num_iter // 100)\n",
    "    def _env_step(runner_state, unused):\n",
    "        obsv, env_state, act_state, rng = runner_state\n",
    "\n",
    "        pi, _, act_state, _ = network(obsv, act_state, cri_state)\n",
    "\n",
    "        #deterministic action\n",
    "        action = pi.mode()\n",
    "\n",
    "        rng, _rng = jax.random.split(rng)\n",
    "        obsv, env_state, reward, done, info = env.step(_rng, env_state, action, env_params)\n",
    "\n",
    "        runner_state = (obsv, env_state, act_state, rng)\n",
    "        return runner_state, (info, action)\n",
    "\n",
    "    runner_state = (obsv, env_state, act_state, rng)\n",
    "\n",
    "    runner_state, info = jax.lax.scan(_env_step, runner_state, jnp.arange(num_iter))\n",
    "\n",
    "    return info"
   ],
   "id": "ddf60aead990bc5"
  },
  {
   "metadata": {},
   "cell_type": "code",
   "outputs": [],
   "execution_count": null,
   "source": [
    "env, env_params = my_env_creator(params, battery_type, env_type=env_type)\n",
    "env_params = env.eval(env_params)"
   ],
   "id": "e05a965c379a2d78"
  },
  {
   "metadata": {},
   "cell_type": "code",
   "outputs": [],
   "execution_count": null,
   "source": [
    "num_iter = 8760 #* 8\n",
    "info, actions = test(env, env_params, network, num_iter, jax.random.PRNGKey(51))\n"
   ],
   "id": "f6851ea70aeba71c"
  },
  {
   "metadata": {},
   "cell_type": "code",
   "outputs": [],
   "execution_count": null,
   "source": "jax.tree.map(lambda val: val.shape, info)",
   "id": "ea792d97ecfc31a"
  },
  {
   "metadata": {},
   "cell_type": "code",
   "outputs": [],
   "execution_count": null,
   "source": "actions.max(), actions.min(), actions.mean()",
   "id": "16e7d652f0a9aa32"
  },
  {
   "metadata": {},
   "cell_type": "code",
   "outputs": [],
   "execution_count": null,
   "source": "plt.plot(info['soc'])",
   "id": "ea77e58ca9acc4b8"
  },
  {
   "metadata": {},
   "cell_type": "code",
   "outputs": [],
   "execution_count": null,
   "source": "reward_type = 'weig_reward'",
   "id": "fa24c837bcdd2914"
  },
  {
   "metadata": {},
   "cell_type": "code",
   "outputs": [],
   "execution_count": null,
   "source": "plt.plot(info[reward_type]['r_trad'])",
   "id": "f4120194557644c6"
  },
  {
   "metadata": {},
   "cell_type": "code",
   "outputs": [],
   "execution_count": null,
   "source": "plt.plot(info[reward_type]['r_clipping'])",
   "id": "e7fcfbb13028d0c7"
  },
  {
   "metadata": {},
   "cell_type": "code",
   "outputs": [],
   "execution_count": null,
   "source": "info['pure_reward']['r_clipping'].mean(), info['weig_reward']['r_clipping'].mean()",
   "id": "adeeb33047aec504"
  },
  {
   "metadata": {},
   "cell_type": "code",
   "outputs": [],
   "execution_count": null,
   "source": "plt.plot(info[reward_type]['r_deg'])",
   "id": "2107620a0e74776c"
  },
  {
   "metadata": {},
   "cell_type": "code",
   "outputs": [],
   "execution_count": null,
   "source": "plt.plot(info['r_tot'])",
   "id": "c1b8da133485b83a"
  },
  {
   "metadata": {},
   "cell_type": "code",
   "outputs": [],
   "execution_count": null,
   "source": "plt.plot(np.cumsum(info[reward_type]['r_trad']))",
   "id": "fee80375c9e027dc"
  },
  {
   "metadata": {},
   "cell_type": "code",
   "outputs": [],
   "execution_count": null,
   "source": "plt.plot(np.cumsum(info[reward_type]['r_clipping']))",
   "id": "42f0e4a30ea29070"
  },
  {
   "metadata": {},
   "cell_type": "code",
   "outputs": [],
   "execution_count": null,
   "source": "plt.plot(np.cumsum(info[reward_type]['r_deg']))",
   "id": "367d632a6023b92"
  },
  {
   "metadata": {},
   "cell_type": "code",
   "outputs": [],
   "execution_count": null,
   "source": "plt.plot(np.cumsum(info['r_tot']))",
   "id": "2e76a1bfea8020bc"
  },
  {
   "metadata": {},
   "cell_type": "code",
   "outputs": [],
   "execution_count": null,
   "source": "print(info['soc'])",
   "id": "961f625c33579ce0"
  },
  {
   "metadata": {},
   "cell_type": "code",
   "outputs": [],
   "execution_count": null,
   "source": "plt.plot(np.cumsum(info[reward_type]['r_deg']))",
   "id": "e99e718bcc2bde80"
  },
  {
   "metadata": {},
   "cell_type": "code",
   "outputs": [],
   "execution_count": null,
   "source": "print(info['soc'])",
   "id": "60a7065b460fa484"
  }
 ],
 "metadata": {
  "kernelspec": {
   "display_name": "Python 3",
   "language": "python",
   "name": "python3"
  },
  "language_info": {
   "codemirror_mode": {
    "name": "ipython",
    "version": 2
   },
   "file_extension": ".py",
   "mimetype": "text/x-python",
   "name": "python",
   "nbconvert_exporter": "python",
   "pygments_lexer": "ipython2",
   "version": "2.7.6"
  }
 },
 "nbformat": 4,
 "nbformat_minor": 5
}
