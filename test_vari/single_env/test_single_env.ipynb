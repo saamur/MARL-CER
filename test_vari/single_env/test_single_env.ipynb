{
 "cells": [
  {
   "cell_type": "code",
   "id": "initial_id",
   "metadata": {
    "collapsed": true,
    "ExecuteTime": {
     "end_time": "2025-02-10T17:28:49.726774Z",
     "start_time": "2025-02-10T17:28:49.323449Z"
    }
   },
   "source": [
    "%load_ext autoreload\n",
    "%autoreload 2\n",
    "%matplotlib inline\n",
    "%cd ../.."
   ],
   "outputs": [
    {
     "name": "stdout",
     "output_type": "stream",
     "text": [
      "/media/samuele/Disco/PycharmProjectsUbuntu/MARL-CER\n"
     ]
    }
   ],
   "execution_count": 1
  },
  {
   "metadata": {
    "ExecuteTime": {
     "end_time": "2025-02-10T17:28:50.147640Z",
     "start_time": "2025-02-10T17:28:49.732181Z"
    }
   },
   "cell_type": "code",
   "source": [
    "import os\n",
    "\n",
    "# os.environ[\"JAX_PLATFORM_NAME\"] = \"cpu\"\n",
    "\n",
    "import jax\n",
    "import jax.numpy as jnp\n",
    "\n",
    "jax.devices()"
   ],
   "id": "76ca5ce6bcf5ed27",
   "outputs": [
    {
     "data": {
      "text/plain": [
       "[CudaDevice(id=0)]"
      ]
     },
     "execution_count": 2,
     "metadata": {},
     "output_type": "execute_result"
    }
   ],
   "execution_count": 2
  },
  {
   "metadata": {
    "ExecuteTime": {
     "end_time": "2025-02-10T17:28:50.917633Z",
     "start_time": "2025-02-10T17:28:50.214477Z"
    }
   },
   "cell_type": "code",
   "source": "from ernestogym.envs_jax.single_agent.utils import parameter_generator",
   "id": "9da7c7a8c61cf71c",
   "outputs": [],
   "execution_count": 3
  },
  {
   "metadata": {
    "ExecuteTime": {
     "end_time": "2025-02-10T17:28:52.655771Z",
     "start_time": "2025-02-10T17:28:50.922599Z"
    }
   },
   "cell_type": "code",
   "source": [
    "pack_options = \"ernestogym/ernesto_jax/data/battery/pack.yaml\"\n",
    "# ecm = \"ernestogym/ernesto_jax/data/battery/models/electrical/thevenin_pack.yaml\"\n",
    "ecm = \"ernestogym/ernesto_jax/data/battery/models/electrical/thevenin_fading_pack.yaml\"\n",
    "r2c = \"ernestogym/ernesto_jax/data/battery/models/thermal/r2c_thermal_pack.yaml\"\n",
    "bolun = \"ernestogym/ernesto_jax/data/battery/models/aging/bolun_pack.yaml\"\n",
    "# bolun = \"ernestogym/ernesto_jax/data/battery/models/aging/bolun_pack_dropflow.yaml\"\n",
    "# world = \"ernestogym/envs_jax/single_agent/world_deg.yaml\"\n",
    "world = \"ernestogym/envs_jax/single_agent/world_fading.yaml\"\n",
    "\n",
    "battery_type = 'fading'\n",
    "\n",
    "params = parameter_generator(\n",
    "    input_var='current',\n",
    "    battery_options=pack_options,\n",
    "    electrical_model=ecm,\n",
    "    thermal_model=r2c,\n",
    "    aging_model=bolun,\n",
    "    world_options=world,\n",
    "    use_reward_normalization=True\n",
    "\n",
    ")\n",
    "\n",
    "params"
   ],
   "id": "da36f2b741b3fbc8",
   "outputs": [
    {
     "data": {
      "text/plain": [
       "{'battery': {'sign_convention': 'passive',\n",
       "  'params': {'nominal_voltage': 350.4,\n",
       "   'nominal_capacity': 60.0,\n",
       "   'nominal_dod': 0.8,\n",
       "   'nominal_lifetime': 3000,\n",
       "   'v_max': 398.4,\n",
       "   'v_min': 288.0,\n",
       "   'temp_ambient': 298.15,\n",
       "   'nominal_cost': 3000.0},\n",
       "  'bounds': {'voltage': {'low': 288.0, 'high': 398.4},\n",
       "   'current': {'low': -180.0, 'high': 60.0},\n",
       "   'power': {'low': -71712.0, 'high': 23904.0},\n",
       "   'temperature': {'low': 273.15, 'high': 323.15},\n",
       "   'temp_ambient': {'low': 273.15, 'high': 313.15},\n",
       "   'soc': {'low': 0.2, 'high': 0.8},\n",
       "   'soh': {'low': 0.8, 'high': 1.0}},\n",
       "  'init': {'voltage': 288.0,\n",
       "   'current': 0.0,\n",
       "   'power': 0.0,\n",
       "   'temperature': 293.15,\n",
       "   'temp_ambient': 293.15,\n",
       "   'soc': 0.5,\n",
       "   'soh': 1.0}},\n",
       " 'input_var': 'current',\n",
       " 'models_config': [{'type': 'electrical',\n",
       "   'class_name': 'TheveninFadingModel',\n",
       "   'use_fading': True,\n",
       "   'alpha_fading': 0.00066667,\n",
       "   'beta_fading': 1.66667e-07,\n",
       "   'components': {'r0': {'selected_type': 'scalar',\n",
       "     'scalar': 10.0,\n",
       "     'lookup': {'table': 'r0_pack.csv',\n",
       "      'inputs': [{'var': 'temperature', 'label': 'temp', 'unit': 'degC'},\n",
       "       {'var': 'soc', 'label': 'soc', 'unit': None}],\n",
       "      'output': {'var': 'resistance', 'label': 'r0', 'unit': 'ohm'}}},\n",
       "    'r1': {'selected_type': 'scalar',\n",
       "     'scalar': 10.0,\n",
       "     'lookup': {'table': 'r1_pack.csv',\n",
       "      'inputs': [{'var': 'temperature', 'label': 'temp', 'unit': 'degC'},\n",
       "       {'var': 'soc', 'label': 'soc', 'unit': None}],\n",
       "      'output': {'var': 'resistance', 'label': 'r1', 'unit': 'ohm'}}},\n",
       "    'c': {'selected_type': 'scalar',\n",
       "     'scalar': 10.0,\n",
       "     'lookup': {'table': 'c_pack.csv',\n",
       "      'inputs': [{'var': 'temperature', 'label': 'temp', 'unit': 'degC'},\n",
       "       {'var': 'soc', 'label': 'soc', 'unit': None}],\n",
       "      'output': {'var': 'capacity', 'label': 'c', 'unit': 'F'}}},\n",
       "    'v_ocv': {'selected_type': 'scalar',\n",
       "     'scalar': 10.0,\n",
       "     'lookup': {'table': 'voc_pack.csv',\n",
       "      'inputs': [{'var': 'temperature', 'label': 'temp', 'unit': 'degC'},\n",
       "       {'var': 'soc', 'label': 'soc', 'unit': None}],\n",
       "      'output': {'var': 'voltage', 'label': 'voc', 'unit': 'V'}}}}},\n",
       "  {'type': 'thermal',\n",
       "   'class_name': 'R2CThermal',\n",
       "   'components': {'c_term': {'selected_type': 'scalar', 'scalar': 138240},\n",
       "    'r_cond': {'selected_type': 'scalar', 'scalar': 0.0061},\n",
       "    'r_conv': {'selected_type': 'scalar', 'scalar': 0.1994},\n",
       "    'dv_dT': {'selected_type': 'scalar',\n",
       "     'scalar': 0.1,\n",
       "     'lookup': {'inputs': {'soc': [1,\n",
       "        0.9,\n",
       "        0.8,\n",
       "        0.7,\n",
       "        0.6,\n",
       "        0.5,\n",
       "        0.4,\n",
       "        0.3,\n",
       "        0.2,\n",
       "        0.1,\n",
       "        0.0]},\n",
       "      'output': [8e-05,\n",
       "       6e-05,\n",
       "       8e-05,\n",
       "       5e-05,\n",
       "       0.0001,\n",
       "       0.00018,\n",
       "       0.00016,\n",
       "       8e-05,\n",
       "       -5e-05,\n",
       "       -0.00016,\n",
       "       -0.0007]}}}}],\n",
       " 'demand': {'data':           1     2     3    4    5    6    7    8    9    10  ...    67    68  \\\n",
       "  0        95   501   403   61  357   57  289  738  642  1254  ...  2496   478   \n",
       "  1        95   479   425   61  354   44  341  739  642  1421  ...  2509   481   \n",
       "  2        95   449   460   61  354   44  533  734  638  1395  ...  2495   479   \n",
       "  3        95   463   488   61  353   44  493  732  637  1395  ...  2506   479   \n",
       "  4        99   404   543   61  300   44  505  730  639   668  ...  2497   472   \n",
       "  ...     ...   ...   ...  ...  ...  ...  ...  ...  ...   ...  ...   ...   ...   \n",
       "  525595  220  1306  1625  266  525  182  135  771  167   616  ...  1885   455   \n",
       "  525596  221  2065  1626  265  525  185  135  770  167   615  ...   379   430   \n",
       "  525597  220  1368  1621  264  533  179  135  766  167   710  ...   377   449   \n",
       "  525598  219   194  1593  264  559  226  135  763  167   704  ...   377  1305   \n",
       "  525599  218   267   797  263  559  226  135  705  167   705  ...   378  2642   \n",
       "  \n",
       "           69   70    71   72   73   74            timestamp    delta_time  \n",
       "  0       497   44   624  539  287  229  2010-01-01 00:00:00  1.262304e+09  \n",
       "  1       491   44   585  535  287  229  2010-01-01 00:01:00  1.262304e+09  \n",
       "  2       494   44   585  532  246  229  2010-01-01 00:02:00  1.262304e+09  \n",
       "  3       492   43   577  538  292  228  2010-01-01 00:03:00  1.262304e+09  \n",
       "  4       493   43  1847  701  269  228  2010-01-01 00:04:00  1.262304e+09  \n",
       "  ...     ...  ...   ...  ...  ...  ...                  ...           ...  \n",
       "  525595  643  142   135  435  218  634  2010-12-31 23:55:00  1.293840e+09  \n",
       "  525596  642  146   135  406  231  554  2010-12-31 23:56:00  1.293840e+09  \n",
       "  525597  641  143   134  351  376  712  2010-12-31 23:57:00  1.293840e+09  \n",
       "  525598  641  142   134  349  377  839  2010-12-31 23:58:00  1.293840e+09  \n",
       "  525599  580  140   134  347  379  841  2010-12-31 23:59:00  1.293840e+09  \n",
       "  \n",
       "  [525600 rows x 76 columns],\n",
       "  'timestep': 60,\n",
       "  'test_profiles': ['70', '71', '72', '73', '74'],\n",
       "  'data_usage': 'end'},\n",
       " 'soh': False,\n",
       " 'generation': {'data':          PV            timestamp    delta_time\n",
       "  0       0.0  2010-01-01 00:00:00  1.262304e+09\n",
       "  1       0.0  2010-01-01 00:01:00  1.262304e+09\n",
       "  2       0.0  2010-01-01 00:02:00  1.262304e+09\n",
       "  3       0.0  2010-01-01 00:03:00  1.262304e+09\n",
       "  4       0.0  2010-01-01 00:04:00  1.262304e+09\n",
       "  ...     ...                  ...           ...\n",
       "  525595  0.0  2010-12-31 23:55:00  1.293840e+09\n",
       "  525596  0.0  2010-12-31 23:56:00  1.293840e+09\n",
       "  525597  0.0  2010-12-31 23:57:00  1.293840e+09\n",
       "  525598  0.0  2010-12-31 23:58:00  1.293840e+09\n",
       "  525599  0.0  2010-12-31 23:59:00  1.293840e+09\n",
       "  \n",
       "  [525600 rows x 3 columns],\n",
       "  'timestep': 60,\n",
       "  'data_usage': 'end'},\n",
       " 'market': {'data':                 timestamp  delta_time       ask       bid\n",
       "  0     2010-01-01 00:00:00         0.0  0.000014  0.000005\n",
       "  1     2010-01-01 01:00:00      3600.0  0.000014  0.000005\n",
       "  2     2010-01-01 02:00:00      7200.0  0.000011  0.000002\n",
       "  3     2010-01-01 03:00:00     10800.0  0.000010  0.000001\n",
       "  4     2010-01-01 04:00:00     14400.0  0.000010  0.000001\n",
       "  ...                   ...         ...       ...       ...\n",
       "  8755  2010-12-31 19:00:00  31518000.0  0.000015  0.000007\n",
       "  8756  2010-12-31 20:00:00  31521600.0  0.000015  0.000006\n",
       "  8757  2010-12-31 21:00:00  31525200.0  0.000014  0.000006\n",
       "  8758  2010-12-31 22:00:00  31528800.0  0.000014  0.000005\n",
       "  8759  2010-12-31 23:00:00  31532400.0  0.000014  0.000005\n",
       "  \n",
       "  [8760 rows x 4 columns],\n",
       "  'timestep': 3600,\n",
       "  'data_usage': 'end',\n",
       "  'spread_factor': 1.0},\n",
       " 'dummy': {'generator': 10,\n",
       "  'market': {'ask': 10, 'bid': 8, 'spread_factor': 1.0}},\n",
       " 'day_of_year': True,\n",
       " 'seconds_of_day': True,\n",
       " 'energy_level': False,\n",
       " 'step': 60,\n",
       " 'seed': 42,\n",
       " 'random_battery_init': False,\n",
       " 'random_data_init': False,\n",
       " 'aging_options': {'degradation': False, 'fading': True},\n",
       " 'reward': {'trading_coeff': 1,\n",
       "  'operational_cost_coeff': 1,\n",
       "  'degradation_coeff': 0,\n",
       "  'clip_action_coeff': 1},\n",
       " 'use_reward_normalization': True,\n",
       " 'termination': {'max_iterations': 525600, 'min_soh': 0.6}}"
      ]
     },
     "execution_count": 4,
     "metadata": {},
     "output_type": "execute_result"
    }
   ],
   "execution_count": 4
  },
  {
   "metadata": {
    "ExecuteTime": {
     "end_time": "2025-02-10T17:28:53.052730Z",
     "start_time": "2025-02-10T17:28:52.671706Z"
    }
   },
   "cell_type": "code",
   "source": "from ernestogym.envs_jax.single_agent.env import MicroGridEnv",
   "id": "bf94a5685fff926b",
   "outputs": [],
   "execution_count": 5
  },
  {
   "metadata": {
    "ExecuteTime": {
     "end_time": "2025-02-10T17:28:53.069589Z",
     "start_time": "2025-02-10T17:28:53.055743Z"
    }
   },
   "cell_type": "code",
   "source": [
    "def prep_for_training(params, battery_type):\n",
    "    env = MicroGridEnv(params, battery_type)\n",
    "\n",
    "    initial_state = env.initial_state\n",
    "    env_params = env.params\n",
    "\n",
    "    return env, initial_state, env_params"
   ],
   "id": "e33d040124489b9",
   "outputs": [],
   "execution_count": 6
  },
  {
   "metadata": {
    "ExecuteTime": {
     "end_time": "2025-02-10T17:28:53.665577Z",
     "start_time": "2025-02-10T17:28:53.100599Z"
    }
   },
   "cell_type": "code",
   "source": "env, initial_state, env_params = prep_for_training(params, battery_type=battery_type)",
   "id": "509824c7d5de2fd0",
   "outputs": [],
   "execution_count": 7
  },
  {
   "metadata": {
    "ExecuteTime": {
     "end_time": "2025-02-10T17:28:53.724359Z",
     "start_time": "2025-02-10T17:28:53.677736Z"
    }
   },
   "cell_type": "code",
   "source": [
    "key = jax.random.key(30)\n",
    "state = initial_state"
   ],
   "id": "ad695212536ca2b4",
   "outputs": [],
   "execution_count": 8
  },
  {
   "metadata": {
    "ExecuteTime": {
     "end_time": "2025-02-10T17:28:57.781380Z",
     "start_time": "2025-02-10T17:28:57.764677Z"
    }
   },
   "cell_type": "code",
   "source": "obs, state, reward, done, info = env.step(key, state, 5., env_params)",
   "id": "7495e7a4b82544d3",
   "outputs": [],
   "execution_count": 10
  },
  {
   "metadata": {
    "ExecuteTime": {
     "end_time": "2025-02-10T17:28:59.366772Z",
     "start_time": "2025-02-10T17:28:59.347829Z"
    }
   },
   "cell_type": "code",
   "source": [
    "def train(env:MicroGridEnv, initial_state, env_params, num_iter, init_key):\n",
    "\n",
    "    def iter_body(i, val):\n",
    "        state, key, log = val\n",
    "        key, subkey1, subkey2 = jax.random.split(key, 3)\n",
    "        a = jax.random.uniform(subkey1, minval=env_params.i_min_action, maxval=env_params.i_max_action)\n",
    "        obs, state, reward, done, info = env.step(subkey2, state, a, env_params)\n",
    "\n",
    "        def update_dict(d, r_trad, r_op, r_deg, r_clipping):\n",
    "            d['r_trad'] = d['r_trad'].at[i].set(r_trad)\n",
    "            d['r_op'] = d['r_op'].at[i].set(r_op)\n",
    "            d['r_deg'] = d['r_deg'].at[i].set(r_deg)\n",
    "            d['r_clipping'] = d['r_clipping'].at[i].set(r_clipping)\n",
    "\n",
    "        log['soc'] = log['soc'].at[i].set(info['soc'])\n",
    "        log['soh'] = log['soh'].at[i].set(info['soh'])\n",
    "\n",
    "        update_dict(log['pure_reward'], **info['pure_reward'])\n",
    "        update_dict(log['norm_reward'], **info['norm_reward'])\n",
    "        update_dict(log['weig_reward'], **info['weig_reward'])\n",
    "        log['r_tot'] = log['r_tot'].at[i].set(info['r_tot'])\n",
    "\n",
    "        log['action'] = log['action'].at[i].set(a)\n",
    "\n",
    "        return state, key, log\n",
    "\n",
    "    def training_loop():\n",
    "\n",
    "        log = {'soc': jnp.zeros(num_iter),\n",
    "               'soh': jnp.zeros(num_iter),\n",
    "               'pure_reward': {'r_trad': jnp.zeros(num_iter),\n",
    "                               'r_op': jnp.zeros(num_iter),\n",
    "                               'r_deg': jnp.zeros(num_iter),\n",
    "                               'r_clipping': jnp.zeros(num_iter)},\n",
    "               'norm_reward': {'r_trad': jnp.zeros(num_iter),\n",
    "                               'r_op': jnp.zeros(num_iter),\n",
    "                               'r_deg': jnp.zeros(num_iter),\n",
    "                               'r_clipping': jnp.zeros(num_iter)},\n",
    "               'weig_reward': {'r_trad': jnp.zeros(num_iter),\n",
    "                               'r_op': jnp.zeros(num_iter),\n",
    "                               'r_deg': jnp.zeros(num_iter),\n",
    "                               'r_clipping': jnp.zeros(num_iter)},\n",
    "               'r_tot': jnp.zeros(num_iter),\n",
    "               'action': jnp.zeros(num_iter)}\n",
    "\n",
    "        state = jax.lax.fori_loop(0,num_iter, iter_body, (initial_state, init_key, log))\n",
    "        return state\n",
    "\n",
    "    return jax.jit(training_loop)"
   ],
   "id": "12e2613d0b54ea25",
   "outputs": [],
   "execution_count": 11
  },
  {
   "metadata": {
    "ExecuteTime": {
     "end_time": "2025-02-10T17:29:03.328708Z",
     "start_time": "2025-02-10T17:29:03.313576Z"
    }
   },
   "cell_type": "code",
   "source": [
    "num_iter = 10000\n",
    "\n",
    "fun = train(env, initial_state, env_params, num_iter, key)"
   ],
   "id": "318f32dcf82905df",
   "outputs": [],
   "execution_count": 12
  },
  {
   "metadata": {
    "ExecuteTime": {
     "end_time": "2025-02-10T17:29:09.982240Z",
     "start_time": "2025-02-10T17:29:09.418139Z"
    }
   },
   "cell_type": "code",
   "source": [
    "from time import time\n",
    "\n",
    "t1 = time()\n",
    "\n",
    "state, _, log = fun()\n",
    "\n",
    "print(time() - t1)"
   ],
   "id": "c53492b4e8585dac",
   "outputs": [
    {
     "name": "stdout",
     "output_type": "stream",
     "text": [
      "0.5482473373413086\n"
     ]
    }
   ],
   "execution_count": 14
  },
  {
   "metadata": {
    "ExecuteTime": {
     "end_time": "2025-02-10T17:29:12.116955Z",
     "start_time": "2025-02-10T17:29:12.088957Z"
    }
   },
   "cell_type": "code",
   "source": "log",
   "id": "449da776c4b8b119",
   "outputs": [
    {
     "data": {
      "text/plain": [
       "{'action': Array([-2031.5222 ,  1340.9451 ,   781.2202 , ...,   869.72314,\n",
       "          301.07422,   560.17285], dtype=float32),\n",
       " 'norm_reward': {'r_clipping': Array([ 45.67307 ,   0.      ,   0.      , ..., 231.57426 ,  50.292633,\n",
       "          58.834675], dtype=float32),\n",
       "  'r_deg': Array([-21.212696 , -10.547787 ,  -4.7662854, ...,  -0.       ,\n",
       "          -0.       ,  -0.       ], dtype=float32),\n",
       "  'r_op': Array([-15.253226, -45.256145, -23.087864, ...,  -0.      ,  -0.      ,\n",
       "          -0.      ], dtype=float32),\n",
       "  'r_trad': Array([ 1.06014595e+01,  6.77827393e+02, -1.11533386e+03, ...,\n",
       "          1.22076720e-02,  1.18588815e-02,  1.56955793e-02], dtype=float32)},\n",
       " 'pure_reward': {'r_clipping': Array([ 274038.4 ,       0.  ,       0.  , ..., 1389445.6 ,  301755.8 ,\n",
       "          353008.06], dtype=float32),\n",
       "  'r_deg': Array([-21.212696 , -10.547787 ,  -4.7662854, ...,  -0.       ,\n",
       "          -0.       ,  -0.       ], dtype=float32),\n",
       "  'r_op': Array([ -45759.68, -135768.44,  -69263.59, ...,      -0.  ,      -0.  ,\n",
       "              -0.  ], dtype=float32),\n",
       "  'r_trad': Array([ 1.6673127e+00,  1.0660327e+02, -1.7541078e+02, ...,\n",
       "          1.9199250e-03,  1.8650701e-03,  2.4684751e-03], dtype=float32)},\n",
       " 'r_tot': Array([   41.0213  ,   632.5712  , -1138.4218  , ...,   231.58647 ,\n",
       "           50.304493,    58.850372], dtype=float32),\n",
       " 'soc': Array([0.19914907, 0.57321787, 0.7912855 , ..., 0.8       , 0.8       ,\n",
       "        0.8       ], dtype=float32),\n",
       " 'soh': Array([0.99717164, 0.99576527, 0.99512976, ..., 0.7912933 , 0.7912933 ,\n",
       "        0.7912933 ], dtype=float32),\n",
       " 'weig_reward': {'r_clipping': Array([ 45.67307 ,   0.      ,   0.      , ..., 231.57426 ,  50.292633,\n",
       "          58.834675], dtype=float32),\n",
       "  'r_deg': Array([-0., -0., -0., ..., -0., -0., -0.], dtype=float32),\n",
       "  'r_op': Array([-15.253226, -45.256145, -23.087864, ...,  -0.      ,  -0.      ,\n",
       "          -0.      ], dtype=float32),\n",
       "  'r_trad': Array([ 1.06014595e+01,  6.77827393e+02, -1.11533386e+03, ...,\n",
       "          1.22076720e-02,  1.18588815e-02,  1.56955793e-02], dtype=float32)}}"
      ]
     },
     "execution_count": 15,
     "metadata": {},
     "output_type": "execute_result"
    }
   ],
   "execution_count": 15
  }
 ],
 "metadata": {
  "kernelspec": {
   "display_name": "Python 3",
   "language": "python",
   "name": "python3"
  },
  "language_info": {
   "codemirror_mode": {
    "name": "ipython",
    "version": 2
   },
   "file_extension": ".py",
   "mimetype": "text/x-python",
   "name": "python",
   "nbconvert_exporter": "python",
   "pygments_lexer": "ipython2",
   "version": "2.7.6"
  }
 },
 "nbformat": 4,
 "nbformat_minor": 5
}
