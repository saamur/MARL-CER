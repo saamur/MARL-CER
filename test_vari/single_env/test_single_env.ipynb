{
 "cells": [
  {
   "metadata": {},
   "cell_type": "code",
   "outputs": [],
   "execution_count": null,
   "source": [
    "%load_ext autoreload\n",
    "%autoreload 2\n",
    "%matplotlib inline\n",
    "%cd ../.."
   ],
   "id": "8bea865aa5033725"
  },
  {
   "metadata": {},
   "cell_type": "code",
   "outputs": [],
   "execution_count": null,
   "source": [
    "import os\n",
    "\n",
    "# os.environ[\"JAX_PLATFORM_NAME\"] = \"cpu\"\n",
    "\n",
    "import jax\n",
    "import jax.numpy as jnp\n",
    "# jax.config.update(\"jax_debug_nans\", True)\n",
    "jax.config.update(\"jax_enable_x64\", True)\n",
    "\n",
    "jax.devices()"
   ],
   "id": "9c1e254cd3989ac"
  },
  {
   "metadata": {},
   "cell_type": "code",
   "outputs": [],
   "execution_count": null,
   "source": "from ernestogym.envs.single_agent.utils import parameter_generator",
   "id": "47f9584154881a68"
  },
  {
   "metadata": {},
   "cell_type": "code",
   "outputs": [],
   "execution_count": null,
   "source": [
    "pack_options = \"ernestogym/ernesto/data/battery/pack.yaml\"\n",
    "ecm = \"ernestogym/ernesto/data/battery/models/electrical/thevenin_pack.yaml\"\n",
    "# ecm = \"ernestogym/ernesto/data/battery/models/electrical/thevenin_fading_pack.yaml\"\n",
    "r2c = \"ernestogym/ernesto/data/battery/models/thermal/r2c_thermal_pack.yaml\"\n",
    "# bolun = \"ernestogym/ernesto/data/battery/models/aging/bolun_pack.yaml\"\n",
    "bolun = \"ernestogym/ernesto/data/battery/models/aging/bolun_pack_dropflow.yaml\"\n",
    "world = \"ernestogym/envs/single_agent/world_deg.yaml\"\n",
    "# world = \"ernestogym/envs/single_agent/world_fading.yaml\"\n",
    "\n",
    "# battery_type = 'fading'\n",
    "# battery_type = 'degrading'\n",
    "battery_type = 'degrading_dropflow'\n",
    "\n",
    "params = parameter_generator(\n",
    "    input_var='current',\n",
    "    battery_options=pack_options,\n",
    "    electrical_model=ecm,\n",
    "    thermal_model=r2c,\n",
    "    aging_model=bolun,\n",
    "    world_options=world,\n",
    "    use_reward_normalization=True\n",
    "\n",
    ")\n",
    "\n",
    "params"
   ],
   "id": "6194ecbc2ee58531"
  },
  {
   "metadata": {},
   "cell_type": "code",
   "outputs": [],
   "execution_count": null,
   "source": "from ernestogym.envs.single_agent.env import MicroGridEnv",
   "id": "73416bda49576d6"
  },
  {
   "metadata": {},
   "cell_type": "code",
   "outputs": [],
   "execution_count": null,
   "source": [
    "def prep_for_training(params, battery_type, demand_profile):\n",
    "    env = MicroGridEnv(params, battery_type, demand_profile)\n",
    "\n",
    "    initial_state = env.initial_state\n",
    "    env_params = env.params\n",
    "\n",
    "    return env, initial_state, env_params"
   ],
   "id": "dec3d304acf82946"
  },
  {
   "metadata": {},
   "cell_type": "code",
   "outputs": [],
   "execution_count": null,
   "source": "env, initial_state, env_params = prep_for_training(params, battery_type=battery_type, demand_profile='64')",
   "id": "ec3a5e8339470e23"
  },
  {
   "metadata": {},
   "cell_type": "code",
   "outputs": [],
   "execution_count": null,
   "source": [
    "key = jax.random.key(30)\n",
    "state = initial_state\n",
    "state"
   ],
   "id": "f341e242667e30b2"
  },
  {
   "metadata": {},
   "cell_type": "code",
   "outputs": [],
   "execution_count": null,
   "source": "obs, state, reward, done, info = env.step(key, state, -20., env_params)",
   "id": "ed8450556b2a0372"
  },
  {
   "metadata": {},
   "cell_type": "code",
   "outputs": [],
   "execution_count": null,
   "source": [
    "print(state)\n",
    "print('\\n\\n\\n############################\\n\\n\\n')\n",
    "print(info)"
   ],
   "id": "6d74a7fbdafcb1bb"
  },
  {
   "metadata": {},
   "cell_type": "code",
   "outputs": [],
   "execution_count": null,
   "source": [
    "def train(env:MicroGridEnv, initial_state, env_params, num_iter, init_key):\n",
    "\n",
    "    def iter_body(i, val):\n",
    "        state, key, log = val\n",
    "        key, subkey1, subkey2 = jax.random.split(key, 3)\n",
    "        a = jax.random.uniform(subkey1, minval=env_params.i_min_action, maxval=env_params.i_max_action)\n",
    "        obs, state, reward, done, info = env.step(subkey2, state, a, env_params)\n",
    "\n",
    "        def update_dict(d, r_trad, r_op, r_deg, r_clipping):\n",
    "            d['r_trad'] = d['r_trad'].at[i].set(r_trad)\n",
    "            d['r_op'] = d['r_op'].at[i].set(r_op)\n",
    "            d['r_deg'] = d['r_deg'].at[i].set(r_deg)\n",
    "            d['r_clipping'] = d['r_clipping'].at[i].set(r_clipping)\n",
    "\n",
    "        log['soc'] = log['soc'].at[i].set(info['soc'])\n",
    "        log['soh'] = log['soh'].at[i].set(info['soh'])\n",
    "\n",
    "        update_dict(log['pure_reward'], **info['pure_reward'])\n",
    "        update_dict(log['norm_reward'], **info['norm_reward'])\n",
    "        update_dict(log['weig_reward'], **info['weig_reward'])\n",
    "        log['r_tot'] = log['r_tot'].at[i].set(info['r_tot'])\n",
    "\n",
    "        log['action'] = log['action'].at[i].set(a)\n",
    "\n",
    "        return state, key, log\n",
    "\n",
    "    def training_loop():\n",
    "\n",
    "        log = {'soc': jnp.zeros(num_iter),\n",
    "               'soh': jnp.zeros(num_iter),\n",
    "               'pure_reward': {'r_trad': jnp.zeros(num_iter),\n",
    "                               'r_op': jnp.zeros(num_iter),\n",
    "                               'r_deg': jnp.zeros(num_iter),\n",
    "                               'r_clipping': jnp.zeros(num_iter)},\n",
    "               'norm_reward': {'r_trad': jnp.zeros(num_iter),\n",
    "                               'r_op': jnp.zeros(num_iter),\n",
    "                               'r_deg': jnp.zeros(num_iter),\n",
    "                               'r_clipping': jnp.zeros(num_iter)},\n",
    "               'weig_reward': {'r_trad': jnp.zeros(num_iter),\n",
    "                               'r_op': jnp.zeros(num_iter),\n",
    "                               'r_deg': jnp.zeros(num_iter),\n",
    "                               'r_clipping': jnp.zeros(num_iter)},\n",
    "               'r_tot': jnp.zeros(num_iter),\n",
    "               'action': jnp.zeros(num_iter)}\n",
    "\n",
    "        state = jax.lax.fori_loop(0,num_iter, iter_body, (initial_state, init_key, log))\n",
    "        return state\n",
    "\n",
    "    return jax.jit(training_loop)"
   ],
   "id": "9ccaaca70d563ee5"
  },
  {
   "metadata": {},
   "cell_type": "code",
   "outputs": [],
   "execution_count": null,
   "source": [
    "num_iter = 1000\n",
    "\n",
    "fun = train(env, initial_state, env_params, num_iter, key)"
   ],
   "id": "cd82db0ac2e1ab0f"
  },
  {
   "metadata": {},
   "cell_type": "code",
   "outputs": [],
   "execution_count": null,
   "source": [
    "from time import time\n",
    "\n",
    "t1 = time()\n",
    "\n",
    "state, _, log = fun()\n",
    "\n",
    "print(time() - t1)"
   ],
   "id": "ec2fce577fe65208"
  },
  {
   "metadata": {},
   "cell_type": "code",
   "outputs": [],
   "execution_count": null,
   "source": "log",
   "id": "8baaa86b148bb550"
  },
  {
   "metadata": {},
   "cell_type": "code",
   "outputs": [],
   "execution_count": null,
   "source": [
    "for e in log['soh']:\n",
    "    print(e, end='\\t')"
   ],
   "id": "6dbcc32a83b67e97"
  },
  {
   "metadata": {},
   "cell_type": "code",
   "outputs": [],
   "execution_count": null,
   "source": "state",
   "id": "5cbc38968a31a18e"
  }
 ],
 "metadata": {
  "kernelspec": {
   "display_name": "Python 3",
   "language": "python",
   "name": "python3"
  },
  "language_info": {
   "codemirror_mode": {
    "name": "ipython",
    "version": 2
   },
   "file_extension": ".py",
   "mimetype": "text/x-python",
   "name": "python",
   "nbconvert_exporter": "python",
   "pygments_lexer": "ipython2",
   "version": "2.7.6"
  }
 },
 "nbformat": 4,
 "nbformat_minor": 5
}
