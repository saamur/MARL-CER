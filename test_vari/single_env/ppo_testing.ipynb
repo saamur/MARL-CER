{
 "cells": [
  {
   "metadata": {},
   "cell_type": "code",
   "outputs": [],
   "execution_count": null,
   "source": [
    "%load_ext autoreload\n",
    "%autoreload 2\n",
    "%matplotlib inline\n",
    "%cd ../.."
   ],
   "id": "2c136e9ce8192831"
  },
  {
   "metadata": {},
   "cell_type": "code",
   "outputs": [],
   "execution_count": null,
   "source": [
    "import jax\n",
    "import jax.numpy as jnp\n",
    "import matplotlib.pyplot as plt\n",
    "from functools import partial\n",
    "from jax_tqdm import scan_tqdm\n",
    "\n",
    "from algorithms.utils import restore_state\n",
    "\n",
    "import numpy as np"
   ],
   "id": "85a2af6d24fdb386"
  },
  {
   "metadata": {},
   "cell_type": "code",
   "outputs": [],
   "execution_count": null,
   "source": [
    "from ernestogym.envs.single_agent.env import MicroGridEnv\n",
    "from ernestogym.envs.single_agent.env_trading_soc import MicroGridEnvSocAction"
   ],
   "id": "9ea86f2d6c7d7df3"
  },
  {
   "metadata": {},
   "cell_type": "code",
   "outputs": [],
   "execution_count": null,
   "source": [
    "def my_env_creator(params, battery_type, env_type='normal'):\n",
    "    if env_type == 'normal':\n",
    "        env = MicroGridEnv(params, battery_type)\n",
    "    elif env_type == 'soc_action':\n",
    "        env = MicroGridEnvSocAction(params, battery_type)\n",
    "    else:\n",
    "        raise ValueError('Unknown env_type')\n",
    "    return env, env.params"
   ],
   "id": "60e85c047635277c"
  },
  {
   "metadata": {},
   "cell_type": "code",
   "outputs": [],
   "execution_count": null,
   "source": "from ernestogym.envs.single_agent.utils import parameter_generator",
   "id": "f75b5dbb2b093e8"
  },
  {
   "metadata": {},
   "cell_type": "markdown",
   "source": "# Testing",
   "id": "6ccd400ad73d9a8"
  },
  {
   "metadata": {},
   "cell_type": "code",
   "outputs": [],
   "execution_count": null,
   "source": [
    "@partial(jax.jit, static_argnums=(0, 2, 3))\n",
    "def test(env: MicroGridEnv, env_params, network, num_iter, rng):\n",
    "\n",
    "    rng, _rng = jax.random.split(rng)\n",
    "\n",
    "    obsv, env_state = env.reset(_rng, env_params)\n",
    "\n",
    "    @scan_tqdm(num_iter, print_rate=num_iter // 100)\n",
    "    def _env_step(runner_state, unused):\n",
    "        obsv, env_state, rng = runner_state\n",
    "\n",
    "        pi, _ = network(obsv)\n",
    "\n",
    "        #deterministic action\n",
    "        action = pi.mode()\n",
    "\n",
    "        rng, _rng = jax.random.split(rng)\n",
    "        obsv, env_state, reward, done, info = env.step(_rng, env_state, action, env_params)\n",
    "\n",
    "        runner_state = (obsv, env_state, rng)\n",
    "        return runner_state, (info, action)\n",
    "\n",
    "    runner_state = (obsv, env_state, rng)\n",
    "\n",
    "    runner_state, info = jax.lax.scan(_env_step, runner_state, jnp.arange(num_iter))\n",
    "\n",
    "    return info"
   ],
   "id": "b8fd23d29eb0859b"
  },
  {
   "metadata": {},
   "cell_type": "code",
   "outputs": [],
   "execution_count": null,
   "source": [
    "pack_options = \"ernestogym/ernesto/data/battery/pack.yaml\"\n",
    "ecm = \"ernestogym/ernesto/data/battery/models/electrical/thevenin_pack.yaml\"\n",
    "# ecm = \"ernestogym/ernesto/data/battery/models/electrical/thevenin_fading_pack.yaml\"\n",
    "r2c = \"ernestogym/ernesto/data/battery/models/thermal/r2c_thermal_pack.yaml\"\n",
    "# bolun = \"ernestogym/ernesto/data/battery/models/aging/bolun_pack.yaml\"\n",
    "bolun = \"ernestogym/ernesto/data/battery/models/aging/bolun_pack.yaml\"\n",
    "world = \"ernestogym/envs/single_agent/ijcnn_deg_test.yaml\"\n",
    "# world = \"ernestogym/envs/single_agent/world_fading.yaml\"\n",
    "\n",
    "# battery_type = 'fading'\n",
    "# battery_type = 'degrading'\n",
    "battery_type = 'degrading_dropflow'\n",
    "\n",
    "params = parameter_generator(\n",
    "    input_var='current',\n",
    "    battery_options=pack_options,\n",
    "    electrical_model=ecm,\n",
    "    thermal_model=r2c,\n",
    "    aging_model=bolun,\n",
    "    world_options=world,\n",
    "    use_reward_normalization=True\n",
    "\n",
    ")\n",
    "\n",
    "params['step']"
   ],
   "id": "770f924d109e5164"
  },
  {
   "metadata": {},
   "cell_type": "code",
   "outputs": [],
   "execution_count": null,
   "source": [
    "directory = '/media/samuele/Disco/PycharmProjectsUbuntu/MARL-CER/trained_agents/20250225_103553_lr_0.0005_tot_timesteps_3504000_anneal_rl_True_normal'\n",
    "\n",
    "network, config, params_training = restore_state(directory)\n",
    "env_type = config['ENV_TYPE']"
   ],
   "id": "65fd7cb1ae26a699"
  },
  {
   "metadata": {},
   "cell_type": "code",
   "outputs": [],
   "execution_count": null,
   "source": [
    "env, env_params = my_env_creator(params, battery_type, env_type=env_type)\n",
    "env_params = env.eval(env_params)"
   ],
   "id": "d5f43dcb73d6cb1d"
  },
  {
   "metadata": {},
   "cell_type": "code",
   "outputs": [],
   "execution_count": null,
   "source": [
    "num_iter = 8760 * 8\n",
    "info, actions = test(env, env_params, network, num_iter, jax.random.PRNGKey(51))\n"
   ],
   "id": "43f250b0857246a4"
  },
  {
   "metadata": {},
   "cell_type": "code",
   "outputs": [],
   "execution_count": null,
   "source": "jax.tree.map(lambda val: val.shape, info)",
   "id": "64d2af3961a1d217"
  },
  {
   "metadata": {},
   "cell_type": "code",
   "outputs": [],
   "execution_count": null,
   "source": "actions.max(), actions.min(), actions.mean()",
   "id": "48f7c2e92bfc0a63"
  },
  {
   "metadata": {},
   "cell_type": "code",
   "outputs": [],
   "execution_count": null,
   "source": "plt.plot(info['soc'])",
   "id": "311565501aa7c5c1"
  },
  {
   "metadata": {},
   "cell_type": "code",
   "outputs": [],
   "execution_count": null,
   "source": "reward_type = 'weig_reward'",
   "id": "fb8409c62c60a056"
  },
  {
   "metadata": {},
   "cell_type": "code",
   "outputs": [],
   "execution_count": null,
   "source": "plt.plot(info[reward_type]['r_trad'])",
   "id": "d1123a37653a363d"
  },
  {
   "metadata": {},
   "cell_type": "code",
   "outputs": [],
   "execution_count": null,
   "source": "plt.plot(info[reward_type]['r_clipping'])",
   "id": "451a3967a9251311"
  },
  {
   "metadata": {},
   "cell_type": "code",
   "outputs": [],
   "execution_count": null,
   "source": "info['pure_reward']['r_clipping'].mean(), info['weig_reward']['r_clipping'].mean()",
   "id": "573a7357f025741"
  },
  {
   "metadata": {},
   "cell_type": "code",
   "outputs": [],
   "execution_count": null,
   "source": "plt.plot(info[reward_type]['r_deg'])",
   "id": "7c3408c22eec093b"
  },
  {
   "metadata": {},
   "cell_type": "code",
   "outputs": [],
   "execution_count": null,
   "source": "plt.plot(info['r_tot'])",
   "id": "c3dda95c430211d9"
  },
  {
   "metadata": {},
   "cell_type": "code",
   "outputs": [],
   "execution_count": null,
   "source": "plt.plot(np.cumsum(info[reward_type]['r_trad']))",
   "id": "f3f864f2592f659a"
  },
  {
   "metadata": {},
   "cell_type": "code",
   "outputs": [],
   "execution_count": null,
   "source": "plt.plot(np.cumsum(info[reward_type]['r_clipping']))",
   "id": "a812e2ef56a0727b"
  },
  {
   "metadata": {},
   "cell_type": "code",
   "outputs": [],
   "execution_count": null,
   "source": "plt.plot(np.cumsum(info[reward_type]['r_deg']))",
   "id": "1944511ad8cd0b77"
  },
  {
   "metadata": {},
   "cell_type": "code",
   "outputs": [],
   "execution_count": null,
   "source": "plt.plot(np.cumsum(info['r_tot']))",
   "id": "5383a9364edbd4fa"
  },
  {
   "metadata": {},
   "cell_type": "code",
   "outputs": [],
   "execution_count": null,
   "source": "print(info['soc'])",
   "id": "9835b4ae5ee1e037"
  },
  {
   "metadata": {},
   "cell_type": "code",
   "outputs": [],
   "execution_count": null,
   "source": "plt.plot(np.cumsum(info[reward_type]['r_deg']))",
   "id": "eeaba0a6cd59abe4"
  },
  {
   "metadata": {},
   "cell_type": "code",
   "outputs": [],
   "execution_count": null,
   "source": "print(info['soc'])",
   "id": "9cfb76447ea4b65e"
  }
 ],
 "metadata": {
  "kernelspec": {
   "display_name": "Python 3",
   "language": "python",
   "name": "python3"
  },
  "language_info": {
   "codemirror_mode": {
    "name": "ipython",
    "version": 2
   },
   "file_extension": ".py",
   "mimetype": "text/x-python",
   "name": "python",
   "nbconvert_exporter": "python",
   "pygments_lexer": "ipython2",
   "version": "2.7.6"
  }
 },
 "nbformat": 4,
 "nbformat_minor": 5
}
