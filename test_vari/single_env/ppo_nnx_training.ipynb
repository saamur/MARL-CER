{
 "cells": [
  {
   "metadata": {},
   "cell_type": "code",
   "outputs": [],
   "execution_count": null,
   "source": [
    "%load_ext autoreload\n",
    "%autoreload 2\n",
    "%matplotlib inline\n",
    "%cd ../.."
   ],
   "id": "6d951f2a67a68e26"
  },
  {
   "metadata": {},
   "cell_type": "code",
   "outputs": [],
   "execution_count": null,
   "source": [
    "import jax\n",
    "import jax.numpy as jnp\n",
    "from flax import nnx\n",
    "from functools import partial\n",
    "from jax_tqdm import scan_tqdm\n",
    "\n",
    "from algorithms.utils import save_state, restore_state\n",
    "\n",
    "import numpy as np"
   ],
   "id": "d893871e5a6ee81e"
  },
  {
   "metadata": {},
   "cell_type": "code",
   "outputs": [],
   "execution_count": null,
   "source": [
    "from ernestogym.envs.single_agent.env_new_clip import MicroGridEnv as NewClipEnv\n",
    "from ernestogym.envs.single_agent.env import MicroGridEnv\n",
    "from ernestogym.envs.single_agent.env_trading_soc import MicroGridEnvSocAction"
   ],
   "id": "7f7a6973c1058074"
  },
  {
   "metadata": {},
   "cell_type": "code",
   "outputs": [],
   "execution_count": null,
   "source": [
    "def my_env_creator(params, battery_type, env_type='normal'):\n",
    "    if env_type == 'normal':\n",
    "        env = MicroGridEnv(params, battery_type)\n",
    "    elif env_type == 'soc_action':\n",
    "        env = MicroGridEnvSocAction(params, battery_type)\n",
    "    elif env_type == 'new_clip':\n",
    "        env = NewClipEnv(params, battery_type)\n",
    "    else:\n",
    "        raise ValueError('Unknown env_type')\n",
    "    return env, env.params"
   ],
   "id": "bca5ca5074468ce4"
  },
  {
   "metadata": {},
   "cell_type": "code",
   "outputs": [],
   "execution_count": null,
   "source": "from ernestogym.envs.single_agent.utils import parameter_generator",
   "id": "c1020842453a8b0c"
  },
  {
   "metadata": {},
   "cell_type": "code",
   "outputs": [],
   "execution_count": null,
   "source": [
    "# pack_options = \"ernestogym/ernesto/data/battery/pack.yaml\"\n",
    "# pack_options = \"ernestogym/ernesto/data/battery/pack_init_full.yaml\"\n",
    "pack_options = \"ernestogym/ernesto/data/battery/pack_init_full_cheap.yaml\"\n",
    "\n",
    "ecm = \"ernestogym/ernesto/data/battery/models/electrical/thevenin_pack.yaml\"\n",
    "# ecm = \"ernestogym/ernesto/data/battery/models/electrical/thevenin_fading_pack.yaml\"\n",
    "r2c = \"ernestogym/ernesto/data/battery/models/thermal/r2c_thermal_pack.yaml\"\n",
    "# bolun = \"ernestogym/ernesto/data/battery/models/aging/bolun_pack.yaml\"\n",
    "bolun = \"ernestogym/ernesto/data/battery/models/aging/bolun_pack.yaml\"\n",
    "# world = \"ernestogym/envs/single_agent/ijcnn_deg_train.yaml\"\n",
    "# world = \"ernestogym/envs/single_agent/ijcnn_deg_train_no_clip.yaml\"\n",
    "# world = \"ernestogym/envs/single_agent/ijcnn_deg_train_only_trad.yaml\"\n",
    "# world = \"ernestogym/envs/single_agent/world_fading.yaml\"\n",
    "# world = \"ernestogym/envs/single_agent/ijcnn_deg_train_new_gen_data.yaml\"\n",
    "world = \"ernestogym/envs/single_agent/ijcnn_deg_train_new_gen_data_new_clip.yaml\"\n",
    "\n",
    "# battery_type = 'fading'\n",
    "# battery_type = 'degrading'\n",
    "battery_type = 'degrading_dropflow'\n",
    "\n",
    "params = parameter_generator(\n",
    "    input_var='current',\n",
    "    battery_options=pack_options,\n",
    "    electrical_model=ecm,\n",
    "    thermal_model=r2c,\n",
    "    aging_model=bolun,\n",
    "    world_options=world,\n",
    "    # use_reward_normalization=True\n",
    "\n",
    ")\n",
    "\n",
    "params"
   ],
   "id": "82d14c7b232e5cb2"
  },
  {
   "metadata": {},
   "cell_type": "code",
   "outputs": [],
   "execution_count": null,
   "source": [
    "# pack_options = \"ernestogym/ernesto/data/battery/pack.yaml\"\n",
    "# pack_options = \"ernestogym/ernesto/data/battery/pack_init_full.yaml\"\n",
    "pack_options = \"ernestogym/ernesto/data/battery/pack_init_full_cheap.yaml\"\n",
    "\n",
    "\n",
    "ecm = \"ernestogym/ernesto/data/battery/models/electrical/thevenin_pack.yaml\"\n",
    "# ecm = \"ernestogym/ernesto/data/battery/models/electrical/thevenin_fading_pack.yaml\"\n",
    "r2c = \"ernestogym/ernesto/data/battery/models/thermal/r2c_thermal_pack.yaml\"\n",
    "# bolun = \"ernestogym/ernesto/data/battery/models/aging/bolun_pack.yaml\"\n",
    "bolun = \"ernestogym/ernesto/data/battery/models/aging/bolun_pack.yaml\"\n",
    "# world = \"ernestogym/envs/single_agent/ijcnn_deg_test.yaml\"\n",
    "# world = \"ernestogym/envs/single_agent/ijcnn_deg_test_no_clip.yaml\"\n",
    "# world = \"ernestogym/envs/single_agent/ijcnn_deg_test_only_trad.yaml\"\n",
    "# world = \"ernestogym/envs/single_agent/world_fading.yaml\"\n",
    "# world = \"ernestogym/envs/single_agent/ijcnn_deg_test_new_gen_data.yaml\"\n",
    "world = \"ernestogym/envs/single_agent/ijcnn_deg_test_new_gen_data_new_clip.yaml\"\n",
    "\n",
    "params_testing = parameter_generator(\n",
    "    input_var='current',\n",
    "    battery_options=pack_options,\n",
    "    electrical_model=ecm,\n",
    "    thermal_model=r2c,\n",
    "    aging_model=bolun,\n",
    "    world_options=world,\n",
    "    # use_reward_normalization=True\n",
    "\n",
    ")\n",
    "\n",
    "params_testing['step']"
   ],
   "id": "fefbd2254dac11f1"
  },
  {
   "metadata": {},
   "cell_type": "code",
   "outputs": [],
   "execution_count": null,
   "source": [
    "from algorithms.ppo import make_train, train_wrapper  # , train_for, train_for_flax\n",
    "from flax.core.frozen_dict import freeze, unfreeze"
   ],
   "id": "5eed094ab856d41f"
  },
  {
   "metadata": {},
   "cell_type": "code",
   "outputs": [],
   "execution_count": null,
   "source": [
    "num_envs = 4\n",
    "\n",
    "total_timesteps = 8760 * num_envs * 200 #876000 * num_envs * 3\n",
    "\n",
    "env_type = 'new_clip'\n",
    "\n",
    "config = {\n",
    "    \"LR\": 1e-3,\n",
    "    'LR_MIN': 1e-5,\n",
    "    \"NUM_ENVS\": num_envs,\n",
    "    \"NUM_STEPS\": 8192, #2048 #10000,\n",
    "    # \"TOTAL_TIMESTEPS\": 100000 * num_envs,\n",
    "    \"TOTAL_TIMESTEPS\": total_timesteps,\n",
    "    \"UPDATE_EPOCHS\": 10,\n",
    "    \"NUM_MINIBATCHES\": 32,\n",
    "    \"NORMALIZE_ENV\": False,\n",
    "    \"GAMMA\": 0.99,\n",
    "    \"GAE_LAMBDA\": 0.98,\n",
    "    \"CLIP_EPS\": 0.25,\n",
    "    \"ENT_COEF\": 0.01,\n",
    "    \"VF_COEF\": 0.5,\n",
    "    \"MAX_GRAD_NORM\": 0.5,\n",
    "    \"NET_ARCH\": (64, 32, 16), #(16, 16, 16),\n",
    "    \"ACTIVATION\": 'tanh',\n",
    "    \"LOGISTIC_FUNCTION_TO_ACTOR\": False,\n",
    "    \"ENV_NAME\": None,\n",
    "    # \"ANNEAL_LR\": False,\n",
    "    'LR_SCHEDULE': 'constant',\n",
    "    'DEBUG': False,\n",
    "    \"NORMALIZE_REWARD_FOR_GAE_AND_TARGETS\": False,\n",
    "    \"NORMALIZE_TARGETS\": False,\n",
    "    \"NORMALIZE_ADVANTAGES\": True,\n",
    "    \"ENV_TYPE\": env_type,\n",
    "    'NETWORK': 'actor_critic',\n",
    "    'USE_WEIGHT_DECAY': True\n",
    "}\n",
    "\n",
    "\n",
    "\n",
    "rng = jax.random.PRNGKey(42)\n",
    "\n",
    "env, env_params = my_env_creator(params, battery_type, env_type=env_type)\n",
    "env, env_params, train_state = make_train(config, env, env_params)\n",
    "\n",
    "env_testing, env_testing_params = my_env_creator(params_testing, battery_type, env_type=env_type)\n",
    "\n",
    "val_rng = jax.random.PRNGKey(51)\n",
    "val_num_iters = 8670*8\n",
    "\n",
    "# out = train_jit(rng)\n",
    "\n",
    "config = freeze(config)"
   ],
   "id": "94b3afbccd3a6476"
  },
  {
   "metadata": {},
   "cell_type": "code",
   "outputs": [],
   "execution_count": null,
   "source": "print(config)",
   "id": "c286cc115d51577c"
  },
  {
   "metadata": {},
   "cell_type": "code",
   "outputs": [],
   "execution_count": null,
   "source": "network, optimizer = nnx.merge(train_state.graph_def, train_state.state)",
   "id": "307c9a2abc8f98cb"
  },
  {
   "metadata": {},
   "cell_type": "code",
   "outputs": [],
   "execution_count": null,
   "source": "network",
   "id": "ab185fd27d8dae9f"
  },
  {
   "metadata": {},
   "cell_type": "code",
   "outputs": [],
   "execution_count": null,
   "source": [
    "import time\n",
    "import matplotlib.pyplot as plt\n",
    "rng = jax.random.PRNGKey(42)\n",
    "t0 = time.time()\n",
    "out = train_wrapper(env, env_params, config, train_state, rng, validate=True, freq_val=10, val_env=env_testing, val_params=env_testing_params, val_rng=val_rng, val_num_iters=val_num_iters)\n",
    "\n",
    "# out = train_for_flax(env, env_params, config, network, optimizer, rng)\n",
    "\n",
    "train_state = out['runner_state'][0]\n",
    "\n",
    "print(f\"time: {time.time() - t0:.2f} s\")\n",
    "plt.plot(out[\"metrics\"][\"returned_episode_returns\"].mean(-1).reshape(-1))\n",
    "plt.xlabel(\"Update Step\")\n",
    "plt.ylabel(\"Return\")\n",
    "plt.show()"
   ],
   "id": "b7dac638bc8da668"
  },
  {
   "metadata": {},
   "cell_type": "code",
   "outputs": [],
   "execution_count": null,
   "source": "out[\"metrics\"]['r_tot'].device",
   "id": "8fcac27127732127"
  },
  {
   "metadata": {},
   "cell_type": "code",
   "outputs": [],
   "execution_count": null,
   "source": "out['val_info']['r_tot'].device",
   "id": "94d67fa724f51088"
  },
  {
   "metadata": {},
   "cell_type": "code",
   "outputs": [],
   "execution_count": null,
   "source": [
    "out2 = jax.device_put(out, device=jax.devices('cpu')[0])\n",
    "out2['val_info']['r_tot'].device"
   ],
   "id": "b6396259a3f54302"
  },
  {
   "metadata": {},
   "cell_type": "code",
   "outputs": [],
   "execution_count": null,
   "source": [
    "network, optimizer = nnx.merge(train_state.graph_def, train_state.state)\n",
    "network"
   ],
   "id": "b1c8213c806e17f"
  },
  {
   "metadata": {},
   "cell_type": "markdown",
   "source": "## State saving",
   "id": "fd98236aae567ccb"
  },
  {
   "metadata": {},
   "cell_type": "code",
   "outputs": [],
   "execution_count": null,
   "source": "save_state(network, config, params, train_info=out['metrics'], val_info=out.get('val_info'), env_type=env_type, additional_info='total_timesteps'+str(total_timesteps)+'_init_full_'+str('full' in pack_options))",
   "id": "a706a33c94a3c2dc"
  },
  {
   "metadata": {},
   "cell_type": "code",
   "outputs": [],
   "execution_count": null,
   "source": "out",
   "id": "7c02ce8138b58cf7"
  },
  {
   "metadata": {},
   "cell_type": "code",
   "outputs": [],
   "execution_count": null,
   "source": [
    "r_trad = out['metrics']['weig_reward']['r_trad'].mean(-1).reshape(-1)\n",
    "r_trad_cum = np.cumsum(r_trad)\n",
    "r_trad.shape"
   ],
   "id": "89d788c8954c37cf"
  },
  {
   "metadata": {},
   "cell_type": "code",
   "outputs": [],
   "execution_count": null,
   "source": [
    "acts = out['metrics']['action'].flatten()\n",
    "acts.min(), acts.max(), acts.mean()"
   ],
   "id": "5d426ff5248ac9aa"
  },
  {
   "metadata": {},
   "cell_type": "code",
   "outputs": [],
   "execution_count": null,
   "source": "plt.plot(r_trad_cum)",
   "id": "1777f74c8c1b49bf"
  },
  {
   "metadata": {},
   "cell_type": "code",
   "outputs": [],
   "execution_count": null,
   "source": [
    "r_tot_cum = np.cumsum(out['metrics']['r_tot'].mean(-1).reshape(-1))\n",
    "plt.plot(r_tot_cum)"
   ],
   "id": "7cf3f10a90306842"
  },
  {
   "metadata": {},
   "cell_type": "markdown",
   "source": "# Testing",
   "id": "96246163b44d4a40"
  },
  {
   "metadata": {},
   "cell_type": "code",
   "outputs": [],
   "execution_count": null,
   "source": [
    "pack_options = \"ernestogym/ernesto/data/battery/pack.yaml\"\n",
    "# pack_options = \"ernestogym/ernesto/data/battery/pack_init_full.yaml\"\n",
    "\n",
    "ecm = \"ernestogym/ernesto/data/battery/models/electrical/thevenin_pack.yaml\"\n",
    "# ecm = \"ernestogym/ernesto/data/battery/models/electrical/thevenin_fading_pack.yaml\"\n",
    "r2c = \"ernestogym/ernesto/data/battery/models/thermal/r2c_thermal_pack.yaml\"\n",
    "# bolun = \"ernestogym/ernesto/data/battery/models/aging/bolun_pack.yaml\"\n",
    "bolun = \"ernestogym/ernesto/data/battery/models/aging/bolun_pack.yaml\"\n",
    "world = \"ernestogym/envs/single_agent/ijcnn_deg_test_only_trad.yaml\"\n",
    "# world = \"ernestogym/envs/single_agent/world_fading.yaml\"\n",
    "\n",
    "# battery_type = 'fading'\n",
    "# battery_type = 'degrading'\n",
    "battery_type = 'degrading_dropflow'\n",
    "\n",
    "params = parameter_generator(\n",
    "    input_var='current',\n",
    "    battery_options=pack_options,\n",
    "    electrical_model=ecm,\n",
    "    thermal_model=r2c,\n",
    "    aging_model=bolun,\n",
    "    world_options=world,\n",
    "    use_reward_normalization=True\n",
    "\n",
    ")\n",
    "\n",
    "params['step']"
   ],
   "id": "744bb7755405812f"
  },
  {
   "metadata": {},
   "cell_type": "code",
   "outputs": [],
   "execution_count": null,
   "source": [
    "@partial(jax.jit, static_argnums=(0, 2, 3))\n",
    "def test(env: MicroGridEnv, env_params, network, num_iter, rng):\n",
    "\n",
    "    rng, _rng = jax.random.split(rng)\n",
    "\n",
    "    obsv, env_state = env.reset(_rng, env_params)\n",
    "\n",
    "    @scan_tqdm(num_iter, print_rate=num_iter // 100)\n",
    "    def _env_step(runner_state, unused):\n",
    "        obsv, env_state, rng = runner_state\n",
    "\n",
    "        pi, _ = network(obsv)\n",
    "\n",
    "        #deterministic action\n",
    "        action = pi.mode()\n",
    "\n",
    "        rng, _rng = jax.random.split(rng)\n",
    "        obsv, env_state, reward, done, info = env.step(_rng, env_state, action, env_params)\n",
    "\n",
    "        runner_state = (obsv, env_state, rng)\n",
    "        return runner_state, (info, action)\n",
    "\n",
    "    runner_state = (obsv, env_state, rng)\n",
    "\n",
    "    runner_state, info = jax.lax.scan(_env_step, runner_state, jnp.arange(num_iter))\n",
    "\n",
    "    return info"
   ],
   "id": "6f4ee3ac886250ee"
  },
  {
   "metadata": {},
   "cell_type": "code",
   "outputs": [],
   "execution_count": null,
   "source": [
    "env, env_params = my_env_creator(params, battery_type, env_type=env_type)\n",
    "env_params = env.eval(env_params)"
   ],
   "id": "c57ff805de14b277"
  },
  {
   "metadata": {},
   "cell_type": "code",
   "outputs": [],
   "execution_count": null,
   "source": [
    "num_iter = 8760 * 8\n",
    "info, actions = test(env, env_params, network, num_iter, jax.random.PRNGKey(51))\n"
   ],
   "id": "377472168e934daa"
  },
  {
   "metadata": {},
   "cell_type": "code",
   "outputs": [],
   "execution_count": null,
   "source": "jax.tree.map(lambda val: val.shape, info)",
   "id": "f7696b81969630d3"
  },
  {
   "metadata": {},
   "cell_type": "code",
   "outputs": [],
   "execution_count": null,
   "source": "actions.max(), actions.min(), actions.mean()",
   "id": "d9fde864baabbec1"
  },
  {
   "metadata": {},
   "cell_type": "code",
   "outputs": [],
   "execution_count": null,
   "source": "plt.plot(info['soc'])",
   "id": "a5a430afa4860bc0"
  },
  {
   "metadata": {},
   "cell_type": "code",
   "outputs": [],
   "execution_count": null,
   "source": "reward_type = 'weig_reward'",
   "id": "23bfc1aed8bfc6f"
  },
  {
   "metadata": {},
   "cell_type": "code",
   "outputs": [],
   "execution_count": null,
   "source": "plt.plot(info[reward_type]['r_trad'])",
   "id": "48d48d91b91e24f3"
  },
  {
   "metadata": {},
   "cell_type": "code",
   "outputs": [],
   "execution_count": null,
   "source": "plt.plot(info[reward_type]['r_clipping'])",
   "id": "5340d8bd6ad63fb2"
  },
  {
   "metadata": {},
   "cell_type": "code",
   "outputs": [],
   "execution_count": null,
   "source": "info['pure_reward']['r_clipping'].mean(), info['weig_reward']['r_clipping'].mean()",
   "id": "ca009043323173b5"
  },
  {
   "metadata": {},
   "cell_type": "code",
   "outputs": [],
   "execution_count": null,
   "source": "plt.plot(info[reward_type]['r_deg'])",
   "id": "e46ad524d4581135"
  },
  {
   "metadata": {},
   "cell_type": "code",
   "outputs": [],
   "execution_count": null,
   "source": "plt.plot(info['r_tot'])",
   "id": "38f90a64e108f6bb"
  },
  {
   "metadata": {},
   "cell_type": "code",
   "outputs": [],
   "execution_count": null,
   "source": "plt.plot(np.cumsum(info[reward_type]['r_trad']))",
   "id": "ea735cd9befe7c18"
  },
  {
   "metadata": {},
   "cell_type": "code",
   "outputs": [],
   "execution_count": null,
   "source": "plt.plot(np.cumsum(info[reward_type]['r_clipping']))",
   "id": "7adb1c25dab86638"
  },
  {
   "metadata": {},
   "cell_type": "code",
   "outputs": [],
   "execution_count": null,
   "source": "plt.plot(np.cumsum(info[reward_type]['r_deg']))",
   "id": "1a0404a657df8bf9"
  },
  {
   "metadata": {},
   "cell_type": "code",
   "outputs": [],
   "execution_count": null,
   "source": "plt.plot(np.cumsum(info['r_tot']))",
   "id": "adf723406856f64b"
  },
  {
   "metadata": {},
   "cell_type": "code",
   "outputs": [],
   "execution_count": null,
   "source": "print(info['soc'])",
   "id": "412b2770e963fc14"
  },
  {
   "metadata": {},
   "cell_type": "code",
   "outputs": [],
   "execution_count": null,
   "source": "plt.plot(np.cumsum(info[reward_type]['r_deg']))",
   "id": "41541cf49cc73e7d"
  },
  {
   "metadata": {},
   "cell_type": "code",
   "outputs": [],
   "execution_count": null,
   "source": "print(info['soc'])",
   "id": "20505d747f0b7f86"
  }
 ],
 "metadata": {
  "kernelspec": {
   "display_name": "Python 3",
   "language": "python",
   "name": "python3"
  },
  "language_info": {
   "codemirror_mode": {
    "name": "ipython",
    "version": 2
   },
   "file_extension": ".py",
   "mimetype": "text/x-python",
   "name": "python",
   "nbconvert_exporter": "python",
   "pygments_lexer": "ipython2",
   "version": "2.7.6"
  }
 },
 "nbformat": 4,
 "nbformat_minor": 5
}
