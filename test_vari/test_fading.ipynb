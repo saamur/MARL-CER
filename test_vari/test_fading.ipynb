{
 "cells": [
  {
   "metadata": {
    "ExecuteTime": {
     "end_time": "2025-02-06T14:08:34.630933Z",
     "start_time": "2025-02-06T14:08:34.259381Z"
    }
   },
   "cell_type": "code",
   "source": [
    "%load_ext autoreload\n",
    "%autoreload 2\n",
    "%matplotlib inline\n",
    "%cd ../"
   ],
   "id": "6a98c0a5ffd23357",
   "outputs": [
    {
     "name": "stdout",
     "output_type": "stream",
     "text": [
      "/media/samuele/Disco/PycharmProjectsUbuntu/MARL-CER\n"
     ]
    }
   ],
   "execution_count": 1
  },
  {
   "metadata": {
    "ExecuteTime": {
     "end_time": "2025-02-06T14:08:34.786016Z",
     "start_time": "2025-02-06T14:08:34.634294Z"
    }
   },
   "cell_type": "code",
   "source": [
    "import os\n",
    "\n",
    "# os.environ[\"JAX_PLATFORM_NAME\"] = \"cpu\"\n",
    "\n",
    "import jax\n",
    "import jax.numpy as jnp"
   ],
   "id": "5ce1ac2d63d7ba02",
   "outputs": [],
   "execution_count": 2
  },
  {
   "metadata": {
    "ExecuteTime": {
     "end_time": "2025-02-06T14:08:35.080974Z",
     "start_time": "2025-02-06T14:08:34.850359Z"
    }
   },
   "cell_type": "code",
   "source": "jax.devices()",
   "id": "9d196ae02fa3c910",
   "outputs": [
    {
     "data": {
      "text/plain": [
       "[CudaDevice(id=0)]"
      ]
     },
     "execution_count": 3,
     "metadata": {},
     "output_type": "execute_result"
    }
   ],
   "execution_count": 3
  },
  {
   "metadata": {
    "ExecuteTime": {
     "end_time": "2025-02-06T14:08:35.098361Z",
     "start_time": "2025-02-06T14:08:35.088174Z"
    }
   },
   "cell_type": "code",
   "source": "jax.devices('cpu')",
   "id": "acdfb3ca8a2022c2",
   "outputs": [
    {
     "data": {
      "text/plain": [
       "[CpuDevice(id=0)]"
      ]
     },
     "execution_count": 4,
     "metadata": {},
     "output_type": "execute_result"
    }
   ],
   "execution_count": 4
  },
  {
   "metadata": {
    "ExecuteTime": {
     "end_time": "2025-02-06T14:08:35.264065Z",
     "start_time": "2025-02-06T14:08:35.135972Z"
    }
   },
   "cell_type": "code",
   "source": [
    "o = jnp.ones(100)\n",
    "o.device"
   ],
   "id": "22a694224ae5ac75",
   "outputs": [
    {
     "data": {
      "text/plain": [
       "CudaDevice(id=0)"
      ]
     },
     "execution_count": 5,
     "metadata": {},
     "output_type": "execute_result"
    }
   ],
   "execution_count": 5
  },
  {
   "cell_type": "code",
   "id": "initial_id",
   "metadata": {
    "collapsed": true,
    "ExecuteTime": {
     "end_time": "2025-02-06T14:08:35.956151Z",
     "start_time": "2025-02-06T14:08:35.312320Z"
    }
   },
   "source": "from ernestogym.envs.single_agent.utils import parameter_generator",
   "outputs": [],
   "execution_count": 6
  },
  {
   "metadata": {
    "ExecuteTime": {
     "end_time": "2025-02-06T14:08:35.972062Z",
     "start_time": "2025-02-06T14:08:35.960920Z"
    }
   },
   "cell_type": "code",
   "source": [
    "import os\n",
    "print(os.getcwd())"
   ],
   "id": "87e09ef71ac1924d",
   "outputs": [
    {
     "name": "stdout",
     "output_type": "stream",
     "text": [
      "/media/samuele/Disco/PycharmProjectsUbuntu/MARL-CER\n"
     ]
    }
   ],
   "execution_count": 7
  },
  {
   "metadata": {
    "ExecuteTime": {
     "end_time": "2025-02-06T14:08:36.038686Z",
     "start_time": "2025-02-06T14:08:36.004355Z"
    }
   },
   "cell_type": "code",
   "source": [
    "pack_options = \"ernestogym/ernesto/data/battery/pack.yaml\"\n",
    "# ecm = \"ernestogym/ernesto/data/battery/models/electrical/thevenin_pack.yaml\"\n",
    "ecm = \"ernestogym/ernesto/data/battery/models/electrical/thevenin_fading_pack.yaml\"\n",
    "r2c = \"ernestogym/ernesto/data/battery/models/thermal/r2c_thermal_pack.yaml\"\n",
    "bolun = \"ernestogym/ernesto/data/battery/models/aging/bolun_pack.yaml\"\n",
    "# world = \"ernestogym/envs/single_agent/world_deg.yaml\"\n",
    "world = \"ernestogym/envs/single_agent/world_fading.yaml\"\n",
    "\n",
    "params = parameter_generator(\n",
    "    input_var='current',\n",
    "    battery_options=pack_options,\n",
    "    electrical_model=ecm,\n",
    "    thermal_model=r2c,\n",
    "    aging_model=bolun,\n",
    "    world_options=world,\n",
    "    use_reward_normalization=True\n",
    "\n",
    ")\n",
    "\n",
    "params"
   ],
   "id": "17c74aee41a4e765",
   "outputs": [
    {
     "data": {
      "text/plain": [
       "{'battery': {'sign_convention': 'passive',\n",
       "  'params': {'nominal_voltage': 350.4,\n",
       "   'nominal_capacity': 60.0,\n",
       "   'nominal_dod': 0.8,\n",
       "   'nominal_lifetime': 3000,\n",
       "   'v_max': 398.4,\n",
       "   'v_min': 288.0,\n",
       "   'temp_ambient': 298.15,\n",
       "   'nominal_cost': 3000},\n",
       "  'bounds': {'voltage': {'low': 288.0, 'high': 398.4},\n",
       "   'current': {'low': -180.0, 'high': 60.0},\n",
       "   'power': {'low': -71712.0, 'high': 23904.0},\n",
       "   'temperature': {'low': 273.15, 'high': 323.15},\n",
       "   'temp_ambient': {'low': 273.15, 'high': 313.15},\n",
       "   'soc': {'low': 0.2, 'high': 0.8},\n",
       "   'soh': {'low': 0.8, 'high': 1.0}},\n",
       "  'init': {'voltage': 288.0,\n",
       "   'current': 0.0,\n",
       "   'power': 0.0,\n",
       "   'temperature': 293.15,\n",
       "   'temp_ambient': 293.15,\n",
       "   'soc': 0.5,\n",
       "   'soh': 1.0}},\n",
       " 'input_var': 'current',\n",
       " 'models_config': [{'type': 'electrical',\n",
       "   'class_name': 'TheveninFadingModel',\n",
       "   'use_fading': True,\n",
       "   'alpha_fading': 0.00066667,\n",
       "   'beta_fading': 1.66667e-07,\n",
       "   'components': {'r0': {'selected_type': 'scalar',\n",
       "     'scalar': 10.0,\n",
       "     'lookup': {'table': 'r0_pack.csv',\n",
       "      'inputs': [{'var': 'temperature', 'label': 'temp', 'unit': 'degC'},\n",
       "       {'var': 'soc', 'label': 'soc', 'unit': None}],\n",
       "      'output': {'var': 'resistance', 'label': 'r0', 'unit': 'ohm'}}},\n",
       "    'r1': {'selected_type': 'scalar',\n",
       "     'scalar': 10.0,\n",
       "     'lookup': {'table': 'r1_pack.csv',\n",
       "      'inputs': [{'var': 'temperature', 'label': 'temp', 'unit': 'degC'},\n",
       "       {'var': 'soc', 'label': 'soc', 'unit': None}],\n",
       "      'output': {'var': 'resistance', 'label': 'r1', 'unit': 'ohm'}}},\n",
       "    'c': {'selected_type': 'scalar',\n",
       "     'scalar': 10.0,\n",
       "     'lookup': {'table': 'c_pack.csv',\n",
       "      'inputs': [{'var': 'temperature', 'label': 'temp', 'unit': 'degC'},\n",
       "       {'var': 'soc', 'label': 'soc', 'unit': None}],\n",
       "      'output': {'var': 'capacity', 'label': 'c', 'unit': 'F'}}},\n",
       "    'v_ocv': {'selected_type': 'scalar',\n",
       "     'scalar': 10.0,\n",
       "     'lookup': {'table': 'voc_pack.csv',\n",
       "      'inputs': [{'var': 'temperature', 'label': 'temp', 'unit': 'degC'},\n",
       "       {'var': 'soc', 'label': 'soc', 'unit': None}],\n",
       "      'output': {'var': 'voltage', 'label': 'voc', 'unit': 'V'}}}}},\n",
       "  {'type': 'thermal',\n",
       "   'class_name': 'R2CThermal',\n",
       "   'components': {'c_term': {'selected_type': 'scalar', 'scalar': 138240},\n",
       "    'r_cond': {'selected_type': 'scalar', 'scalar': 0.0061},\n",
       "    'r_conv': {'selected_type': 'scalar', 'scalar': 0.1994},\n",
       "    'dv_dT': {'selected_type': 'lookup',\n",
       "     'scalar': 0.1,\n",
       "     'lookup': {'inputs': {'soc': [1,\n",
       "        0.9,\n",
       "        0.8,\n",
       "        0.7,\n",
       "        0.6,\n",
       "        0.5,\n",
       "        0.4,\n",
       "        0.3,\n",
       "        0.2,\n",
       "        0.1,\n",
       "        0.0]},\n",
       "      'output': [8e-05,\n",
       "       6e-05,\n",
       "       8e-05,\n",
       "       5e-05,\n",
       "       0.0001,\n",
       "       0.00018,\n",
       "       0.00016,\n",
       "       8e-05,\n",
       "       -5e-05,\n",
       "       -0.00016,\n",
       "       -0.0007]}}}}],\n",
       " 'demand': {'data':           version https://git-lfs.github.com/spec/v1\n",
       "  0  oid sha256:e8ce10e64da3a0ccbb6fcdb238da4b8c7c9...\n",
       "  1                                     size 173844000,\n",
       "  'timestep': 60,\n",
       "  'test_profiles': ['70', '71', '72', '73', '74'],\n",
       "  'data_usage': 'end'},\n",
       " 'generation': {'data':           version https://git-lfs.github.com/spec/v1\n",
       "  0  oid sha256:fba35c4d3aa420c0d1dafb01fbc72fbf564...\n",
       "  1                                      size 22676124,\n",
       "  'timestep': 60,\n",
       "  'data_usage': 'end'},\n",
       " 'market': {'data':           version https://git-lfs.github.com/spec/v1\n",
       "  0  oid sha256:8bc38581a800a0e0d4b6dc22edf7c642c61...\n",
       "  1                                        size 513408,\n",
       "  'timestep': 3600,\n",
       "  'data_usage': 'end'},\n",
       " 'dummy': {'generator': 10, 'market': {'ask': 10, 'bid': 8}},\n",
       " 'day_of_year': True,\n",
       " 'seconds_of_day': True,\n",
       " 'energy_level': False,\n",
       " 'step': 60,\n",
       " 'seed': 42,\n",
       " 'random_battery_init': False,\n",
       " 'random_data_init': False,\n",
       " 'aging_options': {'degradation': False, 'fading': True},\n",
       " 'reward': {'trading_coeff': 1,\n",
       "  'operational_cost_coeff': 1,\n",
       "  'degradation_coeff': 0,\n",
       "  'clip_action_coeff': 1},\n",
       " 'use_reward_normalization': True,\n",
       " 'termination': {'max_iterations': None, 'min_soh': 0.6}}"
      ]
     },
     "execution_count": 8,
     "metadata": {},
     "output_type": "execute_result"
    }
   ],
   "execution_count": 8
  },
  {
   "metadata": {
    "ExecuteTime": {
     "end_time": "2025-02-06T14:08:36.140141Z",
     "start_time": "2025-02-06T14:08:36.050507Z"
    }
   },
   "cell_type": "code",
   "source": "from ernestogym.ernesto.energy_storage.bess_fading import BatteryEnergyStorageSystem",
   "id": "8619a9404480058e",
   "outputs": [],
   "execution_count": 9
  },
  {
   "metadata": {
    "ExecuteTime": {
     "end_time": "2025-02-06T14:08:36.190102Z",
     "start_time": "2025-02-06T14:08:36.145792Z"
    }
   },
   "cell_type": "code",
   "source": [
    "state = BatteryEnergyStorageSystem.get_init_state(models_config=params['models_config'],\n",
    "                                                  battery_options=params['battery'],\n",
    "                                                  input_var=params['input_var'])\n",
    "print(state)"
   ],
   "id": "9008aad008eb43d4",
   "outputs": [
    {
     "name": "stdout",
     "output_type": "stream",
     "text": [
      "BessState(nominal_capacity=Array(60., dtype=float32, weak_type=True), c_max=Array(60., dtype=float32, weak_type=True), temp_ambient=Array(298.15, dtype=float32, weak_type=True), elapsed_time=Array(0., dtype=float32, weak_type=True), electrical_state=ElectricalModelFadingState(alpha_fading=Array(0.00066667, dtype=float32, weak_type=True), beta_fading=Array(1.66667e-07, dtype=float32, weak_type=True), r0_nominal=Array(10., dtype=float32, weak_type=True), r0=Array(10., dtype=float32, weak_type=True), rc=RCState(resistance_nominal=Array(10., dtype=float32, weak_type=True), resistance=Array(10., dtype=float32, weak_type=True), capacity=Array(10., dtype=float32, weak_type=True), i_resistance=Array(0., dtype=float32, weak_type=True)), ocv_potential=Array(10., dtype=float32, weak_type=True), is_active=Array(False, dtype=bool), v=Array(0., dtype=float32, weak_type=True), i=Array(0., dtype=float32, weak_type=True), v_rc=Array(0., dtype=float32, weak_type=True), q=Array(0., dtype=float32, weak_type=True)), thermal_state=ThermalModelState(c_term=Array(138240, dtype=int32, weak_type=True), r_cond=Array(0.0061, dtype=float32, weak_type=True), r_conv=Array(0.1994, dtype=float32, weak_type=True), dv_dT=Array(0.1, dtype=float32, weak_type=True), temp=Array(293.15, dtype=float32, weak_type=True), heat=Array(0., dtype=float32, weak_type=True)), soc_state=SOCModelState(soc=Array(0.5, dtype=float32, weak_type=True), soc_max=Array(0.8, dtype=float32, weak_type=True), soc_min=Array(0.2, dtype=float32, weak_type=True)))\n"
     ]
    }
   ],
   "execution_count": 10
  },
  {
   "metadata": {
    "ExecuteTime": {
     "end_time": "2025-02-06T14:08:36.305886Z",
     "start_time": "2025-02-06T14:08:36.196906Z"
    }
   },
   "cell_type": "code",
   "source": [
    "from time import time\n",
    "\n",
    "t1 = time()\n",
    "state = BatteryEnergyStorageSystem.step(state, 0.5, 1.)\n",
    "print(time() - t1)"
   ],
   "id": "96d1588c5b92a8d1",
   "outputs": [
    {
     "name": "stdout",
     "output_type": "stream",
     "text": [
      "0.09674859046936035\n"
     ]
    }
   ],
   "execution_count": 11
  },
  {
   "metadata": {
    "ExecuteTime": {
     "end_time": "2025-02-06T14:08:38.101336Z",
     "start_time": "2025-02-06T14:08:36.324420Z"
    }
   },
   "cell_type": "code",
   "source": [
    "t1 = time()\n",
    "for i in range(10000):\n",
    "    state = BatteryEnergyStorageSystem.step(state, 0.5, 1.)\n",
    "\n",
    "print(time() - t1)"
   ],
   "id": "42cfce6e775bf106",
   "outputs": [
    {
     "name": "stdout",
     "output_type": "stream",
     "text": [
      "1.7594525814056396\n"
     ]
    }
   ],
   "execution_count": 12
  },
  {
   "metadata": {
    "ExecuteTime": {
     "end_time": "2025-02-06T14:08:38.122576Z",
     "start_time": "2025-02-06T14:08:38.107080Z"
    }
   },
   "cell_type": "code",
   "source": "state",
   "id": "6bd5a7c95e448b83",
   "outputs": [
    {
     "data": {
      "text/plain": [
       "BessState(nominal_capacity=Array(60., dtype=float32, weak_type=True), c_max=Array(0.3178652, dtype=float32, weak_type=True), temp_ambient=Array(298.15, dtype=float32, weak_type=True), elapsed_time=Array(0., dtype=float32, weak_type=True), electrical_state=ElectricalModelFadingState(alpha_fading=Array(0.00066667, dtype=float32, weak_type=True), beta_fading=Array(1.66667e-07, dtype=float32, weak_type=True), r0_nominal=Array(10., dtype=float32, weak_type=True), r0=Array(10.000002, dtype=float32, weak_type=True), rc=RCState(resistance_nominal=Array(10., dtype=float32, weak_type=True), resistance=Array(10.000002, dtype=float32, weak_type=True), capacity=Array(10., dtype=float32, weak_type=True), i_resistance=Array(-0.49999958, dtype=float32, weak_type=True)), ocv_potential=Array(10., dtype=float32, weak_type=True), is_active=Array(False, dtype=bool), v=Array(19.999998, dtype=float32, weak_type=True), i=Array(-0.5, dtype=float32, weak_type=True), v_rc=Array(-4.9999967, dtype=float32, weak_type=True), q=Array(1.3889486, dtype=float32, weak_type=True)), thermal_state=ThermalModelState(c_term=Array(138240, dtype=int32, weak_type=True), r_cond=Array(0.0061, dtype=float32, weak_type=True), r_conv=Array(0.1994, dtype=float32, weak_type=True), dv_dT=Array(0.1, dtype=float32, weak_type=True), temp=Array(298.1536, dtype=float32, weak_type=True), heat=Array(4.9999967, dtype=float32, weak_type=True)), soc_state=SOCModelState(soc=Array(1., dtype=float32, weak_type=True), soc_max=Array(0.8, dtype=float32, weak_type=True), soc_min=Array(0.2, dtype=float32, weak_type=True)))"
      ]
     },
     "execution_count": 13,
     "metadata": {},
     "output_type": "execute_result"
    }
   ],
   "execution_count": 13
  },
  {
   "metadata": {},
   "cell_type": "markdown",
   "source": "# Test parallel of states",
   "id": "9ea17273d6e91202"
  },
  {
   "metadata": {
    "ExecuteTime": {
     "end_time": "2025-02-06T14:08:38.165852Z",
     "start_time": "2025-02-06T14:08:38.153378Z"
    }
   },
   "cell_type": "code",
   "source": [
    "import jax\n",
    "import jax.numpy as jnp"
   ],
   "id": "1b144541fd0b6645",
   "outputs": [],
   "execution_count": 14
  },
  {
   "metadata": {
    "ExecuteTime": {
     "end_time": "2025-02-06T14:08:40.047104Z",
     "start_time": "2025-02-06T14:08:38.197188Z"
    }
   },
   "cell_type": "code",
   "source": [
    "state = BatteryEnergyStorageSystem.get_init_state(models_config=params['models_config'],\n",
    "                                                  battery_options=params['battery'],\n",
    "                                                  input_var=params['input_var'])\n",
    "\n",
    "state_list = []\n",
    "\n",
    "n_states = 400\n",
    "\n",
    "for i in range(n_states):\n",
    "    state = BatteryEnergyStorageSystem.step(state, 0.5, 1.)\n",
    "    state_list.append(state)\n",
    "\n",
    "states = jax.tree.map(lambda *vals: jnp.array(vals), *state_list)"
   ],
   "id": "883a1803e12f99",
   "outputs": [],
   "execution_count": 15
  },
  {
   "metadata": {
    "ExecuteTime": {
     "end_time": "2025-02-06T14:08:40.175387Z",
     "start_time": "2025-02-06T14:08:40.162606Z"
    }
   },
   "cell_type": "code",
   "source": "states.nominal_capacity.shape",
   "id": "c6f8af9eace3c7de",
   "outputs": [
    {
     "data": {
      "text/plain": [
       "(400,)"
      ]
     },
     "execution_count": 16,
     "metadata": {},
     "output_type": "execute_result"
    }
   ],
   "execution_count": 16
  },
  {
   "metadata": {
    "ExecuteTime": {
     "end_time": "2025-02-06T14:08:40.232069Z",
     "start_time": "2025-02-06T14:08:40.214901Z"
    }
   },
   "cell_type": "code",
   "source": [
    "# batched_step = jax.vmap(BatteryEnergyStorageSystem.step)\n",
    "batched_step = jax.jit(jax.vmap(BatteryEnergyStorageSystem.step))   #, backend='cpu')"
   ],
   "id": "e75e58d11d2ade7b",
   "outputs": [],
   "execution_count": 17
  },
  {
   "metadata": {
    "ExecuteTime": {
     "end_time": "2025-02-06T14:08:40.443978Z",
     "start_time": "2025-02-06T14:08:40.274993Z"
    }
   },
   "cell_type": "code",
   "source": [
    "t1 = time()\n",
    "states = batched_step(states, jnp.ones(n_states) * 0.5, jnp.ones(n_states))\n",
    "print(time() - t1)"
   ],
   "id": "69c0d4a810f117f",
   "outputs": [
    {
     "name": "stdout",
     "output_type": "stream",
     "text": [
      "0.1562049388885498\n"
     ]
    }
   ],
   "execution_count": 18
  },
  {
   "metadata": {
    "ExecuteTime": {
     "end_time": "2025-02-06T14:08:40.505962Z",
     "start_time": "2025-02-06T14:08:40.493978Z"
    }
   },
   "cell_type": "code",
   "source": [
    "# with jax.profiler.trace(\"/tmp/jax-trace\", create_perfetto_link=True):\n",
    "#     for i in range(1000):\n",
    "#         states = batched_step(states, jnp.ones(n_states) * 0.5, jnp.ones(n_states))\n",
    "#     jax.block_until_ready(states)"
   ],
   "id": "4f089115dc98855e",
   "outputs": [],
   "execution_count": 19
  },
  {
   "metadata": {
    "ExecuteTime": {
     "end_time": "2025-02-06T14:08:40.816552Z",
     "start_time": "2025-02-06T14:08:40.543577Z"
    }
   },
   "cell_type": "code",
   "source": [
    "t1 = time()\n",
    "for i in range(500):\n",
    "    states = batched_step(states, jnp.ones(n_states) * 0.5, jnp.ones(n_states))\n",
    "\n",
    "jax.block_until_ready(states)\n",
    "print(time() - t1)"
   ],
   "id": "53de7a593d9275b9",
   "outputs": [
    {
     "name": "stdout",
     "output_type": "stream",
     "text": [
      "0.2588820457458496\n"
     ]
    }
   ],
   "execution_count": 20
  },
  {
   "metadata": {
    "ExecuteTime": {
     "end_time": "2025-02-06T14:08:40.875200Z",
     "start_time": "2025-02-06T14:08:40.861222Z"
    }
   },
   "cell_type": "code",
   "source": "states.nominal_capacity.device",
   "id": "12e9a7ffbe9929e2",
   "outputs": [
    {
     "data": {
      "text/plain": [
       "CudaDevice(id=0)"
      ]
     },
     "execution_count": 21,
     "metadata": {},
     "output_type": "execute_result"
    }
   ],
   "execution_count": 21
  },
  {
   "metadata": {
    "ExecuteTime": {
     "end_time": "2025-02-06T14:08:40.930590Z",
     "start_time": "2025-02-06T14:08:40.915817Z"
    }
   },
   "cell_type": "code",
   "source": [
    "from functools import partial\n",
    "\n",
    "@partial(jax.jit, static_argnums=[0])\n",
    "def maybe_loding(fun, states, act, times):\n",
    "    for i in range(500):\n",
    "        states = batched_step(states, act, times)\n",
    "    return states\n",
    "\n",
    "@partial(jax.jit, static_argnums=[0, 1])\n",
    "def fused_loop(fun, num, states, act, times):\n",
    "    def body_fun(i, states):\n",
    "        return fun(states, act[i], times[i])\n",
    "    return jax.lax.fori_loop(0, num, body_fun, states)"
   ],
   "id": "e4f1bccf77b522b7",
   "outputs": [],
   "execution_count": 22
  },
  {
   "metadata": {
    "ExecuteTime": {
     "end_time": "2025-02-06T14:08:41.295107Z",
     "start_time": "2025-02-06T14:08:41.011934Z"
    }
   },
   "cell_type": "code",
   "source": [
    "t1 = time()\n",
    "\n",
    "num = 10000\n",
    "\n",
    "states_new = fused_loop(batched_step, num, states, jnp.ones((num, n_states)) * 0.5, jnp.ones((num, n_states)))\n",
    "\n",
    "jax.block_until_ready(states_new)\n",
    "print(time() - t1)"
   ],
   "id": "9a1869c86401ff47",
   "outputs": [
    {
     "name": "stdout",
     "output_type": "stream",
     "text": [
      "0.26902031898498535\n"
     ]
    }
   ],
   "execution_count": 23
  },
  {
   "metadata": {
    "ExecuteTime": {
     "end_time": "2025-02-06T14:10:46.992160Z",
     "start_time": "2025-02-06T14:10:42.669551Z"
    }
   },
   "cell_type": "code",
   "source": [
    "with jax.profiler.trace(\"/tmp/jax-trace\", create_perfetto_link=True):\n",
    "    states_new = fused_loop(batched_step, num, states, jnp.ones((num, n_states)) * 0.5, jnp.ones((num, n_states)))\n",
    "    jax.block_until_ready(states_new)"
   ],
   "id": "c54ef4357ed52e8e",
   "outputs": [
    {
     "name": "stdout",
     "output_type": "stream",
     "text": [
      "Open URL in browser: https://ui.perfetto.dev/#!/?url=http://127.0.0.1:9001/perfetto_trace.json.gz\n"
     ]
    },
    {
     "name": "stderr",
     "output_type": "stream",
     "text": [
      "127.0.0.1 - - [06/Feb/2025 15:10:46] code 404, message File not found\n",
      "127.0.0.1 - - [06/Feb/2025 15:10:46] \"POST /status HTTP/1.1\" 404 -\n",
      "127.0.0.1 - - [06/Feb/2025 15:10:46] \"GET /perfetto_trace.json.gz HTTP/1.1\" 200 -\n"
     ]
    }
   ],
   "execution_count": 29
  }
 ],
 "metadata": {
  "kernelspec": {
   "display_name": "Python 3",
   "language": "python",
   "name": "python3"
  },
  "language_info": {
   "codemirror_mode": {
    "name": "ipython",
    "version": 2
   },
   "file_extension": ".py",
   "mimetype": "text/x-python",
   "name": "python",
   "nbconvert_exporter": "python",
   "pygments_lexer": "ipython2",
   "version": "2.7.6"
  }
 },
 "nbformat": 4,
 "nbformat_minor": 5
}
